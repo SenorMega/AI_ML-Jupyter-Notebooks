{
 "cells": [
  {
   "cell_type": "markdown",
   "id": "6f313584",
   "metadata": {},
   "source": [
    "---\n",
    "# <center>Principal components analysis (continued)</center>\n",
    "---"
   ]
  },
  {
   "cell_type": "code",
   "execution_count": 1,
   "id": "0b364f7d",
   "metadata": {},
   "outputs": [],
   "source": [
    "import numpy as np\n",
    "import pandas as pd\n",
    "from scipy.linalg import svd\n",
    "from sklearn.datasets import load_boston"
   ]
  },
  {
   "cell_type": "markdown",
   "id": "0e99873b",
   "metadata": {},
   "source": [
    "## Load the data"
   ]
  },
  {
   "cell_type": "code",
   "execution_count": 2,
   "id": "d7e72900",
   "metadata": {},
   "outputs": [],
   "source": [
    "X, _ = load_boston(return_X_y=True)\n",
    "X = pd.DataFrame(X)"
   ]
  },
  {
   "cell_type": "markdown",
   "id": "6e689862",
   "metadata": {},
   "source": [
    "## Normalize"
   ]
  },
  {
   "cell_type": "code",
   "execution_count": 3,
   "id": "32ef600b",
   "metadata": {},
   "outputs": [],
   "source": [
    "mu = X.mean()\n",
    "sigma = X.std()\n",
    "Xnorm = (X - mu)/sigma"
   ]
  },
  {
   "cell_type": "markdown",
   "id": "69a03fe4",
   "metadata": {},
   "source": [
    "## SVD"
   ]
  },
  {
   "cell_type": "code",
   "execution_count": 4,
   "id": "eb295218",
   "metadata": {},
   "outputs": [],
   "source": [
    "U, s, Vt = svd(Xnorm,full_matrices=False)\n",
    "Sigma = np.diag(s)\n",
    "V = Vt.T"
   ]
  },
  {
   "cell_type": "markdown",
   "id": "1327b85d",
   "metadata": {},
   "source": [
    "## Project the data to 4 dimensions"
   ]
  },
  {
   "cell_type": "markdown",
   "id": "79e3ae70",
   "metadata": {},
   "source": [
    "<img src=\"Xrr.png\" alt=\"Drawing\" style=\"width: 170px;\"/>"
   ]
  },
  {
   "cell_type": "code",
   "execution_count": 5,
   "id": "356f013a",
   "metadata": {},
   "outputs": [],
   "source": [
    "r = 4\n",
    "Ur = U[:,:r]\n",
    "Sigmar = Sigma[:r,:r]\n",
    "Xrr = pd.DataFrame(Ur@Sigmar)"
   ]
  },
  {
   "cell_type": "markdown",
   "id": "45b496ee",
   "metadata": {},
   "source": [
    "# Incorporate new data"
   ]
  },
  {
   "cell_type": "markdown",
   "id": "1f56b99e",
   "metadata": {},
   "source": [
    "<img src=\"Xnewdata.png\" alt=\"Drawing\" style=\"width: 170px;\"/>"
   ]
  },
  {
   "cell_type": "code",
   "execution_count": 6,
   "id": "36b7af88",
   "metadata": {},
   "outputs": [],
   "source": [
    "newhome = [0.044, 70, 2.24, 0.0, 0.4, 6.87, 47.4, 7.82, 5.0, 358, 14.8, 390.86, 6.07]\n",
    "newhome_norm = (newhome-mu)/sigma\n",
    "newhome_projected = newhome_norm @ V[:,:r]\n",
    "Xrr.loc[len(Xrr)] = newhome_projected"
   ]
  }
 ],
 "metadata": {
  "kernelspec": {
   "display_name": "Python 3 (ipykernel)",
   "language": "python",
   "name": "python3"
  },
  "language_info": {
   "codemirror_mode": {
    "name": "ipython",
    "version": 3
   },
   "file_extension": ".py",
   "mimetype": "text/x-python",
   "name": "python",
   "nbconvert_exporter": "python",
   "pygments_lexer": "ipython3",
   "version": "3.9.5"
  }
 },
 "nbformat": 4,
 "nbformat_minor": 5
}
