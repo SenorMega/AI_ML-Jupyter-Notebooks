{
 "cells": [
  {
   "cell_type": "markdown",
   "metadata": {
    "nbgrader": {
     "grade": false,
     "grade_id": "cell-a928615886fa790e",
     "locked": true,
     "schema_version": 1,
     "solution": false
    }
   },
   "source": [
    "## Codio Activity 1.2: Exploring a DataFrame \n",
    "\n",
    "**Expected Time: 30 Minutes**\n",
    "\n",
    "**Total Points: 12 Points**\n",
    "\n",
    "In this exercise you will use basic summarization methods on a pandas DataFrame.\n",
    "\n",
    "## Index:\n",
    "\n",
    "- [Problem 1](#Problem-1)\n",
    "- [Problem 2](#Problem-2)\n",
    "- [Problem 3](#Problem-3)"
   ]
  },
  {
   "cell_type": "code",
   "execution_count": 1,
   "metadata": {},
   "outputs": [],
   "source": [
    "import pandas as pd\n",
    "import numpy as np"
   ]
  },
  {
   "cell_type": "code",
   "execution_count": 2,
   "metadata": {},
   "outputs": [],
   "source": [
    "nba = pd.read_csv('data/nba.csv', index_col = 0)"
   ]
  },
  {
   "cell_type": "markdown",
   "metadata": {
    "nbgrader": {
     "grade": false,
     "grade_id": "cell-de5edc1cb59236d3",
     "locked": true,
     "schema_version": 1,
     "solution": false
    }
   },
   "source": [
    "[Back to top](#Index:) \n",
    "\n",
    "## Problem 1\n",
    "\n",
    "### Describing the data\n",
    "\n",
    "**4 Points**\n",
    "\n",
    "Using the DataFrame `nba` loaded above, get a summary of the numeric variables using the `.describe` method.  Assign your results as a DataFrame to `nba_summary` below. "
   ]
  },
  {
   "cell_type": "code",
   "execution_count": 3,
   "metadata": {
    "nbgrader": {
     "grade": false,
     "grade_id": "cell-cb8365b624aba7a4",
     "locked": false,
     "schema_version": 1,
     "solution": true
    }
   },
   "outputs": [
    {
     "name": "stdout",
     "output_type": "stream",
     "text": [
      "           Number         Age      Weight        Salary\n",
      "count  457.000000  457.000000  457.000000  4.570000e+02\n",
      "mean    17.678337   26.938731  221.522976  4.726121e+06\n",
      "std     15.966090    4.404016   26.368343  5.218945e+06\n",
      "min      0.000000   19.000000  161.000000  0.000000e+00\n",
      "25%      5.000000   24.000000  200.000000  1.000000e+06\n",
      "50%     13.000000   26.000000  220.000000  2.658240e+06\n",
      "75%     25.000000   30.000000  240.000000  6.331404e+06\n",
      "max     99.000000   40.000000  307.000000  2.500000e+07\n",
      "<class 'pandas.core.frame.DataFrame'>\n"
     ]
    }
   ],
   "source": [
    "### GRADED\n",
    "\n",
    "nba_summary = None\n",
    "\n",
    "### BEGIN SOLUTION\n",
    "nba_summary = nba.describe()\n",
    "type(nba_summary)\n",
    "### END SOLUTION\n",
    "\n",
    "# Answer check\n",
    "print(nba_summary)\n",
    "print(type(nba_summary))"
   ]
  },
  {
   "cell_type": "code",
   "execution_count": 4,
   "metadata": {
    "nbgrader": {
     "grade": true,
     "grade_id": "cell-ff1d43a9f019258d",
     "locked": true,
     "points": 4,
     "schema_version": 1,
     "solution": false
    }
   },
   "outputs": [],
   "source": [
    "### BEGIN HIDDEN TESTS\n",
    "nba_summary_ = nba.describe()\n",
    "#\n",
    "#\n",
    "#\n",
    "assert type(nba_summary_) == type(nba_summary)\n",
    "pd.testing.assert_frame_equal(nba_summary, nba_summary_)\n",
    "### END HIDDEN TESTS"
   ]
  },
  {
   "cell_type": "markdown",
   "metadata": {
    "nbgrader": {
     "grade": false,
     "grade_id": "cell-ca874c0433a24e23",
     "locked": true,
     "schema_version": 1,
     "solution": false
    }
   },
   "source": [
    "[Back to top](#Index:) \n",
    "\n",
    "### Problem 2\n",
    "\n",
    "### Getting the missing data information \n",
    "\n",
    "**4 Points**\n",
    "\n",
    "In the National Basketball Association (NBA), there are some athletes that do not take the usual career path of playing for a college and then become a professional athlete. Some athletes skip college and go professional directly out of high school. How many athletes in this dataframe skipped college and went straight to the professional level?\n",
    "\n",
    "To find this answer, create a series with the counts of null values for each column in the `nba` DataFrame.  Assign your solution as a pandas Series to `nba_nulls` below.  **HINT**: Use the `.isnull` and `.sum` methods together. "
   ]
  },
  {
   "cell_type": "code",
   "execution_count": 5,
   "metadata": {
    "nbgrader": {
     "grade": false,
     "grade_id": "cell-a78e6c5da54a7081",
     "locked": false,
     "schema_version": 1,
     "solution": true
    }
   },
   "outputs": [
    {
     "name": "stdout",
     "output_type": "stream",
     "text": [
      "Name         0\n",
      "Team         0\n",
      "Position     0\n",
      "Height       0\n",
      "College     84\n",
      "Number       0\n",
      "Age          0\n",
      "Weight       0\n",
      "Salary       0\n",
      "dtype: int64\n",
      "<class 'pandas.core.series.Series'>\n"
     ]
    }
   ],
   "source": [
    "### GRADED\n",
    "\n",
    "nba_nulls = None\n",
    "\n",
    "### BEGIN SOLUTION\n",
    "nba_nulls = nba.isnull().sum()\n",
    "type(nba_nulls)\n",
    "### END SOLUTION\n",
    "\n",
    "# Answer check\n",
    "print(nba_nulls)\n",
    "print(type(nba_nulls))"
   ]
  },
  {
   "cell_type": "code",
   "execution_count": 6,
   "metadata": {
    "nbgrader": {
     "grade": true,
     "grade_id": "cell-8f2d38bd42b42677",
     "locked": true,
     "points": 4,
     "schema_version": 1,
     "solution": false
    }
   },
   "outputs": [],
   "source": [
    "### BEGIN HIDDEN TESTS\n",
    "nba_nulls_ = nba.isnull().sum()\n",
    "#\n",
    "#\n",
    "#\n",
    "assert type(nba_nulls_) == type(nba_nulls)\n",
    "pd.testing.assert_series_equal(nba_nulls, nba_nulls_)\n",
    "### END HIDDEN TESTS"
   ]
  },
  {
   "cell_type": "markdown",
   "metadata": {
    "nbgrader": {
     "grade": false,
     "grade_id": "cell-1cf0384be79af991",
     "locked": true,
     "schema_version": 1,
     "solution": false
    }
   },
   "source": [
    "[Back to top](#Index:) \n",
    "\n",
    "## Problem 3\n",
    "\n",
    "### Examining top 10 rows\n",
    "\n",
    "**4 Points**\n",
    "\n",
    "Use the `.head` method to display the first 10 rows of the nba data.  Assign your results as a DataFrame to `nba_head` below."
   ]
  },
  {
   "cell_type": "code",
   "execution_count": 7,
   "metadata": {
    "nbgrader": {
     "grade": false,
     "grade_id": "cell-531911d9bad842be",
     "locked": false,
     "schema_version": 1,
     "solution": true
    }
   },
   "outputs": [
    {
     "name": "stdout",
     "output_type": "stream",
     "text": [
      "<class 'pandas.core.frame.DataFrame'>\n",
      "(10, 9)\n"
     ]
    }
   ],
   "source": [
    "### GRADED\n",
    "\n",
    "nba_head = None\n",
    "\n",
    "### BEGIN SOLUTION\n",
    "nba_head = nba.head(10)\n",
    "type(nba_head)\n",
    "### END SOLUTION\n",
    "\n",
    "# Answer check\n",
    "print(type(nba_head))\n",
    "print(nba_head.shape)"
   ]
  },
  {
   "cell_type": "code",
   "execution_count": 8,
   "metadata": {
    "nbgrader": {
     "grade": true,
     "grade_id": "cell-a1f9295805746d03",
     "locked": true,
     "points": 4,
     "schema_version": 1,
     "solution": false
    }
   },
   "outputs": [],
   "source": [
    "### BEGIN HIDDEN TESTS\n",
    "nba_head_ = nba.head(10)\n",
    "#\n",
    "#\n",
    "#\n",
    "assert type(nba_head_) == type(nba_head)\n",
    "pd.testing.assert_frame_equal(nba_head, nba_head_, 'Make sure to select the first 10 rows.')\n",
    "### END HIDDEN TESTS"
   ]
  }
 ],
 "metadata": {
  "celltoolbar": "Create Assignment",
  "kernelspec": {
   "display_name": "Python 3 (ipykernel)",
   "language": "python",
   "name": "python3"
  },
  "language_info": {
   "codemirror_mode": {
    "name": "ipython",
    "version": 3
   },
   "file_extension": ".py",
   "mimetype": "text/x-python",
   "name": "python",
   "nbconvert_exporter": "python",
   "pygments_lexer": "ipython3",
   "version": "3.11.4"
  },
  "widgets": {
   "application/vnd.jupyter.widget-state+json": {
    "state": {},
    "version_major": 2,
    "version_minor": 0
   }
  }
 },
 "nbformat": 4,
 "nbformat_minor": 4
}
