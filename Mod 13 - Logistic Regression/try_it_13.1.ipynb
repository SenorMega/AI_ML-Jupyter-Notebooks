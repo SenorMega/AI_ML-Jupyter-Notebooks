{
 "cells": [
  {
   "cell_type": "markdown",
   "metadata": {},
   "source": [
    "### Classification in Business\n",
    "\n",
    "<center>\n",
    "    <img src = 'images/uci_biz.png' />\n",
    "</center>\n",
    "\n",
    "\n",
    "\n",
    "------------\n",
    "\n",
    "\n",
    "For this try-it, you are to explore some available datasets related to business applications of classification.  Using a dataset from the UCI Machine Learning Repository, scan datasets   under the subject area \"BUSINESS\" [link here](https://archive.ics.uci.edu/ml/datasets.php?format=&task=cla&att=&area=bus&numAtt=&numIns=&type=&sort=nameUp&view=table).  Find a dataset that looks interesting to you and decide how you could use Logistic Regression to help make a business decision using the data. \n",
    "\n",
    "In sharing your results, be sure to clearly describe the following:\n",
    "\n",
    "- the dataset and its features\n",
    "- the classification problem -- what are you classifying here?\n",
    "- a business decision that can be supported using the results of the classification model\n",
    "\n",
    "Share your summary on the appropriate discussion board for the activity. \n",
    "\n",
    "\n",
    ".\n",
    ".\n",
    "."
   ]
  },
  {
   "cell_type": "markdown",
   "metadata": {},
   "source": [
    "I chose the Seoul Bike Sharing Demand dataset, which provides numbers of bikes rented per hour and the corresponding weather data. It has 9 features and they are all numerical, except for \"Date\" which can be dropped, and there are no missing values. This means that no modification other than scaling is required.\n",
    "\n",
    "I would use this data to classify whether the company has enough bikes available on upcoming days, given the forecasted weather.\n",
    "\n",
    "This model could be used for both instant and future business decisions, and the decision is whether to deploy more bikes. It can be used instantly to see if the number of bikes available is sufficient for current expected demand, and in the future by using weather forecasts to make sure that enough bikes will be available on those days in the future. Since there are costs associated with deploying more bikes, we can decrease costs by reducing the number of unnecessary deployments, as well as capturing more revenue by having sufficient supply to meet demand.\n",
    "\n",
    "Dataset: https://archive.ics.uci.edu/dataset/560/seoul+bike+sharing+demand"
   ]
  },
  {
   "cell_type": "code",
   "execution_count": null,
   "metadata": {},
   "outputs": [],
   "source": []
  },
  {
   "cell_type": "code",
   "execution_count": null,
   "metadata": {},
   "outputs": [],
   "source": []
  },
  {
   "cell_type": "code",
   "execution_count": null,
   "metadata": {},
   "outputs": [],
   "source": []
  },
  {
   "cell_type": "code",
   "execution_count": null,
   "metadata": {},
   "outputs": [],
   "source": []
  },
  {
   "cell_type": "code",
   "execution_count": null,
   "metadata": {},
   "outputs": [],
   "source": []
  },
  {
   "cell_type": "code",
   "execution_count": null,
   "metadata": {},
   "outputs": [],
   "source": []
  }
 ],
 "metadata": {
  "kernelspec": {
   "display_name": "Python 3",
   "language": "python",
   "name": "python3"
  },
  "language_info": {
   "codemirror_mode": {
    "name": "ipython",
    "version": 3
   },
   "file_extension": ".py",
   "mimetype": "text/x-python",
   "name": "python",
   "nbconvert_exporter": "python",
   "pygments_lexer": "ipython3",
   "version": "3.7.4"
  },
  "widgets": {
   "application/vnd.jupyter.widget-state+json": {
    "state": {},
    "version_major": 2,
    "version_minor": 0
   }
  }
 },
 "nbformat": 4,
 "nbformat_minor": 4
}
