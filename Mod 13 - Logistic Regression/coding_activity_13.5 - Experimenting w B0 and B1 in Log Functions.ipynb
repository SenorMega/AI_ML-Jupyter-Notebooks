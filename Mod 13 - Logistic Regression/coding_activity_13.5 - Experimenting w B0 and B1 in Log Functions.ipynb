{
 "cells": [
  {
   "cell_type": "markdown",
   "metadata": {
    "nbgrader": {
     "grade": false,
     "grade_id": "cell-791ba6396ad0ab57",
     "locked": true,
     "schema_version": 3,
     "solution": false
    }
   },
   "source": [
    "### Codio Activity 13.5: Experimenting with $\\beta_0$ and $\\beta_1$ in Logistic Function\n",
    "\n",
    "**Expected Time: 45 Minutes**\n",
    "\n",
    "**Total Points: 40**\n",
    "\n",
    "This activity focuses on changing the $\\beta_0$ and $\\beta_1$ parameters within the logistic function.  Your goal should be to understand how each parameter effects the resulting sigmoid curve.  In the next activity, you will use a numeric approach to identify the best parameters to fit a given classification problem, here your goal is to see how these parameters change the geometry of the curve.\n",
    "\n",
    "### Index\n",
    "\n",
    "- [Problem 1](#Problem-1)\n",
    "- [Problem 2](#Problem-2)\n",
    "- [Problem 3](#Problem-3)\n",
    "- [Problem 4](#Problem-4)"
   ]
  },
  {
   "cell_type": "code",
   "execution_count": 53,
   "metadata": {},
   "outputs": [],
   "source": [
    "import numpy as np\n",
    "import pandas as pd\n",
    "import matplotlib.pyplot as plt\n",
    "import seaborn as sns\n",
    "from sklearn.linear_model import LogisticRegression"
   ]
  },
  {
   "cell_type": "markdown",
   "metadata": {
    "nbgrader": {
     "grade": false,
     "grade_id": "cell-b3145cdb555b1c0a",
     "locked": true,
     "schema_version": 3,
     "solution": false
    }
   },
   "source": [
    "### The Data\n",
    "\n",
    "For this activity we revisit the credit data and examine only the balance feature to classifiy "
   ]
  },
  {
   "cell_type": "code",
   "execution_count": 54,
   "metadata": {},
   "outputs": [],
   "source": [
    "credit = pd.read_csv('data/default.csv')"
   ]
  },
  {
   "cell_type": "code",
   "execution_count": 55,
   "metadata": {},
   "outputs": [
    {
     "data": {
      "text/html": [
       "<div>\n",
       "<style scoped>\n",
       "    .dataframe tbody tr th:only-of-type {\n",
       "        vertical-align: middle;\n",
       "    }\n",
       "\n",
       "    .dataframe tbody tr th {\n",
       "        vertical-align: top;\n",
       "    }\n",
       "\n",
       "    .dataframe thead th {\n",
       "        text-align: right;\n",
       "    }\n",
       "</style>\n",
       "<table border=\"1\" class=\"dataframe\">\n",
       "  <thead>\n",
       "    <tr style=\"text-align: right;\">\n",
       "      <th></th>\n",
       "      <th>default</th>\n",
       "      <th>student</th>\n",
       "      <th>balance</th>\n",
       "      <th>income</th>\n",
       "    </tr>\n",
       "  </thead>\n",
       "  <tbody>\n",
       "    <tr>\n",
       "      <th>0</th>\n",
       "      <td>No</td>\n",
       "      <td>No</td>\n",
       "      <td>729.526495</td>\n",
       "      <td>44361.625074</td>\n",
       "    </tr>\n",
       "    <tr>\n",
       "      <th>1</th>\n",
       "      <td>No</td>\n",
       "      <td>Yes</td>\n",
       "      <td>817.180407</td>\n",
       "      <td>12106.134700</td>\n",
       "    </tr>\n",
       "    <tr>\n",
       "      <th>2</th>\n",
       "      <td>No</td>\n",
       "      <td>No</td>\n",
       "      <td>1073.549164</td>\n",
       "      <td>31767.138947</td>\n",
       "    </tr>\n",
       "    <tr>\n",
       "      <th>3</th>\n",
       "      <td>No</td>\n",
       "      <td>No</td>\n",
       "      <td>529.250605</td>\n",
       "      <td>35704.493935</td>\n",
       "    </tr>\n",
       "    <tr>\n",
       "      <th>4</th>\n",
       "      <td>No</td>\n",
       "      <td>No</td>\n",
       "      <td>785.655883</td>\n",
       "      <td>38463.495879</td>\n",
       "    </tr>\n",
       "  </tbody>\n",
       "</table>\n",
       "</div>"
      ],
      "text/plain": [
       "  default student      balance        income\n",
       "0      No      No   729.526495  44361.625074\n",
       "1      No     Yes   817.180407  12106.134700\n",
       "2      No      No  1073.549164  31767.138947\n",
       "3      No      No   529.250605  35704.493935\n",
       "4      No      No   785.655883  38463.495879"
      ]
     },
     "execution_count": 55,
     "metadata": {},
     "output_type": "execute_result"
    }
   ],
   "source": [
    "credit.head()"
   ]
  },
  {
   "cell_type": "code",
   "execution_count": 56,
   "metadata": {},
   "outputs": [],
   "source": [
    "y = np.where(credit['default'] == 'Yes', 1, 0)"
   ]
  },
  {
   "cell_type": "code",
   "execution_count": 57,
   "metadata": {},
   "outputs": [
    {
     "data": {
      "image/png": "[encoded data removed]",
      "text/plain": [
       "<Figure size 432x288 with 1 Axes>"
      ]
     },
     "metadata": {
      "needs_background": "light"
     },
     "output_type": "display_data"
    }
   ],
   "source": [
    "sns.scatterplot(data = credit, x = 'balance', y = y, hue = 'default', legend = False)\n",
    "plt.yticks([0, 1], ['No', 'Yes']);"
   ]
  },
  {
   "cell_type": "markdown",
   "metadata": {
    "nbgrader": {
     "grade": false,
     "grade_id": "cell-f2336459569e8739",
     "locked": true,
     "schema_version": 3,
     "solution": false
    }
   },
   "source": [
    "[Back to top](#-Index)\n",
    "\n",
    "### Problem 1\n",
    "\n",
    "### Function for Plotting \n",
    "\n",
    "**10 Points**\n",
    "\n",
    "Use the formula below to create a function that takes in a value for `x`, `beta_0`, and `beta_1`, and returns:\n",
    "\n",
    "$$\\text{sigmoid}(f, \\beta_0, \\beta_1) = \\frac{1}{1 + e^{-(\\beta_0 + \\beta_1x})}$$\n",
    "\n"
   ]
  },
  {
   "cell_type": "code",
   "execution_count": 58,
   "metadata": {
    "nbgrader": {
     "grade": false,
     "grade_id": "cell-82f7695f61644a38",
     "locked": false,
     "schema_version": 3,
     "solution": true
    }
   },
   "outputs": [
    {
     "data": {
      "text/plain": [
       "array([0.5       , 0.73105858, 0.88079708])"
      ]
     },
     "execution_count": 58,
     "metadata": {},
     "output_type": "execute_result"
    }
   ],
   "source": [
    "### GRADED\n",
    "\n",
    "def sigmoid(x, beta_0, beta_1):\n",
    "    \"\"\"Implements sigmoid function with linear parameters\n",
    "    beta_0 and beta_1.\n",
    "    \n",
    "    Parameters\n",
    "    ----------\n",
    "    x: type `np.ndarray`\n",
    "       1D NumPy array of domain inputs\n",
    "    beta_0: type `float`\n",
    "        float representing y-intercept of linear exponent\n",
    "    beta_1: type `float`\n",
    "        float representing slope of linear exponent\n",
    "        \n",
    "    Returns array of values size len(x)\n",
    "    \"\"\"\n",
    "    return None\n",
    "\n",
    "### BEGIN SOLUTION\n",
    "def sigmoid(x, beta_0, beta_1):\n",
    "    return 1/(1 + np.exp(-(beta_0 + beta_1*x)))\n",
    "### END SOLUTION\n",
    "\n",
    "# Answer check\n",
    "sigmoid(np.array([-1, 0, 1]), 1, 1)"
   ]
  },
  {
   "cell_type": "code",
   "execution_count": 44,
   "metadata": {
    "nbgrader": {
     "grade": true,
     "grade_id": "cell-7fd6dc925edb824d",
     "locked": true,
     "points": 10,
     "schema_version": 3,
     "solution": false
    }
   },
   "outputs": [],
   "source": [
    "### BEGIN HIDDEN TESTS\n",
    "def sigmoid_(x, beta_0, beta_1):\n",
    "    return 1/(1 + np.exp(-(beta_0 + beta_1*x)))\n",
    "x = np.linspace(0, 2600, 100)\n",
    "#\n",
    "#\n",
    "#\n",
    "np.testing.assert_array_equal(sigmoid_(x, 1, 1), sigmoid(x, 1, 1))\n",
    "### END HIDDEN TESTS"
   ]
  },
  {
   "cell_type": "markdown",
   "metadata": {
    "nbgrader": {
     "grade": false,
     "grade_id": "cell-d8534418970b50d2",
     "locked": true,
     "schema_version": 3,
     "solution": false
    }
   },
   "source": [
    "[Back to top](#-Index)\n",
    "\n",
    "### Problem 2\n",
    "\n",
    "### Varying $\\beta_0$\n",
    "\n",
    "**10 Points**\n",
    "\n",
    "Below, the image shows three curves plotted, all with $\\beta_1 = 0.01$, and with $\\beta_0 = 5, 10, 15$.  Enter your answer as an integer with the appropriate $\\beta_0$ value to the respective variables `a`, `b`, and `c` below.\n",
    "\n",
    "1. $\\beta_0 = 15$\n",
    "2. $\\beta_0 = 10$\n",
    "3. $\\beta_0 = 5$\n",
    "\n",
    "<center>\n",
    "    <img src = 'images/betasopt.png' />\n",
    "</center>"
   ]
  },
  {
   "cell_type": "code",
   "execution_count": 59,
   "metadata": {
    "nbgrader": {
     "grade": false,
     "grade_id": "cell-95212fdf35297017",
     "locked": false,
     "schema_version": 3,
     "solution": true
    }
   },
   "outputs": [
    {
     "name": "stdout",
     "output_type": "stream",
     "text": [
      "<class 'int'>\n"
     ]
    }
   ],
   "source": [
    "### GRADED\n",
    "\n",
    "#assign integer values for beta0 to appropriate variable 5, 10, or 15\n",
    "a = ''\n",
    "b = ''\n",
    "c = ''\n",
    "\n",
    "### BEGIN SOLUTION\n",
    "a = 5\n",
    "b = 10\n",
    "c = 15\n",
    "### END SOLUTION\n",
    "\n",
    "# Answer check\n",
    "print(type(a))"
   ]
  },
  {
   "cell_type": "code",
   "execution_count": 46,
   "metadata": {
    "nbgrader": {
     "grade": true,
     "grade_id": "cell-27474ec37db7a0f8",
     "locked": true,
     "points": 10,
     "schema_version": 3,
     "solution": false
    }
   },
   "outputs": [],
   "source": [
    "### BEGIN HIDDEN TESTS\n",
    "a_ = 5\n",
    "b_ = 10\n",
    "c_ = 15\n",
    "#\n",
    "#\n",
    "#\n",
    "assert a == a_\n",
    "assert b == b_\n",
    "assert c == c_\n",
    "### END HIDDEN TESTS"
   ]
  },
  {
   "cell_type": "markdown",
   "metadata": {
    "nbgrader": {
     "grade": false,
     "grade_id": "cell-39ac9a853830d2d1",
     "locked": true,
     "schema_version": 3,
     "solution": false
    }
   },
   "source": [
    "[Back to top](#-Index)\n",
    "\n",
    "### Problem 3\n",
    "\n",
    "### Varying $\\beta_1$\n",
    "\n",
    "**10 Points**\n",
    "\n",
    "Now, compare the given values for $\\beta_1$ with $\\beta_0 = 10$ and match the correct curve with the given value as a float below.\n",
    "\n",
    "1. $\\beta_1 = -0.025$\n",
    "2. $\\beta_1 = -0.01$\n",
    "3. $\\beta_1 = -0.005$\n",
    "\n",
    "\n",
    "<center>\n",
    "    <img src = 'images/p3.png' />\n",
    "</center>"
   ]
  },
  {
   "cell_type": "code",
   "execution_count": 60,
   "metadata": {
    "nbgrader": {
     "grade": false,
     "grade_id": "cell-b1b274b79f2263da",
     "locked": false,
     "schema_version": 3,
     "solution": true
    }
   },
   "outputs": [
    {
     "name": "stdout",
     "output_type": "stream",
     "text": [
      "<class 'float'>\n"
     ]
    }
   ],
   "source": [
    "### GRADED\n",
    "\n",
    "#assign float values for beta0 to appropriate variable -0.025, 0.01, or 0.005 below\n",
    "a = ''\n",
    "b = ''\n",
    "c = ''\n",
    "\n",
    "### BEGIN SOLUTION\n",
    "a = -0.01\n",
    "b = -0.025\n",
    "c = -0.005\n",
    "### END SOLUTION\n",
    "\n",
    "# Answer check\n",
    "print(type(a))"
   ]
  },
  {
   "cell_type": "code",
   "execution_count": 48,
   "metadata": {
    "nbgrader": {
     "grade": true,
     "grade_id": "cell-b0ddad1a3d645c3f",
     "locked": true,
     "points": 10,
     "schema_version": 3,
     "solution": false
    }
   },
   "outputs": [],
   "source": [
    "### BEGIN HIDDEN TESTS\n",
    "a_ = -0.01\n",
    "b_ = -0.025\n",
    "c_ = -0.005\n",
    "#\n",
    "#\n",
    "#\n",
    "assert a == a_\n",
    "assert b == b_\n",
    "assert c == c_\n",
    "### END HIDDEN TESTS"
   ]
  },
  {
   "cell_type": "markdown",
   "metadata": {
    "nbgrader": {
     "grade": false,
     "grade_id": "cell-90a2101d3a21abf2",
     "locked": true,
     "schema_version": 3,
     "solution": false
    }
   },
   "source": [
    "[Back to top](#-Index)\n",
    "\n",
    "### Problem 4\n",
    "\n",
    "### Comparing to `LogisticRegression` estimator\n",
    "\n",
    "**10 Points**\n",
    "\n",
    "Finally, identify the values that the scikitlearn estimator `LogisticRegression` suggests for $\\beta_0$ and $\\beta_1$.  Assign these as floats to `beta_0` and `beta_1` below.  "
   ]
  },
  {
   "cell_type": "code",
   "execution_count": 66,
   "metadata": {
    "nbgrader": {
     "grade": false,
     "grade_id": "cell-c79b63d4fe747d3c",
     "locked": false,
     "schema_version": 3,
     "solution": true
    }
   },
   "outputs": [
    {
     "name": "stdout",
     "output_type": "stream",
     "text": [
      "-10.651328236506073\n",
      "0.0054989155471654085\n",
      "0.0 2654.322576280184\n",
      "x  [   0.            2.6026026     5.20520521    7.80780781   10.41041041\n",
      "   13.01301301   15.61561562   18.21821822   20.82082082   23.42342342\n",
      "   26.02602603   28.62862863   31.23123123   33.83383383   36.43643644\n",
      "   39.03903904   41.64164164   44.24424424   46.84684685   49.44944945\n",
      "   52.05205205   54.65465465   57.25725726   59.85985986   62.46246246\n",
      "   65.06506507   67.66766767   70.27027027   72.87287287   75.47547548\n",
      "   78.07807808   80.68068068   83.28328328   85.88588589   88.48848849\n",
      "   91.09109109   93.69369369   96.2962963    98.8988989   101.5015015\n",
      "  104.1041041   106.70670671  109.30930931  111.91191191  114.51451451\n",
      "  117.11711712  119.71971972  122.32232232  124.92492492  127.52752753\n",
      "  130.13013013  132.73273273  135.33533534  137.93793794  140.54054054\n",
      "  143.14314314  145.74574575  148.34834835  150.95095095  153.55355355\n",
      "  156.15615616  158.75875876  161.36136136  163.96396396  166.56656657\n",
      "  169.16916917  171.77177177  174.37437437  176.97697698  179.57957958\n",
      "  182.18218218  184.78478478  187.38738739  189.98998999  192.59259259\n",
      "  195.1951952   197.7977978   200.4004004   203.003003    205.60560561\n",
      "  208.20820821  210.81081081  213.41341341  216.01601602  218.61861862\n",
      "  221.22122122  223.82382382  226.42642643  229.02902903  231.63163163\n",
      "  234.23423423  236.83683684  239.43943944  242.04204204  244.64464464\n",
      "  247.24724725  249.84984985  252.45245245  255.05505506  257.65765766\n",
      "  260.26026026  262.86286286  265.46546547  268.06806807  270.67067067\n",
      "  273.27327327  275.87587588  278.47847848  281.08108108  283.68368368\n",
      "  286.28628629  288.88888889  291.49149149  294.09409409  296.6966967\n",
      "  299.2992993   301.9019019   304.5045045   307.10710711  309.70970971\n",
      "  312.31231231  314.91491491  317.51751752  320.12012012  322.72272272\n",
      "  325.32532533  327.92792793  330.53053053  333.13313313  335.73573574\n",
      "  338.33833834  340.94094094  343.54354354  346.14614615  348.74874875\n",
      "  351.35135135  353.95395395  356.55655656  359.15915916  361.76176176\n",
      "  364.36436436  366.96696697  369.56956957  372.17217217  374.77477477\n",
      "  377.37737738  379.97997998  382.58258258  385.18518519  387.78778779\n",
      "  390.39039039  392.99299299  395.5955956   398.1981982   400.8008008\n",
      "  403.4034034   406.00600601  408.60860861  411.21121121  413.81381381\n",
      "  416.41641642  419.01901902  421.62162162  424.22422422  426.82682683\n",
      "  429.42942943  432.03203203  434.63463463  437.23723724  439.83983984\n",
      "  442.44244244  445.04504505  447.64764765  450.25025025  452.85285285\n",
      "  455.45545546  458.05805806  460.66066066  463.26326326  465.86586587\n",
      "  468.46846847  471.07107107  473.67367367  476.27627628  478.87887888\n",
      "  481.48148148  484.08408408  486.68668669  489.28928929  491.89189189\n",
      "  494.49449449  497.0970971   499.6996997   502.3023023   504.9049049\n",
      "  507.50750751  510.11011011  512.71271271  515.31531532  517.91791792\n",
      "  520.52052052  523.12312312  525.72572573  528.32832833  530.93093093\n",
      "  533.53353353  536.13613614  538.73873874  541.34134134  543.94394394\n",
      "  546.54654655  549.14914915  551.75175175  554.35435435  556.95695696\n",
      "  559.55955956  562.16216216  564.76476476  567.36736737  569.96996997\n",
      "  572.57257257  575.17517518  577.77777778  580.38038038  582.98298298\n",
      "  585.58558559  588.18818819  590.79079079  593.39339339  595.995996\n",
      "  598.5985986   601.2012012   603.8038038   606.40640641  609.00900901\n",
      "  611.61161161  614.21421421  616.81681682  619.41941942  622.02202202\n",
      "  624.62462462  627.22722723  629.82982983  632.43243243  635.03503504\n",
      "  637.63763764  640.24024024  642.84284284  645.44544545  648.04804805\n",
      "  650.65065065  653.25325325  655.85585586  658.45845846  661.06106106\n",
      "  663.66366366  666.26626627  668.86886887  671.47147147  674.07407407\n",
      "  676.67667668  679.27927928  681.88188188  684.48448448  687.08708709\n",
      "  689.68968969  692.29229229  694.89489489  697.4974975   700.1001001\n",
      "  702.7027027   705.30530531  707.90790791  710.51051051  713.11311311\n",
      "  715.71571572  718.31831832  720.92092092  723.52352352  726.12612613\n",
      "  728.72872873  731.33133133  733.93393393  736.53653654  739.13913914\n",
      "  741.74174174  744.34434434  746.94694695  749.54954955  752.15215215\n",
      "  754.75475475  757.35735736  759.95995996  762.56256256  765.16516517\n",
      "  767.76776777  770.37037037  772.97297297  775.57557558  778.17817818\n",
      "  780.78078078  783.38338338  785.98598599  788.58858859  791.19119119\n",
      "  793.79379379  796.3963964   798.998999    801.6016016   804.2042042\n",
      "  806.80680681  809.40940941  812.01201201  814.61461461  817.21721722\n",
      "  819.81981982  822.42242242  825.02502503  827.62762763  830.23023023\n",
      "  832.83283283  835.43543544  838.03803804  840.64064064  843.24324324\n",
      "  845.84584585  848.44844845  851.05105105  853.65365365  856.25625626\n",
      "  858.85885886  861.46146146  864.06406406  866.66666667  869.26926927\n",
      "  871.87187187  874.47447447  877.07707708  879.67967968  882.28228228\n",
      "  884.88488488  887.48748749  890.09009009  892.69269269  895.2952953\n",
      "  897.8978979   900.5005005   903.1031031   905.70570571  908.30830831\n",
      "  910.91091091  913.51351351  916.11611612  918.71871872  921.32132132\n",
      "  923.92392392  926.52652653  929.12912913  931.73173173  934.33433433\n",
      "  936.93693694  939.53953954  942.14214214  944.74474474  947.34734735\n",
      "  949.94994995  952.55255255  955.15515516  957.75775776  960.36036036\n",
      "  962.96296296  965.56556557  968.16816817  970.77077077  973.37337337\n",
      "  975.97597598  978.57857858  981.18118118  983.78378378  986.38638639\n",
      "  988.98898899  991.59159159  994.19419419  996.7967968   999.3993994\n",
      " 1002.002002   1004.6046046  1007.20720721 1009.80980981 1012.41241241\n",
      " 1015.01501502 1017.61761762 1020.22022022 1022.82282282 1025.42542543\n",
      " 1028.02802803 1030.63063063 1033.23323323 1035.83583584 1038.43843844\n",
      " 1041.04104104 1043.64364364 1046.24624625 1048.84884885 1051.45145145\n",
      " 1054.05405405 1056.65665666 1059.25925926 1061.86186186 1064.46446446\n",
      " 1067.06706707 1069.66966967 1072.27227227 1074.87487487 1077.47747748\n",
      " 1080.08008008 1082.68268268 1085.28528529 1087.88788789 1090.49049049\n",
      " 1093.09309309 1095.6956957  1098.2982983  1100.9009009  1103.5035035\n",
      " 1106.10610611 1108.70870871 1111.31131131 1113.91391391 1116.51651652\n",
      " 1119.11911912 1121.72172172 1124.32432432 1126.92692693 1129.52952953\n",
      " 1132.13213213 1134.73473473 1137.33733734 1139.93993994 1142.54254254\n",
      " 1145.14514515 1147.74774775 1150.35035035 1152.95295295 1155.55555556\n",
      " 1158.15815816 1160.76076076 1163.36336336 1165.96596597 1168.56856857\n",
      " 1171.17117117 1173.77377377 1176.37637638 1178.97897898 1181.58158158\n",
      " 1184.18418418 1186.78678679 1189.38938939 1191.99199199 1194.59459459\n",
      " 1197.1971972  1199.7997998  1202.4024024  1205.00500501 1207.60760761\n",
      " 1210.21021021 1212.81281281 1215.41541542 1218.01801802 1220.62062062\n",
      " 1223.22322322 1225.82582583 1228.42842843 1231.03103103 1233.63363363\n",
      " 1236.23623624 1238.83883884 1241.44144144 1244.04404404 1246.64664665\n",
      " 1249.24924925 1251.85185185 1254.45445445 1257.05705706 1259.65965966\n",
      " 1262.26226226 1264.86486486 1267.46746747 1270.07007007 1272.67267267\n",
      " 1275.27527528 1277.87787788 1280.48048048 1283.08308308 1285.68568569\n",
      " 1288.28828829 1290.89089089 1293.49349349 1296.0960961  1298.6986987\n",
      " 1301.3013013  1303.9039039  1306.50650651 1309.10910911 1311.71171171\n",
      " 1314.31431431 1316.91691692 1319.51951952 1322.12212212 1324.72472472\n",
      " 1327.32732733 1329.92992993 1332.53253253 1335.13513514 1337.73773774\n",
      " 1340.34034034 1342.94294294 1345.54554555 1348.14814815 1350.75075075\n",
      " 1353.35335335 1355.95595596 1358.55855856 1361.16116116 1363.76376376\n",
      " 1366.36636637 1368.96896897 1371.57157157 1374.17417417 1376.77677678\n",
      " 1379.37937938 1381.98198198 1384.58458458 1387.18718719 1389.78978979\n",
      " 1392.39239239 1394.99499499 1397.5975976  1400.2002002  1402.8028028\n",
      " 1405.40540541 1408.00800801 1410.61061061 1413.21321321 1415.81581582\n",
      " 1418.41841842 1421.02102102 1423.62362362 1426.22622623 1428.82882883\n",
      " 1431.43143143 1434.03403403 1436.63663664 1439.23923924 1441.84184184\n",
      " 1444.44444444 1447.04704705 1449.64964965 1452.25225225 1454.85485485\n",
      " 1457.45745746 1460.06006006 1462.66266266 1465.26526527 1467.86786787\n",
      " 1470.47047047 1473.07307307 1475.67567568 1478.27827828 1480.88088088\n",
      " 1483.48348348 1486.08608609 1488.68868869 1491.29129129 1493.89389389\n",
      " 1496.4964965  1499.0990991  1501.7017017  1504.3043043  1506.90690691\n",
      " 1509.50950951 1512.11211211 1514.71471471 1517.31731732 1519.91991992\n",
      " 1522.52252252 1525.12512513 1527.72772773 1530.33033033 1532.93293293\n",
      " 1535.53553554 1538.13813814 1540.74074074 1543.34334334 1545.94594595\n",
      " 1548.54854855 1551.15115115 1553.75375375 1556.35635636 1558.95895896\n",
      " 1561.56156156 1564.16416416 1566.76676677 1569.36936937 1571.97197197\n",
      " 1574.57457457 1577.17717718 1579.77977978 1582.38238238 1584.98498498\n",
      " 1587.58758759 1590.19019019 1592.79279279 1595.3953954  1597.997998\n",
      " 1600.6006006  1603.2032032  1605.80580581 1608.40840841 1611.01101101\n",
      " 1613.61361361 1616.21621622 1618.81881882 1621.42142142 1624.02402402\n",
      " 1626.62662663 1629.22922923 1631.83183183 1634.43443443 1637.03703704\n",
      " 1639.63963964 1642.24224224 1644.84484484 1647.44744745 1650.05005005\n",
      " 1652.65265265 1655.25525526 1657.85785786 1660.46046046 1663.06306306\n",
      " 1665.66566567 1668.26826827 1670.87087087 1673.47347347 1676.07607608\n",
      " 1678.67867868 1681.28128128 1683.88388388 1686.48648649 1689.08908909\n",
      " 1691.69169169 1694.29429429 1696.8968969  1699.4994995  1702.1021021\n",
      " 1704.7047047  1707.30730731 1709.90990991 1712.51251251 1715.11511512\n",
      " 1717.71771772 1720.32032032 1722.92292292 1725.52552553 1728.12812813\n",
      " 1730.73073073 1733.33333333 1735.93593594 1738.53853854 1741.14114114\n",
      " 1743.74374374 1746.34634635 1748.94894895 1751.55155155 1754.15415415\n",
      " 1756.75675676 1759.35935936 1761.96196196 1764.56456456 1767.16716717\n",
      " 1769.76976977 1772.37237237 1774.97497497 1777.57757758 1780.18018018\n",
      " 1782.78278278 1785.38538539 1787.98798799 1790.59059059 1793.19319319\n",
      " 1795.7957958  1798.3983984  1801.001001   1803.6036036  1806.20620621\n",
      " 1808.80880881 1811.41141141 1814.01401401 1816.61661662 1819.21921922\n",
      " 1821.82182182 1824.42442442 1827.02702703 1829.62962963 1832.23223223\n",
      " 1834.83483483 1837.43743744 1840.04004004 1842.64264264 1845.24524525\n",
      " 1847.84784785 1850.45045045 1853.05305305 1855.65565566 1858.25825826\n",
      " 1860.86086086 1863.46346346 1866.06606607 1868.66866867 1871.27127127\n",
      " 1873.87387387 1876.47647648 1879.07907908 1881.68168168 1884.28428428\n",
      " 1886.88688689 1889.48948949 1892.09209209 1894.69469469 1897.2972973\n",
      " 1899.8998999  1902.5025025  1905.10510511 1907.70770771 1910.31031031\n",
      " 1912.91291291 1915.51551552 1918.11811812 1920.72072072 1923.32332332\n",
      " 1925.92592593 1928.52852853 1931.13113113 1933.73373373 1936.33633634\n",
      " 1938.93893894 1941.54154154 1944.14414414 1946.74674675 1949.34934935\n",
      " 1951.95195195 1954.55455455 1957.15715716 1959.75975976 1962.36236236\n",
      " 1964.96496496 1967.56756757 1970.17017017 1972.77277277 1975.37537538\n",
      " 1977.97797798 1980.58058058 1983.18318318 1985.78578579 1988.38838839\n",
      " 1990.99099099 1993.59359359 1996.1961962  1998.7987988  2001.4014014\n",
      " 2004.004004   2006.60660661 2009.20920921 2011.81181181 2014.41441441\n",
      " 2017.01701702 2019.61961962 2022.22222222 2024.82482482 2027.42742743\n",
      " 2030.03003003 2032.63263263 2035.23523524 2037.83783784 2040.44044044\n",
      " 2043.04304304 2045.64564565 2048.24824825 2050.85085085 2053.45345345\n",
      " 2056.05605606 2058.65865866 2061.26126126 2063.86386386 2066.46646647\n",
      " 2069.06906907 2071.67167167 2074.27427427 2076.87687688 2079.47947948\n",
      " 2082.08208208 2084.68468468 2087.28728729 2089.88988989 2092.49249249\n",
      " 2095.0950951  2097.6976977  2100.3003003  2102.9029029  2105.50550551\n",
      " 2108.10810811 2110.71071071 2113.31331331 2115.91591592 2118.51851852\n",
      " 2121.12112112 2123.72372372 2126.32632633 2128.92892893 2131.53153153\n",
      " 2134.13413413 2136.73673674 2139.33933934 2141.94194194 2144.54454454\n",
      " 2147.14714715 2149.74974975 2152.35235235 2154.95495495 2157.55755756\n",
      " 2160.16016016 2162.76276276 2165.36536537 2167.96796797 2170.57057057\n",
      " 2173.17317317 2175.77577578 2178.37837838 2180.98098098 2183.58358358\n",
      " 2186.18618619 2188.78878879 2191.39139139 2193.99399399 2196.5965966\n",
      " 2199.1991992  2201.8018018  2204.4044044  2207.00700701 2209.60960961\n",
      " 2212.21221221 2214.81481481 2217.41741742 2220.02002002 2222.62262262\n",
      " 2225.22522523 2227.82782783 2230.43043043 2233.03303303 2235.63563564\n",
      " 2238.23823824 2240.84084084 2243.44344344 2246.04604605 2248.64864865\n",
      " 2251.25125125 2253.85385385 2256.45645646 2259.05905906 2261.66166166\n",
      " 2264.26426426 2266.86686687 2269.46946947 2272.07207207 2274.67467467\n",
      " 2277.27727728 2279.87987988 2282.48248248 2285.08508509 2287.68768769\n",
      " 2290.29029029 2292.89289289 2295.4954955  2298.0980981  2300.7007007\n",
      " 2303.3033033  2305.90590591 2308.50850851 2311.11111111 2313.71371371\n",
      " 2316.31631632 2318.91891892 2321.52152152 2324.12412412 2326.72672673\n",
      " 2329.32932933 2331.93193193 2334.53453453 2337.13713714 2339.73973974\n",
      " 2342.34234234 2344.94494494 2347.54754755 2350.15015015 2352.75275275\n",
      " 2355.35535536 2357.95795796 2360.56056056 2363.16316316 2365.76576577\n",
      " 2368.36836837 2370.97097097 2373.57357357 2376.17617618 2378.77877878\n",
      " 2381.38138138 2383.98398398 2386.58658659 2389.18918919 2391.79179179\n",
      " 2394.39439439 2396.996997   2399.5995996  2402.2022022  2404.8048048\n",
      " 2407.40740741 2410.01001001 2412.61261261 2415.21521522 2417.81781782\n",
      " 2420.42042042 2423.02302302 2425.62562563 2428.22822823 2430.83083083\n",
      " 2433.43343343 2436.03603604 2438.63863864 2441.24124124 2443.84384384\n",
      " 2446.44644645 2449.04904905 2451.65165165 2454.25425425 2456.85685686\n",
      " 2459.45945946 2462.06206206 2464.66466466 2467.26726727 2469.86986987\n",
      " 2472.47247247 2475.07507508 2477.67767768 2480.28028028 2482.88288288\n",
      " 2485.48548549 2488.08808809 2490.69069069 2493.29329329 2495.8958959\n",
      " 2498.4984985  2501.1011011  2503.7037037  2506.30630631 2508.90890891\n",
      " 2511.51151151 2514.11411411 2516.71671672 2519.31931932 2521.92192192\n",
      " 2524.52452452 2527.12712713 2529.72972973 2532.33233233 2534.93493493\n",
      " 2537.53753754 2540.14014014 2542.74274274 2545.34534535 2547.94794795\n",
      " 2550.55055055 2553.15315315 2555.75575576 2558.35835836 2560.96096096\n",
      " 2563.56356356 2566.16616617 2568.76876877 2571.37137137 2573.97397397\n",
      " 2576.57657658 2579.17917918 2581.78178178 2584.38438438 2586.98698699\n",
      " 2589.58958959 2592.19219219 2594.79479479 2597.3973974  2600.        ]\n",
      "x_values  [   0.           26.81133915   53.62267831   80.43401746  107.24535662\n",
      "  134.05669577  160.86803493  187.67937408  214.49071323  241.30205239\n",
      "  268.11339154  294.9247307   321.73606985  348.54740901  375.35874816\n",
      "  402.17008732  428.98142647  455.79276562  482.60410478  509.41544393\n",
      "  536.22678309  563.03812224  589.8494614   616.66080055  643.4721397\n",
      "  670.28347886  697.09481801  723.90615717  750.71749632  777.52883548\n",
      "  804.34017463  831.15151378  857.96285294  884.77419209  911.58553125\n",
      "  938.3968704   965.20820956  992.01954871 1018.83088787 1045.64222702\n",
      " 1072.45356617 1099.26490533 1126.07624448 1152.88758364 1179.69892279\n",
      " 1206.51026195 1233.3216011  1260.13294025 1286.94427941 1313.75561856\n",
      " 1340.56695772 1367.37829687 1394.18963603 1421.00097518 1447.81231433\n",
      " 1474.62365349 1501.43499264 1528.2463318  1555.05767095 1581.86901011\n",
      " 1608.68034926 1635.49168842 1662.30302757 1689.11436672 1715.92570588\n",
      " 1742.73704503 1769.54838419 1796.35972334 1823.1710625  1849.98240165\n",
      " 1876.7937408  1903.60507996 1930.41641911 1957.22775827 1984.03909742\n",
      " 2010.85043658 2037.66177573 2064.47311488 2091.28445404 2118.09579319\n",
      " 2144.90713235 2171.7184715  2198.52981066 2225.34114981 2252.15248897\n",
      " 2278.96382812 2305.77516727 2332.58650643 2359.39784558 2386.20918474\n",
      " 2413.02052389 2439.83186305 2466.6432022  2493.45454135 2520.26588051\n",
      " 2547.07721966 2573.88855882 2600.69989797 2627.51123713 2654.32257628]\n"
     ]
    },
    {
     "data": {
      "image/png": "[encoded data removed]",
      "text/plain": [
       "<Figure size 432x288 with 1 Axes>"
      ]
     },
     "metadata": {
      "needs_background": "light"
     },
     "output_type": "display_data"
    }
   ],
   "source": [
    "### GRADED\n",
    "\n",
    "beta_0 = ''\n",
    "beta_1 = ''\n",
    "\n",
    "### BEGIN SOLUTION\n",
    "clf = LogisticRegression().fit(credit[['balance']], y)\n",
    "beta_0 = float(clf.intercept_)\n",
    "beta_1 = float(clf.coef_)\n",
    "\n",
    "print(beta_0)\n",
    "print(beta_1)\n",
    "### END SOLUTION\n",
    "\n",
    "# print('x ', x)\n",
    "x = np.linspace(0, 2600, 1000)\n",
    "x_values = np.linspace(credit['balance'].min(), credit['balance'].max(), 100)\n",
    "print(credit['balance'].min(), credit['balance'].max())\n",
    "print('x ', x)\n",
    "print('x_values ', x_values)\n",
    "\n",
    "\n",
    "\n",
    "# Answer check\n",
    "sns.scatterplot(data = credit, x = 'balance', y = y, hue = 'default', legend = False)\n",
    "plt.yticks([0, 1], ['No', 'Yes'])\n",
    "# plt.plot(x, sigmoid(x, beta_0, beta_1), '--', color = 'black', label = r'$\\sigma(x)$')\n",
    "plt.plot(x, sigmoid(x, -5, beta_1),  color = 'orange', label = r'$\\sigma(x)$')\n",
    "plt.plot(x, sigmoid(x, -10, beta_1), color = 'red', label = r'$\\sigma(x)$')\n",
    "plt.plot(x, sigmoid(x, -15, beta_1),  color = 'green', label = r'$\\sigma(x)$')\n",
    "plt.legend(fontsize = 12)\n",
    "plt.title(r'Optimal Values of $\\beta_0$ and $\\beta_1$');"
   ]
  },
  {
   "cell_type": "code",
   "execution_count": 50,
   "metadata": {
    "nbgrader": {
     "grade": true,
     "grade_id": "cell-e6a019f118a423bf",
     "locked": true,
     "points": 10,
     "schema_version": 3,
     "solution": false
    }
   },
   "outputs": [],
   "source": [
    "### BEGIN HIDDEN TESTS\n",
    "clf_ = LogisticRegression().fit(credit[['balance']], y)\n",
    "beta_0_ = float(clf_.intercept_)\n",
    "beta_1_ = float(clf_.coef_)\n",
    "#\n",
    "#\n",
    "#\n",
    "assert beta_0 == beta_0_\n",
    "assert beta_1 == beta_1_\n",
    "### END HIDDEN TESTS"
   ]
  },
  {
   "cell_type": "markdown",
   "metadata": {
    "nbgrader": {
     "grade": false,
     "grade_id": "cell-9eefdb017de6ee97",
     "locked": true,
     "schema_version": 3,
     "solution": false
    }
   },
   "source": [
    "Now that you have a feel for how these parameters control the shape of the sigmoid curve, we will introduce a loss function that we try to minimize in order to solve for the optimal values of $\\beta_0$ and $\\beta_1$."
   ]
  },
  {
   "cell_type": "code",
   "execution_count": null,
   "metadata": {},
   "outputs": [],
   "source": []
  },
  {
   "cell_type": "code",
   "execution_count": null,
   "metadata": {},
   "outputs": [],
   "source": []
  },
  {
   "cell_type": "code",
   "execution_count": null,
   "metadata": {},
   "outputs": [],
   "source": []
  },
  {
   "cell_type": "code",
   "execution_count": null,
   "metadata": {},
   "outputs": [],
   "source": []
  }
 ],
 "metadata": {
  "celltoolbar": "Create Assignment",
  "kernelspec": {
   "display_name": "Python 3 (ipykernel)",
   "language": "python",
   "name": "python3"
  },
  "language_info": {
   "codemirror_mode": {
    "name": "ipython",
    "version": 3
   },
   "file_extension": ".py",
   "mimetype": "text/x-python",
   "name": "python",
   "nbconvert_exporter": "python",
   "pygments_lexer": "ipython3",
   "version": "3.9.11"
  }
 },
 "nbformat": 4,
 "nbformat_minor": 4
}
