{
 "cells": [
  {
   "cell_type": "code",
   "execution_count": 1,
   "id": "a5147542",
   "metadata": {},
   "outputs": [],
   "source": [
    "from scipy.stats import norm\n",
    "import numpy as np\n",
    "import matplotlib.pyplot as plt\n",
    "from sklearn.linear_model import LogisticRegression\n",
    "import pandas as pd"
   ]
  },
  {
   "cell_type": "code",
   "execution_count": 2,
   "id": "457cbcb2",
   "metadata": {},
   "outputs": [],
   "source": [
    "x = np.linspace(-10,10,100)\n",
    "y1 = norm.pdf(x,loc=-3,scale=2)\n",
    "y2 = norm.pdf(x,loc=3,scale=2)\n",
    "p1 = 0.5\n",
    "p2 = 1-p1\n",
    "\n",
    "z = y1*p1/(y1*p1+y2*p2)\n",
    "xx = np.log((1-z)/z)"
   ]
  },
  {
   "cell_type": "code",
   "execution_count": 3,
   "id": "bc36ae2f",
   "metadata": {},
   "outputs": [
    {
     "data": {
      "text/plain": [
       "[<matplotlib.lines.Line2D at 0x7f12bb71ea30>]"
      ]
     },
     "execution_count": 3,
     "metadata": {},
     "output_type": "execute_result"
    },
    {
     "data": {
      "image/png": "[encoded data removed]",
      "text/plain": [
       "<Figure size 432x288 with 1 Axes>"
      ]
     },
     "metadata": {
      "needs_background": "light"
     },
     "output_type": "display_data"
    }
   ],
   "source": [
    "plt.plot(x,y1)\n",
    "plt.plot(x,y2)\n",
    "plt.plot(x,z)"
   ]
  },
  {
   "cell_type": "code",
   "execution_count": 4,
   "id": "72b75940",
   "metadata": {},
   "outputs": [
    {
     "data": {
      "text/plain": [
       "[<matplotlib.lines.Line2D at 0x7f12b362b8e0>]"
      ]
     },
     "execution_count": 4,
     "metadata": {},
     "output_type": "execute_result"
    },
    {
     "data": {
      "image/png": "[encoded data removed]",
      "text/plain": [
       "<Figure size 432x288 with 1 Axes>"
      ]
     },
     "metadata": {
      "needs_background": "light"
     },
     "output_type": "display_data"
    }
   ],
   "source": [
    "plt.plot(x,xx)"
   ]
  },
  {
   "cell_type": "code",
   "execution_count": 5,
   "id": "6676559c",
   "metadata": {},
   "outputs": [],
   "source": [
    "x1samp = norm.rvs(size=1000,loc=-3,scale=2)\n",
    "x2samp = norm.rvs(size=1000,loc= 3,scale=2)"
   ]
  },
  {
   "cell_type": "code",
   "execution_count": 6,
   "id": "7e0d6251",
   "metadata": {},
   "outputs": [
    {
     "data": {
      "text/plain": [
       "(array([  4.,  28.,  95., 145., 266., 238., 150.,  52.,  17.,   5.]),\n",
       " array([-3.42605961, -2.12186661, -0.8176736 ,  0.48651941,  1.79071241,\n",
       "         3.09490542,  4.39909843,  5.70329143,  7.00748444,  8.31167744,\n",
       "         9.61587045]),\n",
       " <BarContainer object of 10 artists>)"
      ]
     },
     "execution_count": 6,
     "metadata": {},
     "output_type": "execute_result"
    },
    {
     "data": {
      "image/png": "[encoded data removed]",
      "text/plain": [
       "<Figure size 432x288 with 1 Axes>"
      ]
     },
     "metadata": {
      "needs_background": "light"
     },
     "output_type": "display_data"
    }
   ],
   "source": [
    "plt.hist(x1samp)\n",
    "plt.hist(x2samp)"
   ]
  },
  {
   "cell_type": "code",
   "execution_count": 7,
   "id": "ad5f6193",
   "metadata": {},
   "outputs": [
    {
     "data": {
      "text/plain": [
       "(-3.076630176062188, 2.9186146211637873, 4.11506579161306)"
      ]
     },
     "execution_count": 7,
     "metadata": {},
     "output_type": "execute_result"
    }
   ],
   "source": [
    "mu1 = np.mean(x1samp)\n",
    "mu2 = np.mean(x2samp)\n",
    "sigma2 = np.var(x1samp)\n",
    "mu1, mu2, sigma2"
   ]
  },
  {
   "cell_type": "code",
   "execution_count": 8,
   "id": "fb694ab1",
   "metadata": {},
   "outputs": [
    {
     "data": {
      "text/plain": [
       "(0.11510653551593227, 1.4569013232898778)"
      ]
     },
     "execution_count": 8,
     "metadata": {},
     "output_type": "execute_result"
    }
   ],
   "source": [
    "beta1 = -(mu1-mu2)/sigma2\n",
    "beta0 = -(mu2**2 - mu1**2)/2/sigma2\n",
    "(beta0, beta1)"
   ]
  },
  {
   "cell_type": "code",
   "execution_count": 9,
   "id": "1de24377",
   "metadata": {},
   "outputs": [
    {
     "data": {
      "text/html": [
       "<div>\n",
       "<style scoped>\n",
       "    .dataframe tbody tr th:only-of-type {\n",
       "        vertical-align: middle;\n",
       "    }\n",
       "\n",
       "    .dataframe tbody tr th {\n",
       "        vertical-align: top;\n",
       "    }\n",
       "\n",
       "    .dataframe thead th {\n",
       "        text-align: right;\n",
       "    }\n",
       "</style>\n",
       "<table border=\"1\" class=\"dataframe\">\n",
       "  <thead>\n",
       "    <tr style=\"text-align: right;\">\n",
       "      <th></th>\n",
       "      <th>x</th>\n",
       "      <th>y</th>\n",
       "    </tr>\n",
       "  </thead>\n",
       "  <tbody>\n",
       "    <tr>\n",
       "      <th>0</th>\n",
       "      <td>-4.490834</td>\n",
       "      <td>0.0</td>\n",
       "    </tr>\n",
       "    <tr>\n",
       "      <th>1</th>\n",
       "      <td>-3.981045</td>\n",
       "      <td>0.0</td>\n",
       "    </tr>\n",
       "    <tr>\n",
       "      <th>2</th>\n",
       "      <td>0.092311</td>\n",
       "      <td>0.0</td>\n",
       "    </tr>\n",
       "    <tr>\n",
       "      <th>3</th>\n",
       "      <td>-3.502382</td>\n",
       "      <td>0.0</td>\n",
       "    </tr>\n",
       "    <tr>\n",
       "      <th>4</th>\n",
       "      <td>-6.420597</td>\n",
       "      <td>0.0</td>\n",
       "    </tr>\n",
       "    <tr>\n",
       "      <th>...</th>\n",
       "      <td>...</td>\n",
       "      <td>...</td>\n",
       "    </tr>\n",
       "    <tr>\n",
       "      <th>1995</th>\n",
       "      <td>-0.480135</td>\n",
       "      <td>1.0</td>\n",
       "    </tr>\n",
       "    <tr>\n",
       "      <th>1996</th>\n",
       "      <td>1.049884</td>\n",
       "      <td>1.0</td>\n",
       "    </tr>\n",
       "    <tr>\n",
       "      <th>1997</th>\n",
       "      <td>4.847671</td>\n",
       "      <td>1.0</td>\n",
       "    </tr>\n",
       "    <tr>\n",
       "      <th>1998</th>\n",
       "      <td>4.404430</td>\n",
       "      <td>1.0</td>\n",
       "    </tr>\n",
       "    <tr>\n",
       "      <th>1999</th>\n",
       "      <td>3.141769</td>\n",
       "      <td>1.0</td>\n",
       "    </tr>\n",
       "  </tbody>\n",
       "</table>\n",
       "<p>2000 rows × 2 columns</p>\n",
       "</div>"
      ],
      "text/plain": [
       "             x    y\n",
       "0    -4.490834  0.0\n",
       "1    -3.981045  0.0\n",
       "2     0.092311  0.0\n",
       "3    -3.502382  0.0\n",
       "4    -6.420597  0.0\n",
       "...        ...  ...\n",
       "1995 -0.480135  1.0\n",
       "1996  1.049884  1.0\n",
       "1997  4.847671  1.0\n",
       "1998  4.404430  1.0\n",
       "1999  3.141769  1.0\n",
       "\n",
       "[2000 rows x 2 columns]"
      ]
     },
     "execution_count": 9,
     "metadata": {},
     "output_type": "execute_result"
    }
   ],
   "source": [
    "df = pd.DataFrame({'x':np.append(x1samp,x2samp),'y':np.append(np.zeros(1000),np.ones(1000))})\n",
    "df"
   ]
  },
  {
   "cell_type": "code",
   "execution_count": 10,
   "id": "d96e1f61",
   "metadata": {},
   "outputs": [],
   "source": [
    "df['bin'] = pd.cut(df['x'],bins=20)"
   ]
  },
  {
   "cell_type": "code",
   "execution_count": 11,
   "id": "357ad522",
   "metadata": {},
   "outputs": [
    {
     "data": {
      "text/html": [
       "<div>\n",
       "<style scoped>\n",
       "    .dataframe tbody tr th:only-of-type {\n",
       "        vertical-align: middle;\n",
       "    }\n",
       "\n",
       "    .dataframe tbody tr th {\n",
       "        vertical-align: top;\n",
       "    }\n",
       "\n",
       "    .dataframe thead th {\n",
       "        text-align: right;\n",
       "    }\n",
       "</style>\n",
       "<table border=\"1\" class=\"dataframe\">\n",
       "  <thead>\n",
       "    <tr style=\"text-align: right;\">\n",
       "      <th></th>\n",
       "      <th>x</th>\n",
       "      <th>y</th>\n",
       "    </tr>\n",
       "    <tr>\n",
       "      <th>bin</th>\n",
       "      <th></th>\n",
       "      <th></th>\n",
       "    </tr>\n",
       "  </thead>\n",
       "  <tbody>\n",
       "    <tr>\n",
       "      <th>(-9.612, -8.632]</th>\n",
       "      <td>-9.179790</td>\n",
       "      <td>0.000000</td>\n",
       "    </tr>\n",
       "    <tr>\n",
       "      <th>(-8.632, -7.672]</th>\n",
       "      <td>-8.188763</td>\n",
       "      <td>0.000000</td>\n",
       "    </tr>\n",
       "    <tr>\n",
       "      <th>(-7.672, -6.711]</th>\n",
       "      <td>-7.108364</td>\n",
       "      <td>0.000000</td>\n",
       "    </tr>\n",
       "    <tr>\n",
       "      <th>(-6.711, -5.751]</th>\n",
       "      <td>-6.182468</td>\n",
       "      <td>0.000000</td>\n",
       "    </tr>\n",
       "    <tr>\n",
       "      <th>(-5.751, -4.791]</th>\n",
       "      <td>-5.215411</td>\n",
       "      <td>0.000000</td>\n",
       "    </tr>\n",
       "    <tr>\n",
       "      <th>(-4.791, -3.83]</th>\n",
       "      <td>-4.278204</td>\n",
       "      <td>0.000000</td>\n",
       "    </tr>\n",
       "    <tr>\n",
       "      <th>(-3.83, -2.87]</th>\n",
       "      <td>-3.390353</td>\n",
       "      <td>0.005714</td>\n",
       "    </tr>\n",
       "    <tr>\n",
       "      <th>(-2.87, -1.909]</th>\n",
       "      <td>-2.415176</td>\n",
       "      <td>0.040201</td>\n",
       "    </tr>\n",
       "    <tr>\n",
       "      <th>(-1.909, -0.949]</th>\n",
       "      <td>-1.448186</td>\n",
       "      <td>0.101911</td>\n",
       "    </tr>\n",
       "    <tr>\n",
       "      <th>(-0.949, 0.0116]</th>\n",
       "      <td>-0.462497</td>\n",
       "      <td>0.467153</td>\n",
       "    </tr>\n",
       "    <tr>\n",
       "      <th>(0.0116, 0.972]</th>\n",
       "      <td>0.471604</td>\n",
       "      <td>0.626087</td>\n",
       "    </tr>\n",
       "    <tr>\n",
       "      <th>(0.972, 1.932]</th>\n",
       "      <td>1.458218</td>\n",
       "      <td>0.906040</td>\n",
       "    </tr>\n",
       "    <tr>\n",
       "      <th>(1.932, 2.893]</th>\n",
       "      <td>2.448462</td>\n",
       "      <td>0.956522</td>\n",
       "    </tr>\n",
       "    <tr>\n",
       "      <th>(2.893, 3.853]</th>\n",
       "      <td>3.296806</td>\n",
       "      <td>0.995283</td>\n",
       "    </tr>\n",
       "    <tr>\n",
       "      <th>(3.853, 4.814]</th>\n",
       "      <td>4.293355</td>\n",
       "      <td>1.000000</td>\n",
       "    </tr>\n",
       "    <tr>\n",
       "      <th>(4.814, 5.774]</th>\n",
       "      <td>5.210598</td>\n",
       "      <td>1.000000</td>\n",
       "    </tr>\n",
       "    <tr>\n",
       "      <th>(5.774, 6.735]</th>\n",
       "      <td>6.147768</td>\n",
       "      <td>1.000000</td>\n",
       "    </tr>\n",
       "    <tr>\n",
       "      <th>(6.735, 7.695]</th>\n",
       "      <td>7.122948</td>\n",
       "      <td>1.000000</td>\n",
       "    </tr>\n",
       "    <tr>\n",
       "      <th>(7.695, 8.655]</th>\n",
       "      <td>8.152585</td>\n",
       "      <td>1.000000</td>\n",
       "    </tr>\n",
       "    <tr>\n",
       "      <th>(8.655, 9.616]</th>\n",
       "      <td>9.615870</td>\n",
       "      <td>1.000000</td>\n",
       "    </tr>\n",
       "  </tbody>\n",
       "</table>\n",
       "</div>"
      ],
      "text/plain": [
       "                         x         y\n",
       "bin                                 \n",
       "(-9.612, -8.632] -9.179790  0.000000\n",
       "(-8.632, -7.672] -8.188763  0.000000\n",
       "(-7.672, -6.711] -7.108364  0.000000\n",
       "(-6.711, -5.751] -6.182468  0.000000\n",
       "(-5.751, -4.791] -5.215411  0.000000\n",
       "(-4.791, -3.83]  -4.278204  0.000000\n",
       "(-3.83, -2.87]   -3.390353  0.005714\n",
       "(-2.87, -1.909]  -2.415176  0.040201\n",
       "(-1.909, -0.949] -1.448186  0.101911\n",
       "(-0.949, 0.0116] -0.462497  0.467153\n",
       "(0.0116, 0.972]   0.471604  0.626087\n",
       "(0.972, 1.932]    1.458218  0.906040\n",
       "(1.932, 2.893]    2.448462  0.956522\n",
       "(2.893, 3.853]    3.296806  0.995283\n",
       "(3.853, 4.814]    4.293355  1.000000\n",
       "(4.814, 5.774]    5.210598  1.000000\n",
       "(5.774, 6.735]    6.147768  1.000000\n",
       "(6.735, 7.695]    7.122948  1.000000\n",
       "(7.695, 8.655]    8.152585  1.000000\n",
       "(8.655, 9.616]    9.615870  1.000000"
      ]
     },
     "execution_count": 11,
     "metadata": {},
     "output_type": "execute_result"
    }
   ],
   "source": [
    "df2 = df.groupby('bin').agg('mean')\n",
    "df2"
   ]
  },
  {
   "cell_type": "code",
   "execution_count": 12,
   "id": "ae097571",
   "metadata": {},
   "outputs": [],
   "source": [
    "def sigmoid(beta0,beta1,x):\n",
    "    return 1/(1+np.exp(-beta0 - beta1*x))"
   ]
  },
  {
   "cell_type": "code",
   "execution_count": null,
   "id": "9d9afc94",
   "metadata": {},
   "outputs": [],
   "source": []
  },
  {
   "cell_type": "code",
   "execution_count": 13,
   "id": "dda2b044",
   "metadata": {},
   "outputs": [
    {
     "data": {
      "text/plain": [
       "LogisticRegression(random_state=0)"
      ]
     },
     "execution_count": 13,
     "metadata": {},
     "output_type": "execute_result"
    }
   ],
   "source": [
    "model = LogisticRegression(random_state=0)\n",
    "model.fit(df.iloc[:,:1],df['y'])"
   ]
  },
  {
   "cell_type": "code",
   "execution_count": 14,
   "id": "cc1fa667",
   "metadata": {},
   "outputs": [
    {
     "data": {
      "text/plain": [
       "(array([[1.4047029]]), array([0.13113401]))"
      ]
     },
     "execution_count": 14,
     "metadata": {},
     "output_type": "execute_result"
    }
   ],
   "source": [
    "model.coef_, model.intercept_"
   ]
  },
  {
   "cell_type": "code",
   "execution_count": 15,
   "id": "74a70d49",
   "metadata": {},
   "outputs": [
    {
     "data": {
      "image/png": "[encoded data removed]",
      "text/plain": [
       "<Figure size 432x288 with 1 Axes>"
      ]
     },
     "metadata": {
      "needs_background": "light"
     },
     "output_type": "display_data"
    }
   ],
   "source": [
    "plt.scatter(df['x'],df['y'])\n",
    "plt.plot(df2['x'],df2['y'],'ro')\n",
    "plt.plot(x, sigmoid(beta0,beta1,x),'g',linewidth=4)\n",
    "plt.plot(x, sigmoid(model.intercept_[0],model.coef_[0][0],x),'c')\n",
    "plt.plot(x, sigmoid(0,6/4,x),'m--')\n",
    "plt.grid()"
   ]
  },
  {
   "cell_type": "code",
   "execution_count": 16,
   "id": "9402de88",
   "metadata": {},
   "outputs": [
    {
     "data": {
      "text/plain": [
       "(-0.01517039154586343, 1.4779342863559473)"
      ]
     },
     "execution_count": 16,
     "metadata": {},
     "output_type": "execute_result"
    }
   ],
   "source": [
    "beta0,beta1"
   ]
  },
  {
   "cell_type": "code",
   "execution_count": null,
   "id": "bf39457c",
   "metadata": {},
   "outputs": [],
   "source": []
  }
 ],
 "metadata": {
  "kernelspec": {
   "display_name": "Python 3 (ipykernel)",
   "language": "python",
   "name": "python3"
  },
  "language_info": {
   "codemirror_mode": {
    "name": "ipython",
    "version": 3
   },
   "file_extension": ".py",
   "mimetype": "text/x-python",
   "name": "python",
   "nbconvert_exporter": "python",
   "pygments_lexer": "ipython3",
   "version": "3.9.7"
  }
 },
 "nbformat": 4,
 "nbformat_minor": 5
}
