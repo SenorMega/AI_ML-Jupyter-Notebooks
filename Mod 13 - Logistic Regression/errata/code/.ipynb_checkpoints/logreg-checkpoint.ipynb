{
 "cells": [
  {
   "cell_type": "code",
   "execution_count": 1,
   "id": "a5147542",
   "metadata": {},
   "outputs": [],
   "source": [
    "from scipy.stats import norm\n",
    "import numpy as np\n",
    "import matplotlib.pyplot as plt\n",
    "from sklearn.linear_model import LogisticRegression\n",
    "import pandas as pd"
   ]
  },
  {
   "cell_type": "code",
   "execution_count": 2,
   "id": "457cbcb2",
   "metadata": {},
   "outputs": [],
   "source": [
    "x = np.linspace(-10,10,100)\n",
    "y1 = norm.pdf(x,loc=-3,scale=2)\n",
    "y2 = norm.pdf(x,loc=3,scale=2)\n",
    "p1 = 0.5\n",
    "p2 = 1-p1\n",
    "\n",
    "z = y1*p1/(y1*p1+y2*p2)\n",
    "xx = np.log((1-z)/z)"
   ]
  },
  {
   "cell_type": "code",
   "execution_count": 3,
   "id": "bc36ae2f",
   "metadata": {},
   "outputs": [
    {
     "data": {
      "text/plain": [
       "[<matplotlib.lines.Line2D at 0x7f536350c730>]"
      ]
     },
     "execution_count": 3,
     "metadata": {},
     "output_type": "execute_result"
    },
    {
     "data": {
      "image/png": "[encoded data removed]",
      "text/plain": [
       "<Figure size 432x288 with 1 Axes>"
      ]
     },
     "metadata": {
      "needs_background": "light"
     },
     "output_type": "display_data"
    }
   ],
   "source": [
    "plt.plot(x,y1)\n",
    "plt.plot(x,y2)\n",
    "plt.plot(x,z)"
   ]
  },
  {
   "cell_type": "code",
   "execution_count": 4,
   "id": "72b75940",
   "metadata": {},
   "outputs": [
    {
     "data": {
      "text/plain": [
       "[<matplotlib.lines.Line2D at 0x7f5363409a90>]"
      ]
     },
     "execution_count": 4,
     "metadata": {},
     "output_type": "execute_result"
    },
    {
     "data": {
      "image/png": "[encoded data removed]",
      "text/plain": [
       "<Figure size 432x288 with 1 Axes>"
      ]
     },
     "metadata": {
      "needs_background": "light"
     },
     "output_type": "display_data"
    }
   ],
   "source": [
    "plt.plot(x,xx)"
   ]
  },
  {
   "cell_type": "code",
   "execution_count": 5,
   "id": "6676559c",
   "metadata": {},
   "outputs": [],
   "source": [
    "x1samp = norm.rvs(size=1000,loc=-3,scale=2)\n",
    "x2samp = norm.rvs(size=1000,loc= 3,scale=2)"
   ]
  },
  {
   "cell_type": "code",
   "execution_count": 6,
   "id": "7e0d6251",
   "metadata": {},
   "outputs": [
    {
     "data": {
      "text/plain": [
       "(array([  8.,  24.,  89., 168., 226., 231., 163.,  66.,  18.,   7.]),\n",
       " array([-3.18343636, -1.92928168, -0.67512699,  0.5790277 ,  1.83318238,\n",
       "         3.08733707,  4.34149176,  5.59564644,  6.84980113,  8.10395582,\n",
       "         9.3581105 ]),\n",
       " <BarContainer object of 10 artists>)"
      ]
     },
     "execution_count": 6,
     "metadata": {},
     "output_type": "execute_result"
    },
    {
     "data": {
      "image/png": "[encoded data removed]",
      "text/plain": [
       "<Figure size 432x288 with 1 Axes>"
      ]
     },
     "metadata": {
      "needs_background": "light"
     },
     "output_type": "display_data"
    }
   ],
   "source": [
    "plt.hist(x1samp)\n",
    "plt.hist(x2samp)"
   ]
  },
  {
   "cell_type": "code",
   "execution_count": 7,
   "id": "ad5f6193",
   "metadata": {},
   "outputs": [
    {
     "data": {
      "text/plain": [
       "(-2.969646265977711, 2.9901754487511454, 4.032534984639693)"
      ]
     },
     "execution_count": 7,
     "metadata": {},
     "output_type": "execute_result"
    }
   ],
   "source": [
    "mu1 = np.mean(x1samp)\n",
    "mu2 = np.mean(x2samp)\n",
    "sigma2 = np.var(x1samp)\n",
    "mu1, mu2, sigma2"
   ]
  },
  {
   "cell_type": "code",
   "execution_count": 8,
   "id": "fb694ab1",
   "metadata": {},
   "outputs": [
    {
     "data": {
      "text/plain": [
       "(-0.01517039154586343, 1.4779342863559473)"
      ]
     },
     "execution_count": 8,
     "metadata": {},
     "output_type": "execute_result"
    }
   ],
   "source": [
    "beta1 = -(mu1-mu2)/sigma2\n",
    "beta0 = -(mu2**2 - mu1**2)/2/sigma2\n",
    "(beta0, beta1)"
   ]
  },
  {
   "cell_type": "code",
   "execution_count": 9,
   "id": "1de24377",
   "metadata": {},
   "outputs": [
    {
     "data": {
      "text/html": [
       "<div>\n",
       "<style scoped>\n",
       "    .dataframe tbody tr th:only-of-type {\n",
       "        vertical-align: middle;\n",
       "    }\n",
       "\n",
       "    .dataframe tbody tr th {\n",
       "        vertical-align: top;\n",
       "    }\n",
       "\n",
       "    .dataframe thead th {\n",
       "        text-align: right;\n",
       "    }\n",
       "</style>\n",
       "<table border=\"1\" class=\"dataframe\">\n",
       "  <thead>\n",
       "    <tr style=\"text-align: right;\">\n",
       "      <th></th>\n",
       "      <th>x</th>\n",
       "      <th>y</th>\n",
       "    </tr>\n",
       "  </thead>\n",
       "  <tbody>\n",
       "    <tr>\n",
       "      <th>0</th>\n",
       "      <td>-3.862097</td>\n",
       "      <td>0.0</td>\n",
       "    </tr>\n",
       "    <tr>\n",
       "      <th>1</th>\n",
       "      <td>-0.752378</td>\n",
       "      <td>0.0</td>\n",
       "    </tr>\n",
       "    <tr>\n",
       "      <th>2</th>\n",
       "      <td>-0.216506</td>\n",
       "      <td>0.0</td>\n",
       "    </tr>\n",
       "    <tr>\n",
       "      <th>3</th>\n",
       "      <td>-2.255674</td>\n",
       "      <td>0.0</td>\n",
       "    </tr>\n",
       "    <tr>\n",
       "      <th>4</th>\n",
       "      <td>-1.541970</td>\n",
       "      <td>0.0</td>\n",
       "    </tr>\n",
       "    <tr>\n",
       "      <th>...</th>\n",
       "      <td>...</td>\n",
       "      <td>...</td>\n",
       "    </tr>\n",
       "    <tr>\n",
       "      <th>1995</th>\n",
       "      <td>3.794084</td>\n",
       "      <td>1.0</td>\n",
       "    </tr>\n",
       "    <tr>\n",
       "      <th>1996</th>\n",
       "      <td>-0.215249</td>\n",
       "      <td>1.0</td>\n",
       "    </tr>\n",
       "    <tr>\n",
       "      <th>1997</th>\n",
       "      <td>1.158996</td>\n",
       "      <td>1.0</td>\n",
       "    </tr>\n",
       "    <tr>\n",
       "      <th>1998</th>\n",
       "      <td>2.646724</td>\n",
       "      <td>1.0</td>\n",
       "    </tr>\n",
       "    <tr>\n",
       "      <th>1999</th>\n",
       "      <td>-2.735134</td>\n",
       "      <td>1.0</td>\n",
       "    </tr>\n",
       "  </tbody>\n",
       "</table>\n",
       "<p>2000 rows × 2 columns</p>\n",
       "</div>"
      ],
      "text/plain": [
       "             x    y\n",
       "0    -3.862097  0.0\n",
       "1    -0.752378  0.0\n",
       "2    -0.216506  0.0\n",
       "3    -2.255674  0.0\n",
       "4    -1.541970  0.0\n",
       "...        ...  ...\n",
       "1995  3.794084  1.0\n",
       "1996 -0.215249  1.0\n",
       "1997  1.158996  1.0\n",
       "1998  2.646724  1.0\n",
       "1999 -2.735134  1.0\n",
       "\n",
       "[2000 rows x 2 columns]"
      ]
     },
     "execution_count": 9,
     "metadata": {},
     "output_type": "execute_result"
    }
   ],
   "source": [
    "df = pd.DataFrame({'x':np.append(x1samp,x2samp),'y':np.append(np.zeros(1000),np.ones(1000))})\n",
    "df"
   ]
  },
  {
   "cell_type": "code",
   "execution_count": 10,
   "id": "d96e1f61",
   "metadata": {},
   "outputs": [],
   "source": [
    "df['bin'] = pd.cut(df['x'],bins=20)"
   ]
  },
  {
   "cell_type": "code",
   "execution_count": 11,
   "id": "357ad522",
   "metadata": {},
   "outputs": [
    {
     "data": {
      "text/html": [
       "<div>\n",
       "<style scoped>\n",
       "    .dataframe tbody tr th:only-of-type {\n",
       "        vertical-align: middle;\n",
       "    }\n",
       "\n",
       "    .dataframe tbody tr th {\n",
       "        vertical-align: top;\n",
       "    }\n",
       "\n",
       "    .dataframe thead th {\n",
       "        text-align: right;\n",
       "    }\n",
       "</style>\n",
       "<table border=\"1\" class=\"dataframe\">\n",
       "  <thead>\n",
       "    <tr style=\"text-align: right;\">\n",
       "      <th></th>\n",
       "      <th>x</th>\n",
       "      <th>y</th>\n",
       "    </tr>\n",
       "    <tr>\n",
       "      <th>bin</th>\n",
       "      <th></th>\n",
       "      <th></th>\n",
       "    </tr>\n",
       "  </thead>\n",
       "  <tbody>\n",
       "    <tr>\n",
       "      <th>(-11.728, -10.654]</th>\n",
       "      <td>-11.706828</td>\n",
       "      <td>0.000000</td>\n",
       "    </tr>\n",
       "    <tr>\n",
       "      <th>(-10.654, -9.6]</th>\n",
       "      <td>NaN</td>\n",
       "      <td>NaN</td>\n",
       "    </tr>\n",
       "    <tr>\n",
       "      <th>(-9.6, -8.547]</th>\n",
       "      <td>NaN</td>\n",
       "      <td>NaN</td>\n",
       "    </tr>\n",
       "    <tr>\n",
       "      <th>(-8.547, -7.494]</th>\n",
       "      <td>-7.917820</td>\n",
       "      <td>0.000000</td>\n",
       "    </tr>\n",
       "    <tr>\n",
       "      <th>(-7.494, -6.441]</th>\n",
       "      <td>-6.986235</td>\n",
       "      <td>0.000000</td>\n",
       "    </tr>\n",
       "    <tr>\n",
       "      <th>(-6.441, -5.387]</th>\n",
       "      <td>-5.869389</td>\n",
       "      <td>0.000000</td>\n",
       "    </tr>\n",
       "    <tr>\n",
       "      <th>(-5.387, -4.334]</th>\n",
       "      <td>-4.791338</td>\n",
       "      <td>0.000000</td>\n",
       "    </tr>\n",
       "    <tr>\n",
       "      <th>(-4.334, -3.281]</th>\n",
       "      <td>-3.824063</td>\n",
       "      <td>0.000000</td>\n",
       "    </tr>\n",
       "    <tr>\n",
       "      <th>(-3.281, -2.228]</th>\n",
       "      <td>-2.765613</td>\n",
       "      <td>0.013699</td>\n",
       "    </tr>\n",
       "    <tr>\n",
       "      <th>(-2.228, -1.174]</th>\n",
       "      <td>-1.734438</td>\n",
       "      <td>0.107692</td>\n",
       "    </tr>\n",
       "    <tr>\n",
       "      <th>(-1.174, -0.121]</th>\n",
       "      <td>-0.678737</td>\n",
       "      <td>0.234899</td>\n",
       "    </tr>\n",
       "    <tr>\n",
       "      <th>(-0.121, 0.932]</th>\n",
       "      <td>0.426940</td>\n",
       "      <td>0.700000</td>\n",
       "    </tr>\n",
       "    <tr>\n",
       "      <th>(0.932, 1.985]</th>\n",
       "      <td>1.516010</td>\n",
       "      <td>0.877193</td>\n",
       "    </tr>\n",
       "    <tr>\n",
       "      <th>(1.985, 3.039]</th>\n",
       "      <td>2.532146</td>\n",
       "      <td>0.965854</td>\n",
       "    </tr>\n",
       "    <tr>\n",
       "      <th>(3.039, 4.092]</th>\n",
       "      <td>3.587682</td>\n",
       "      <td>1.000000</td>\n",
       "    </tr>\n",
       "    <tr>\n",
       "      <th>(4.092, 5.145]</th>\n",
       "      <td>4.626336</td>\n",
       "      <td>1.000000</td>\n",
       "    </tr>\n",
       "    <tr>\n",
       "      <th>(5.145, 6.198]</th>\n",
       "      <td>5.627024</td>\n",
       "      <td>1.000000</td>\n",
       "    </tr>\n",
       "    <tr>\n",
       "      <th>(6.198, 7.252]</th>\n",
       "      <td>6.639103</td>\n",
       "      <td>1.000000</td>\n",
       "    </tr>\n",
       "    <tr>\n",
       "      <th>(7.252, 8.305]</th>\n",
       "      <td>7.693462</td>\n",
       "      <td>1.000000</td>\n",
       "    </tr>\n",
       "    <tr>\n",
       "      <th>(8.305, 9.358]</th>\n",
       "      <td>8.935634</td>\n",
       "      <td>1.000000</td>\n",
       "    </tr>\n",
       "  </tbody>\n",
       "</table>\n",
       "</div>"
      ],
      "text/plain": [
       "                            x         y\n",
       "bin                                    \n",
       "(-11.728, -10.654] -11.706828  0.000000\n",
       "(-10.654, -9.6]           NaN       NaN\n",
       "(-9.6, -8.547]            NaN       NaN\n",
       "(-8.547, -7.494]    -7.917820  0.000000\n",
       "(-7.494, -6.441]    -6.986235  0.000000\n",
       "(-6.441, -5.387]    -5.869389  0.000000\n",
       "(-5.387, -4.334]    -4.791338  0.000000\n",
       "(-4.334, -3.281]    -3.824063  0.000000\n",
       "(-3.281, -2.228]    -2.765613  0.013699\n",
       "(-2.228, -1.174]    -1.734438  0.107692\n",
       "(-1.174, -0.121]    -0.678737  0.234899\n",
       "(-0.121, 0.932]      0.426940  0.700000\n",
       "(0.932, 1.985]       1.516010  0.877193\n",
       "(1.985, 3.039]       2.532146  0.965854\n",
       "(3.039, 4.092]       3.587682  1.000000\n",
       "(4.092, 5.145]       4.626336  1.000000\n",
       "(5.145, 6.198]       5.627024  1.000000\n",
       "(6.198, 7.252]       6.639103  1.000000\n",
       "(7.252, 8.305]       7.693462  1.000000\n",
       "(8.305, 9.358]       8.935634  1.000000"
      ]
     },
     "execution_count": 11,
     "metadata": {},
     "output_type": "execute_result"
    }
   ],
   "source": [
    "df2 = df.groupby('bin').agg('mean')\n",
    "df2"
   ]
  },
  {
   "cell_type": "code",
   "execution_count": 12,
   "id": "ae097571",
   "metadata": {},
   "outputs": [],
   "source": [
    "def sigmoid(beta0,beta1,x):\n",
    "    return 1/(1+np.exp(-beta0 - beta1*x))"
   ]
  },
  {
   "cell_type": "code",
   "execution_count": null,
   "id": "9d9afc94",
   "metadata": {},
   "outputs": [],
   "source": []
  },
  {
   "cell_type": "code",
   "execution_count": 13,
   "id": "dda2b044",
   "metadata": {},
   "outputs": [
    {
     "data": {
      "text/plain": [
       "LogisticRegression(random_state=0)"
      ]
     },
     "execution_count": 13,
     "metadata": {},
     "output_type": "execute_result"
    }
   ],
   "source": [
    "model = LogisticRegression(random_state=0)\n",
    "model.fit(df.iloc[:,:1],df['y'])"
   ]
  },
  {
   "cell_type": "code",
   "execution_count": 14,
   "id": "cc1fa667",
   "metadata": {},
   "outputs": [
    {
     "data": {
      "text/plain": [
       "(array([[1.47449723]]), array([0.01816245]))"
      ]
     },
     "execution_count": 14,
     "metadata": {},
     "output_type": "execute_result"
    }
   ],
   "source": [
    "model.coef_, model.intercept_"
   ]
  },
  {
   "cell_type": "code",
   "execution_count": 19,
   "id": "74a70d49",
   "metadata": {},
   "outputs": [
    {
     "data": {
      "image/png": "[encoded data removed]",
      "text/plain": [
       "<Figure size 432x288 with 1 Axes>"
      ]
     },
     "metadata": {
      "needs_background": "light"
     },
     "output_type": "display_data"
    }
   ],
   "source": [
    "plt.scatter(df['x'],df['y'])\n",
    "plt.plot(df2['x'],df2['y'],'ro')\n",
    "plt.plot(x, sigmoid(beta0,beta1,x),'g',linewidth=4)\n",
    "plt.plot(x, sigmoid(model.intercept_[0],model.coef_[0][0],x),'c')\n",
    "plt.plot(x, sigmoid(0,6/4,x),'m--')\n",
    "plt.grid()"
   ]
  },
  {
   "cell_type": "code",
   "execution_count": 16,
   "id": "9402de88",
   "metadata": {},
   "outputs": [
    {
     "data": {
      "text/plain": [
       "(-0.01517039154586343, 1.4779342863559473)"
      ]
     },
     "execution_count": 16,
     "metadata": {},
     "output_type": "execute_result"
    }
   ],
   "source": [
    "beta0,beta1"
   ]
  },
  {
   "cell_type": "code",
   "execution_count": null,
   "id": "bf39457c",
   "metadata": {},
   "outputs": [],
   "source": []
  }
 ],
 "metadata": {
  "kernelspec": {
   "display_name": "Python 3 (ipykernel)",
   "language": "python",
   "name": "python3"
  },
  "language_info": {
   "codemirror_mode": {
    "name": "ipython",
    "version": 3
   },
   "file_extension": ".py",
   "mimetype": "text/x-python",
   "name": "python",
   "nbconvert_exporter": "python",
   "pygments_lexer": "ipython3",
   "version": "3.9.5"
  }
 },
 "nbformat": 4,
 "nbformat_minor": 5
}
