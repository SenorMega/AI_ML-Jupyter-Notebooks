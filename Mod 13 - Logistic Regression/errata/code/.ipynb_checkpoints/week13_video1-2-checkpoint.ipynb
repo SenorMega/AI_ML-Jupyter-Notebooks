{
 "cells": [
  {
   "cell_type": "code",
   "execution_count": 1,
   "id": "1cf6382b",
   "metadata": {},
   "outputs": [],
   "source": [
    "import numpy as np\n",
    "import matplotlib.pyplot as plt\n",
    "import seaborn as sns\n",
    "import pandas as pd\n",
    "from sklearn import datasets\n",
    "from sklearn.linear_model import LogisticRegression, LinearRegression\n",
    "import random"
   ]
  },
  {
   "cell_type": "code",
   "execution_count": 2,
   "id": "61987bbd",
   "metadata": {},
   "outputs": [],
   "source": [
    "def jitter(arr):\n",
    "    return arr + np.random.randn(len(arr)) * .02\n",
    "\n",
    "near_zeros_p = jitter(np.zeros(51))\n",
    "near_zeros = jitter(np.zeros(50))\n",
    "near_ones = jitter(np.ones(50))"
   ]
  },
  {
   "cell_type": "markdown",
   "id": "667e2468",
   "metadata": {},
   "source": [
    "### Import the data"
   ]
  },
  {
   "cell_type": "code",
   "execution_count": 3,
   "id": "033c3b2e",
   "metadata": {},
   "outputs": [
    {
     "data": {
      "text/html": [
       "<div>\n",
       "<style scoped>\n",
       "    .dataframe tbody tr th:only-of-type {\n",
       "        vertical-align: middle;\n",
       "    }\n",
       "\n",
       "    .dataframe tbody tr th {\n",
       "        vertical-align: top;\n",
       "    }\n",
       "\n",
       "    .dataframe thead th {\n",
       "        text-align: right;\n",
       "    }\n",
       "</style>\n",
       "<table border=\"1\" class=\"dataframe\">\n",
       "  <thead>\n",
       "    <tr style=\"text-align: right;\">\n",
       "      <th></th>\n",
       "      <th>sl</th>\n",
       "      <th>sw</th>\n",
       "      <th>pl</th>\n",
       "      <th>pw</th>\n",
       "      <th>species</th>\n",
       "    </tr>\n",
       "  </thead>\n",
       "  <tbody>\n",
       "    <tr>\n",
       "      <th>0</th>\n",
       "      <td>5.1</td>\n",
       "      <td>3.5</td>\n",
       "      <td>1.4</td>\n",
       "      <td>0.2</td>\n",
       "      <td>0</td>\n",
       "    </tr>\n",
       "    <tr>\n",
       "      <th>1</th>\n",
       "      <td>4.9</td>\n",
       "      <td>3.0</td>\n",
       "      <td>1.4</td>\n",
       "      <td>0.2</td>\n",
       "      <td>0</td>\n",
       "    </tr>\n",
       "    <tr>\n",
       "      <th>2</th>\n",
       "      <td>4.7</td>\n",
       "      <td>3.2</td>\n",
       "      <td>1.3</td>\n",
       "      <td>0.2</td>\n",
       "      <td>0</td>\n",
       "    </tr>\n",
       "    <tr>\n",
       "      <th>3</th>\n",
       "      <td>4.6</td>\n",
       "      <td>3.1</td>\n",
       "      <td>1.5</td>\n",
       "      <td>0.2</td>\n",
       "      <td>0</td>\n",
       "    </tr>\n",
       "    <tr>\n",
       "      <th>4</th>\n",
       "      <td>5.0</td>\n",
       "      <td>3.6</td>\n",
       "      <td>1.4</td>\n",
       "      <td>0.2</td>\n",
       "      <td>0</td>\n",
       "    </tr>\n",
       "  </tbody>\n",
       "</table>\n",
       "</div>"
      ],
      "text/plain": [
       "    sl   sw   pl   pw  species\n",
       "0  5.1  3.5  1.4  0.2        0\n",
       "1  4.9  3.0  1.4  0.2        0\n",
       "2  4.7  3.2  1.3  0.2        0\n",
       "3  4.6  3.1  1.5  0.2        0\n",
       "4  5.0  3.6  1.4  0.2        0"
      ]
     },
     "execution_count": 3,
     "metadata": {},
     "output_type": "execute_result"
    }
   ],
   "source": [
    "data = datasets.load_iris()\n",
    "iris = pd.DataFrame(data.data,columns=data.feature_names)\n",
    "iris['species'] = data.target\n",
    "iris = iris.rename(columns={ 'sepal length (cm)':'sl','sepal width (cm)':'sw','petal length (cm)':'pl','petal width (cm)':'pw'})\n",
    "iris.head()"
   ]
  },
  {
   "cell_type": "markdown",
   "id": "6edfca27",
   "metadata": {},
   "source": [
    "## plot petal length for versicolor and virginica"
   ]
  },
  {
   "cell_type": "code",
   "execution_count": 4,
   "id": "743c0d9c",
   "metadata": {},
   "outputs": [
    {
     "data": {
      "image/png": "[encoded data removed]",
      "text/plain": [
       "<Figure size 576x360 with 1 Axes>"
      ]
     },
     "metadata": {
      "needs_background": "light"
     },
     "output_type": "display_data"
    }
   ],
   "source": [
    "plt.figure(figsize=(8,5))\n",
    "ax = plt.axes()\n",
    "plt.scatter( iris.pl[iris.species==1], near_zeros, label=data.target_names[1] )\n",
    "plt.scatter( iris.pl[iris.species==2], near_ones, label=data.target_names[2] )\n",
    "plt.ylim((-0.5,1.5))\n",
    "plt.xlim((2.5,7.5))\n",
    "ax.set_yticks((0,1))\n",
    "ax.set_yticklabels(['versicolor','virginica'],fontsize=14)\n",
    "plt.xlabel('petal length [cm]',fontsize=14)\n",
    "plt.grid()"
   ]
  },
  {
   "cell_type": "markdown",
   "id": "875fdb9e",
   "metadata": {},
   "source": [
    "## keep 2 classes"
   ]
  },
  {
   "cell_type": "code",
   "execution_count": 5,
   "id": "9af54f6a",
   "metadata": {},
   "outputs": [],
   "source": [
    "ind = (iris.species==1) | (iris.species==2)\n",
    "X = np.expand_dims( iris.loc[ind,'pl'].values, axis=1 )\n",
    "y = iris.loc[ind,'species'].values - 1"
   ]
  },
  {
   "cell_type": "markdown",
   "id": "573cd803",
   "metadata": {},
   "source": [
    "## reduce number of samples to exagerate sensitivity of linear regression"
   ]
  },
  {
   "cell_type": "code",
   "execution_count": 6,
   "id": "e45a6ef8",
   "metadata": {},
   "outputs": [],
   "source": [
    "X0 = X[y==0]\n",
    "y0 = y[y==0]\n",
    "X1 = X[y==1]\n",
    "y1 = y[y==1]\n",
    "\n",
    "keep_samples = 10\n",
    "size = int(keep_samples/2)\n",
    "ind = np.random.randint(len(X1), size=size)\n",
    "\n",
    "X0 = X0[ind,:]\n",
    "X1 = X1[ind,:]\n",
    "y0 = y0[ind]\n",
    "y1 = y1[ind]\n",
    "\n",
    "X = np.append(X0,X1,axis=0)\n",
    "y = np.append(y0,y1)"
   ]
  },
  {
   "cell_type": "markdown",
   "id": "ccde44b6",
   "metadata": {},
   "source": [
    "## 2class, 1input linear regression"
   ]
  },
  {
   "cell_type": "code",
   "execution_count": 7,
   "id": "8f492358",
   "metadata": {},
   "outputs": [
    {
     "name": "stdout",
     "output_type": "stream",
     "text": [
      "Threshold = 4.75\n"
     ]
    },
    {
     "data": {
      "image/png": "[encoded data removed]",
      "text/plain": [
       "<Figure size 576x360 with 1 Axes>"
      ]
     },
     "metadata": {
      "needs_background": "light"
     },
     "output_type": "display_data"
    }
   ],
   "source": [
    "linreg = LinearRegression().fit(X, y)\n",
    "linreg_thresh = (0.5 - linreg.intercept_)/linreg.coef_[0]\n",
    "\n",
    "print(\"Threshold = \" + str(linreg_thresh))\n",
    "\n",
    "# plot\n",
    "pl = np.expand_dims( np.linspace(3,6.8), axis=1 )\n",
    "plt.figure(figsize=(8,5))\n",
    "ax = plt.axes()\n",
    "plt.vlines(linreg_thresh, -0.5, 1.5, colors='green',linestyle='--', linewidth=1)\n",
    "plt.scatter( X0, near_zeros[ind], label=data.target_names[1] )\n",
    "plt.scatter( X1, near_ones[ind], label=data.target_names[2] )\n",
    "plt.plot(pl, linreg.predict(pl),color='green',linewidth=2) \n",
    "plt.xlim((2.5,7.5))\n",
    "plt.ylim((-0.5,1.5))\n",
    "ax.set_yticks((0,1))\n",
    "ax.set_yticklabels(['versicolor','virginica'],fontsize=14)\n",
    "plt.xlabel('petal length [cm]',fontsize=14)\n",
    "plt.grid()"
   ]
  },
  {
   "cell_type": "markdown",
   "id": "7b00a4cb",
   "metadata": {},
   "source": [
    "## add an outlier, do linear regression\n"
   ]
  },
  {
   "cell_type": "code",
   "execution_count": 8,
   "id": "5daf01c9",
   "metadata": {},
   "outputs": [],
   "source": [
    "Xo = np.expand_dims( np.append(X,7), axis=1 )\n",
    "yo = np.append(y, 1)\n",
    "Xo0 = Xo[yo==0]\n",
    "Xo1 = Xo[yo==1]"
   ]
  },
  {
   "cell_type": "code",
   "execution_count": 9,
   "id": "426532d9",
   "metadata": {},
   "outputs": [
    {
     "name": "stdout",
     "output_type": "stream",
     "text": [
      "Threshold = 4.840650406504065\n"
     ]
    },
    {
     "ename": "ValueError",
     "evalue": "x and y must be the same size",
     "output_type": "error",
     "traceback": [
      "\u001b[0;31m---------------------------------------------------------------------------\u001b[0m",
      "\u001b[0;31mValueError\u001b[0m                                Traceback (most recent call last)",
      "\u001b[0;32m/tmp/ipykernel_14362/15991610.py\u001b[0m in \u001b[0;36m<module>\u001b[0;34m\u001b[0m\n\u001b[1;32m      8\u001b[0m \u001b[0mplt\u001b[0m\u001b[0;34m.\u001b[0m\u001b[0mvlines\u001b[0m\u001b[0;34m(\u001b[0m\u001b[0mlinreg_thresh\u001b[0m\u001b[0;34m,\u001b[0m \u001b[0;34m-\u001b[0m\u001b[0;36m0.5\u001b[0m\u001b[0;34m,\u001b[0m \u001b[0;36m1.5\u001b[0m\u001b[0;34m,\u001b[0m \u001b[0mcolors\u001b[0m\u001b[0;34m=\u001b[0m\u001b[0;34m'green'\u001b[0m\u001b[0;34m,\u001b[0m\u001b[0mlinestyle\u001b[0m\u001b[0;34m=\u001b[0m\u001b[0;34m'--'\u001b[0m\u001b[0;34m,\u001b[0m \u001b[0mlinewidth\u001b[0m\u001b[0;34m=\u001b[0m\u001b[0;36m1\u001b[0m\u001b[0;34m)\u001b[0m\u001b[0;34m\u001b[0m\u001b[0;34m\u001b[0m\u001b[0m\n\u001b[1;32m      9\u001b[0m \u001b[0mplt\u001b[0m\u001b[0;34m.\u001b[0m\u001b[0mvlines\u001b[0m\u001b[0;34m(\u001b[0m\u001b[0mlinreg_thresho\u001b[0m\u001b[0;34m,\u001b[0m \u001b[0;34m-\u001b[0m\u001b[0;36m0.5\u001b[0m\u001b[0;34m,\u001b[0m \u001b[0;36m1.5\u001b[0m\u001b[0;34m,\u001b[0m \u001b[0mcolors\u001b[0m\u001b[0;34m=\u001b[0m\u001b[0;34m'red'\u001b[0m\u001b[0;34m,\u001b[0m\u001b[0mlinestyle\u001b[0m\u001b[0;34m=\u001b[0m\u001b[0;34m'--'\u001b[0m\u001b[0;34m,\u001b[0m \u001b[0mlinewidth\u001b[0m\u001b[0;34m=\u001b[0m\u001b[0;36m1\u001b[0m\u001b[0;34m)\u001b[0m\u001b[0;34m\u001b[0m\u001b[0;34m\u001b[0m\u001b[0m\n\u001b[0;32m---> 10\u001b[0;31m \u001b[0mplt\u001b[0m\u001b[0;34m.\u001b[0m\u001b[0mscatter\u001b[0m\u001b[0;34m(\u001b[0m \u001b[0mXo0\u001b[0m\u001b[0;34m,\u001b[0m \u001b[0mnp\u001b[0m\u001b[0;34m.\u001b[0m\u001b[0mappend\u001b[0m\u001b[0;34m(\u001b[0m\u001b[0mnear_zeros\u001b[0m\u001b[0;34m[\u001b[0m\u001b[0mind\u001b[0m\u001b[0;34m]\u001b[0m\u001b[0;34m,\u001b[0m\u001b[0;36m0\u001b[0m\u001b[0;34m)\u001b[0m\u001b[0;34m,\u001b[0m \u001b[0mlabel\u001b[0m\u001b[0;34m=\u001b[0m\u001b[0mdata\u001b[0m\u001b[0;34m.\u001b[0m\u001b[0mtarget_names\u001b[0m\u001b[0;34m[\u001b[0m\u001b[0;36m1\u001b[0m\u001b[0;34m]\u001b[0m \u001b[0;34m)\u001b[0m\u001b[0;34m\u001b[0m\u001b[0;34m\u001b[0m\u001b[0m\n\u001b[0m\u001b[1;32m     11\u001b[0m \u001b[0mplt\u001b[0m\u001b[0;34m.\u001b[0m\u001b[0mscatter\u001b[0m\u001b[0;34m(\u001b[0m \u001b[0mXo1\u001b[0m\u001b[0;34m,\u001b[0m \u001b[0mnear_ones\u001b[0m\u001b[0;34m[\u001b[0m\u001b[0mind\u001b[0m\u001b[0;34m]\u001b[0m\u001b[0;34m,\u001b[0m \u001b[0mlabel\u001b[0m\u001b[0;34m=\u001b[0m\u001b[0mdata\u001b[0m\u001b[0;34m.\u001b[0m\u001b[0mtarget_names\u001b[0m\u001b[0;34m[\u001b[0m\u001b[0;36m2\u001b[0m\u001b[0;34m]\u001b[0m \u001b[0;34m)\u001b[0m\u001b[0;34m\u001b[0m\u001b[0;34m\u001b[0m\u001b[0m\n\u001b[1;32m     12\u001b[0m \u001b[0mplt\u001b[0m\u001b[0;34m.\u001b[0m\u001b[0mplot\u001b[0m\u001b[0;34m(\u001b[0m\u001b[0mpl\u001b[0m\u001b[0;34m,\u001b[0m \u001b[0mlinreg\u001b[0m\u001b[0;34m.\u001b[0m\u001b[0mpredict\u001b[0m\u001b[0;34m(\u001b[0m\u001b[0mpl\u001b[0m\u001b[0;34m)\u001b[0m\u001b[0;34m,\u001b[0m\u001b[0mcolor\u001b[0m\u001b[0;34m=\u001b[0m\u001b[0;34m'green'\u001b[0m\u001b[0;34m,\u001b[0m\u001b[0mlinewidth\u001b[0m\u001b[0;34m=\u001b[0m\u001b[0;36m2\u001b[0m\u001b[0;34m)\u001b[0m\u001b[0;34m\u001b[0m\u001b[0;34m\u001b[0m\u001b[0m\n",
      "\u001b[0;32m~/miniconda3/envs/d178/lib/python3.9/site-packages/matplotlib/pyplot.py\u001b[0m in \u001b[0;36mscatter\u001b[0;34m(x, y, s, c, marker, cmap, norm, vmin, vmax, alpha, linewidths, edgecolors, plotnonfinite, data, **kwargs)\u001b[0m\n\u001b[1;32m   3066\u001b[0m         \u001b[0mvmin\u001b[0m\u001b[0;34m=\u001b[0m\u001b[0;32mNone\u001b[0m\u001b[0;34m,\u001b[0m \u001b[0mvmax\u001b[0m\u001b[0;34m=\u001b[0m\u001b[0;32mNone\u001b[0m\u001b[0;34m,\u001b[0m \u001b[0malpha\u001b[0m\u001b[0;34m=\u001b[0m\u001b[0;32mNone\u001b[0m\u001b[0;34m,\u001b[0m \u001b[0mlinewidths\u001b[0m\u001b[0;34m=\u001b[0m\u001b[0;32mNone\u001b[0m\u001b[0;34m,\u001b[0m \u001b[0;34m*\u001b[0m\u001b[0;34m,\u001b[0m\u001b[0;34m\u001b[0m\u001b[0;34m\u001b[0m\u001b[0m\n\u001b[1;32m   3067\u001b[0m         edgecolors=None, plotnonfinite=False, data=None, **kwargs):\n\u001b[0;32m-> 3068\u001b[0;31m     __ret = gca().scatter(\n\u001b[0m\u001b[1;32m   3069\u001b[0m         \u001b[0mx\u001b[0m\u001b[0;34m,\u001b[0m \u001b[0my\u001b[0m\u001b[0;34m,\u001b[0m \u001b[0ms\u001b[0m\u001b[0;34m=\u001b[0m\u001b[0ms\u001b[0m\u001b[0;34m,\u001b[0m \u001b[0mc\u001b[0m\u001b[0;34m=\u001b[0m\u001b[0mc\u001b[0m\u001b[0;34m,\u001b[0m \u001b[0mmarker\u001b[0m\u001b[0;34m=\u001b[0m\u001b[0mmarker\u001b[0m\u001b[0;34m,\u001b[0m \u001b[0mcmap\u001b[0m\u001b[0;34m=\u001b[0m\u001b[0mcmap\u001b[0m\u001b[0;34m,\u001b[0m \u001b[0mnorm\u001b[0m\u001b[0;34m=\u001b[0m\u001b[0mnorm\u001b[0m\u001b[0;34m,\u001b[0m\u001b[0;34m\u001b[0m\u001b[0;34m\u001b[0m\u001b[0m\n\u001b[1;32m   3070\u001b[0m         \u001b[0mvmin\u001b[0m\u001b[0;34m=\u001b[0m\u001b[0mvmin\u001b[0m\u001b[0;34m,\u001b[0m \u001b[0mvmax\u001b[0m\u001b[0;34m=\u001b[0m\u001b[0mvmax\u001b[0m\u001b[0;34m,\u001b[0m \u001b[0malpha\u001b[0m\u001b[0;34m=\u001b[0m\u001b[0malpha\u001b[0m\u001b[0;34m,\u001b[0m \u001b[0mlinewidths\u001b[0m\u001b[0;34m=\u001b[0m\u001b[0mlinewidths\u001b[0m\u001b[0;34m,\u001b[0m\u001b[0;34m\u001b[0m\u001b[0;34m\u001b[0m\u001b[0m\n",
      "\u001b[0;32m~/miniconda3/envs/d178/lib/python3.9/site-packages/matplotlib/__init__.py\u001b[0m in \u001b[0;36minner\u001b[0;34m(ax, data, *args, **kwargs)\u001b[0m\n\u001b[1;32m   1359\u001b[0m     \u001b[0;32mdef\u001b[0m \u001b[0minner\u001b[0m\u001b[0;34m(\u001b[0m\u001b[0max\u001b[0m\u001b[0;34m,\u001b[0m \u001b[0;34m*\u001b[0m\u001b[0margs\u001b[0m\u001b[0;34m,\u001b[0m \u001b[0mdata\u001b[0m\u001b[0;34m=\u001b[0m\u001b[0;32mNone\u001b[0m\u001b[0;34m,\u001b[0m \u001b[0;34m**\u001b[0m\u001b[0mkwargs\u001b[0m\u001b[0;34m)\u001b[0m\u001b[0;34m:\u001b[0m\u001b[0;34m\u001b[0m\u001b[0;34m\u001b[0m\u001b[0m\n\u001b[1;32m   1360\u001b[0m         \u001b[0;32mif\u001b[0m \u001b[0mdata\u001b[0m \u001b[0;32mis\u001b[0m \u001b[0;32mNone\u001b[0m\u001b[0;34m:\u001b[0m\u001b[0;34m\u001b[0m\u001b[0;34m\u001b[0m\u001b[0m\n\u001b[0;32m-> 1361\u001b[0;31m             \u001b[0;32mreturn\u001b[0m \u001b[0mfunc\u001b[0m\u001b[0;34m(\u001b[0m\u001b[0max\u001b[0m\u001b[0;34m,\u001b[0m \u001b[0;34m*\u001b[0m\u001b[0mmap\u001b[0m\u001b[0;34m(\u001b[0m\u001b[0msanitize_sequence\u001b[0m\u001b[0;34m,\u001b[0m \u001b[0margs\u001b[0m\u001b[0;34m)\u001b[0m\u001b[0;34m,\u001b[0m \u001b[0;34m**\u001b[0m\u001b[0mkwargs\u001b[0m\u001b[0;34m)\u001b[0m\u001b[0;34m\u001b[0m\u001b[0;34m\u001b[0m\u001b[0m\n\u001b[0m\u001b[1;32m   1362\u001b[0m \u001b[0;34m\u001b[0m\u001b[0m\n\u001b[1;32m   1363\u001b[0m         \u001b[0mbound\u001b[0m \u001b[0;34m=\u001b[0m \u001b[0mnew_sig\u001b[0m\u001b[0;34m.\u001b[0m\u001b[0mbind\u001b[0m\u001b[0;34m(\u001b[0m\u001b[0max\u001b[0m\u001b[0;34m,\u001b[0m \u001b[0;34m*\u001b[0m\u001b[0margs\u001b[0m\u001b[0;34m,\u001b[0m \u001b[0;34m**\u001b[0m\u001b[0mkwargs\u001b[0m\u001b[0;34m)\u001b[0m\u001b[0;34m\u001b[0m\u001b[0;34m\u001b[0m\u001b[0m\n",
      "\u001b[0;32m~/miniconda3/envs/d178/lib/python3.9/site-packages/matplotlib/axes/_axes.py\u001b[0m in \u001b[0;36mscatter\u001b[0;34m(self, x, y, s, c, marker, cmap, norm, vmin, vmax, alpha, linewidths, edgecolors, plotnonfinite, **kwargs)\u001b[0m\n\u001b[1;32m   4496\u001b[0m         \u001b[0my\u001b[0m \u001b[0;34m=\u001b[0m \u001b[0mnp\u001b[0m\u001b[0;34m.\u001b[0m\u001b[0mma\u001b[0m\u001b[0;34m.\u001b[0m\u001b[0mravel\u001b[0m\u001b[0;34m(\u001b[0m\u001b[0my\u001b[0m\u001b[0;34m)\u001b[0m\u001b[0;34m\u001b[0m\u001b[0;34m\u001b[0m\u001b[0m\n\u001b[1;32m   4497\u001b[0m         \u001b[0;32mif\u001b[0m \u001b[0mx\u001b[0m\u001b[0;34m.\u001b[0m\u001b[0msize\u001b[0m \u001b[0;34m!=\u001b[0m \u001b[0my\u001b[0m\u001b[0;34m.\u001b[0m\u001b[0msize\u001b[0m\u001b[0;34m:\u001b[0m\u001b[0;34m\u001b[0m\u001b[0;34m\u001b[0m\u001b[0m\n\u001b[0;32m-> 4498\u001b[0;31m             \u001b[0;32mraise\u001b[0m \u001b[0mValueError\u001b[0m\u001b[0;34m(\u001b[0m\u001b[0;34m\"x and y must be the same size\"\u001b[0m\u001b[0;34m)\u001b[0m\u001b[0;34m\u001b[0m\u001b[0;34m\u001b[0m\u001b[0m\n\u001b[0m\u001b[1;32m   4499\u001b[0m \u001b[0;34m\u001b[0m\u001b[0m\n\u001b[1;32m   4500\u001b[0m         \u001b[0;32mif\u001b[0m \u001b[0ms\u001b[0m \u001b[0;32mis\u001b[0m \u001b[0;32mNone\u001b[0m\u001b[0;34m:\u001b[0m\u001b[0;34m\u001b[0m\u001b[0;34m\u001b[0m\u001b[0m\n",
      "\u001b[0;31mValueError\u001b[0m: x and y must be the same size"
     ]
    },
    {
     "data": {
      "image/png": "[encoded data removed]",
      "text/plain": [
       "<Figure size 576x360 with 1 Axes>"
      ]
     },
     "metadata": {
      "needs_background": "light"
     },
     "output_type": "display_data"
    }
   ],
   "source": [
    "linrego = LinearRegression().fit(Xo, yo)\n",
    "linreg_thresho = (0.5 - linrego.intercept_)/linrego.coef_[0]\n",
    "\n",
    "print(\"Threshold = \" + str(linreg_thresho))\n",
    "\n",
    "plt.figure(figsize=(8,5))\n",
    "ax = plt.axes()\n",
    "plt.vlines(linreg_thresh, -0.5, 1.5, colors='green',linestyle='--', linewidth=1)\n",
    "plt.vlines(linreg_thresho, -0.5, 1.5, colors='red',linestyle='--', linewidth=1)\n",
    "plt.scatter( Xo0, near_zeros[ind], label=data.target_names[1] )\n",
    "plt.scatter( Xo1, np.append(near_onses[ind],0), label=data.target_names[2] )\n",
    "plt.plot(pl, linreg.predict(pl),color='green',linewidth=2)\n",
    "plt.plot(pl, linrego.predict(pl),color='red',linewidth=2)\n",
    "plt.xlim((2.5,7.5))\n",
    "plt.ylim((-0.5,1.5))\n",
    "ax.set_yticks((0,1))\n",
    "ax.set_yticklabels(['versicolor','virginica'],fontsize=14)\n",
    "plt.xlabel('petal length [cm]',fontsize=14)\n",
    "plt.grid()"
   ]
  },
  {
   "cell_type": "code",
   "execution_count": null,
   "id": "810ba099",
   "metadata": {},
   "outputs": [],
   "source": [
    "# logistic regression\n",
    "logreg = LogisticRegression().fit(X, y)\n",
    "logrego = LogisticRegression().fit(Xo, yo)\n",
    "\n",
    "logreg_thresh = -logreg.intercept_/logreg.coef_[0]\n",
    "logreg_thresho = -logrego.intercept_/logrego.coef_[0]\n",
    "\n",
    "logreg_thresh-logreg_thresho"
   ]
  },
  {
   "cell_type": "code",
   "execution_count": null,
   "id": "4c21e809",
   "metadata": {},
   "outputs": [],
   "source": [
    "linreg_thresh-linreg_thresho"
   ]
  },
  {
   "cell_type": "markdown",
   "id": "cf91f783",
   "metadata": {},
   "source": [
    "# VIDEO 2 ..."
   ]
  },
  {
   "cell_type": "markdown",
   "id": "075d29ab",
   "metadata": {},
   "source": [
    "### MAKE THE BINNING PICTURE"
   ]
  },
  {
   "cell_type": "code",
   "execution_count": null,
   "id": "1fb8c005",
   "metadata": {},
   "outputs": [],
   "source": [
    "ind = (iris.species==1) | (iris.species==2)\n",
    "iris.loc[ind,'pl']\n",
    "iris.loc[ind,'species']-1"
   ]
  },
  {
   "cell_type": "markdown",
   "id": "b025b3a9",
   "metadata": {},
   "source": [
    "### OVERLAP GAUSSIAN CURVES"
   ]
  },
  {
   "cell_type": "code",
   "execution_count": null,
   "id": "5163e8a7",
   "metadata": {},
   "outputs": [],
   "source": [
    "plt.figure(figsize=(8,5))\n",
    "ax = plt.axes()\n",
    "plt.scatter( iris.pl[iris.species==1], near_zeros, label=data.target_names[1] )\n",
    "plt.scatter( iris.pl[iris.species==2], near_ones, label=data.target_names[2] )\n",
    "plt.ylim((-0.5,1.5))\n",
    "plt.xlim((2.5,7.5))\n",
    "ax.set_yticks((0,1))\n",
    "ax.set_yticklabels(['versicolor','virginica'],fontsize=14)\n",
    "plt.xlabel('petal length [cm]',fontsize=14)\n",
    "plt.grid()"
   ]
  },
  {
   "cell_type": "code",
   "execution_count": null,
   "id": "db4282ea",
   "metadata": {},
   "outputs": [],
   "source": []
  },
  {
   "cell_type": "code",
   "execution_count": null,
   "id": "8873624a",
   "metadata": {},
   "outputs": [],
   "source": []
  },
  {
   "cell_type": "code",
   "execution_count": null,
   "id": "3d107b1d",
   "metadata": {},
   "outputs": [],
   "source": []
  },
  {
   "cell_type": "code",
   "execution_count": null,
   "id": "d94f1230",
   "metadata": {},
   "outputs": [],
   "source": []
  },
  {
   "cell_type": "code",
   "execution_count": null,
   "id": "36c001b8",
   "metadata": {},
   "outputs": [],
   "source": []
  },
  {
   "cell_type": "code",
   "execution_count": null,
   "id": "8168a4f5",
   "metadata": {},
   "outputs": [],
   "source": []
  },
  {
   "cell_type": "code",
   "execution_count": null,
   "id": "e2112e2d",
   "metadata": {},
   "outputs": [],
   "source": []
  },
  {
   "cell_type": "code",
   "execution_count": null,
   "id": "da8d512b",
   "metadata": {},
   "outputs": [],
   "source": []
  },
  {
   "cell_type": "code",
   "execution_count": null,
   "id": "098f9a48",
   "metadata": {},
   "outputs": [],
   "source": []
  },
  {
   "cell_type": "code",
   "execution_count": null,
   "id": "39ea19a7",
   "metadata": {},
   "outputs": [],
   "source": []
  },
  {
   "cell_type": "markdown",
   "id": "79a436b8",
   "metadata": {},
   "source": [
    "# -------------------------------------------------------"
   ]
  },
  {
   "cell_type": "code",
   "execution_count": null,
   "id": "c2f92b3d",
   "metadata": {},
   "outputs": [],
   "source": []
  },
  {
   "cell_type": "code",
   "execution_count": null,
   "id": "39aa9b73",
   "metadata": {},
   "outputs": [],
   "source": [
    "colors = {0:'red', 1:'green', 2:'blue'}\n",
    "a = iris.plot(kind='scatter',x='pl',y='pw',c=iris['species'].map(colors))\n",
    "a.set_xlabel('petal length',fontsize=16)\n",
    "a.set_ylabel('petal width',fontsize=16)"
   ]
  },
  {
   "cell_type": "code",
   "execution_count": null,
   "id": "f8634fbe",
   "metadata": {},
   "outputs": [],
   "source": [
    "sns.pairplot(iris,hue='species')"
   ]
  },
  {
   "cell_type": "markdown",
   "id": "409ca930",
   "metadata": {},
   "source": [
    "# PLOTTIG DECISION BOUNDARIES (FROM JOSH)"
   ]
  },
  {
   "cell_type": "code",
   "execution_count": null,
   "id": "675a740f",
   "metadata": {},
   "outputs": [],
   "source": [
    "# logistic_regression_model = LogisticRegression(multi_class = 'ovr')\n",
    "# logistic_regression_model = logistic_regression_model.fit(iris[[\"pl\", \"pw\"]], iris[\"species\"])\n",
    "\n",
    "\n",
    "# sns_cmap = ListedColormap(np.array(sns.color_palette())[0:3, :])\n",
    "\n",
    "# xx, yy = np.meshgrid(np.arange(0, 7, 0.02),\n",
    "#                      np.arange(0, 2.8, 0.02))\n",
    "\n",
    "\n",
    "# Z_string = logistic_regression_model.predict(np.c_[xx.ravel(), yy.ravel()])\n",
    "# categories, Z_int = np.unique(Z_string, return_inverse=True)\n",
    "# Z_int = Z_int \n",
    "# Z_int = Z_int.reshape(xx.shape)\n",
    "# cs = plt.contourf(xx, yy, Z_int, cmap=sns_cmap)\n",
    "# sns.scatterplot(data = iris, x = \"pl\", y=\"pw\", hue=\"species\")\n",
    "# plt.xlim(0, 7);\n",
    "# plt.ylim(0, 2.8);\n",
    "# plt.savefig(\"iris_decision_boundaries_logistic_regression_no_boundaries.png\", dpi=300, bbox_inches = \"tight\")\n",
    "\n"
   ]
  },
  {
   "cell_type": "code",
   "execution_count": null,
   "id": "816a46af",
   "metadata": {},
   "outputs": [],
   "source": []
  }
 ],
 "metadata": {
  "kernelspec": {
   "display_name": "Python 3 (ipykernel)",
   "language": "python",
   "name": "python3"
  },
  "language_info": {
   "codemirror_mode": {
    "name": "ipython",
    "version": 3
   },
   "file_extension": ".py",
   "mimetype": "text/x-python",
   "name": "python",
   "nbconvert_exporter": "python",
   "pygments_lexer": "ipython3",
   "version": "3.9.5"
  }
 },
 "nbformat": 4,
 "nbformat_minor": 5
}
