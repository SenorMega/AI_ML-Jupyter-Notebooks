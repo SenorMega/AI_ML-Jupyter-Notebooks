{
 "cells": [
  {
   "cell_type": "markdown",
   "metadata": {
    "id": "Hhhfqgep_iWs"
   },
   "source": [
    "<font color='red'>\n",
    "Note: Show the stats [ref page](https://docs.scipy.org/doc/scipy/reference/stats.html) and scroll to uniform.\n",
    "</font>\n",
    "\n",
    ".\n",
    "\n",
    "<font color='blue'>\n",
    "You can see in the reference page the long list of distributions that we can use. All of these have very similar usage, since they inherit from a common base class. \n",
    "    \n",
    "Let's go to the [documentation for the \"uniform\" distribution](https://docs.scipy.org/doc/scipy/reference/generated/scipy.stats.uniform.html#scipy.stats.uniform)\n",
    "    \n",
    "First we import the 'uniform' class:\n",
    "</font>"
   ]
  },
  {
   "cell_type": "code",
   "execution_count": null,
   "metadata": {
    "id": "cj2hbsa8_iWv"
   },
   "outputs": [],
   "source": [
    "from scipy.stats import uniform"
   ]
  },
  {
   "cell_type": "markdown",
   "metadata": {
    "id": "55i15yn-_iWw"
   },
   "source": [
    "<font color='blue'>\n",
    "Also we will import numpy, as we usually do when working with numbers. For plotting we will use the matplotlib, which is the basic plotting library in python. Later we will start using seaborn, which is more data-science oriented, but overkill for this video. \"\n",
    "</font>"
   ]
  },
  {
   "cell_type": "code",
   "execution_count": null,
   "metadata": {
    "id": "xBemkiqL_iWw"
   },
   "outputs": [],
   "source": [
    "import numpy as np\n",
    "import matplotlib.pyplot as plt"
   ]
  },
  {
   "cell_type": "markdown",
   "metadata": {
    "id": "UACvR0KG_iWx"
   },
   "source": [
    "<font color='red'>\n",
    "Scroll to Methods\n",
    "</font>\n",
    ".\n",
    "\n",
    "<font color='blue'>\n",
    "This is the list of methods that you can use for this class. It is pretty similar across all distribution classes, and for our purposes right now the most important are\n",
    "    \n",
    "+ rvs: Random variates.\n",
    "+ pdf: Probability density function.\n",
    "+ mean: Mean of the distribution.\n",
    "+ var: Variance of the distribution.\n",
    "+ std: Standard deviation of the distribution.\n",
    "    \n",
    "The first thing to do is to create an instance of the distribution class. We do this by calling the constructor and passing it two parameters \"loc\" and \"scale\". These same parameters are used to define many distributions in SciPy, and they can have different meaning in each case. For uniform distributions loc is the mean and scale is half of the width of the distribution. So this line will generate a uniform random variable with values ranging from 10 to 15. \n",
    "</font>"
   ]
  },
  {
   "cell_type": "markdown",
   "metadata": {
    "id": "TM3HCSJa_iWx"
   },
   "source": [
    "\\begin{align*}\n",
    "loc &= a \\\\\n",
    "scale &= b-a\n",
    "\\end{align*}\n",
    "\n"
   ]
  },
  {
   "cell_type": "code",
   "execution_count": null,
   "metadata": {
    "id": "3IKerfpo_iWx"
   },
   "outputs": [],
   "source": [
    "U = uniform(loc=10, scale=5)"
   ]
  },
  {
   "cell_type": "markdown",
   "metadata": {
    "id": "79souBIh_iWy"
   },
   "source": [
    "<font color='blue'>\n",
    "Let's plot this distribution. We can evaluate the pdf with the pdf function that is attached to the object. x here is a numpy array with 100 equally spaced numbers from 5 to 20. The second line evaluates the distribution on all of those 100 values, and stores the result in y. The third line draws the plot. Notice that the height of the distribution is 0.2, which is 1/(b-a) as expected.\n",
    "</font>"
   ]
  },
  {
   "cell_type": "code",
   "execution_count": null,
   "metadata": {
    "id": "wLTkIG19_iWy",
    "outputId": "dd8485ed-1ae8-4a5b-d429-d3169a821e7f"
   },
   "outputs": [
    {
     "data": {
      "text/plain": [
       "[<matplotlib.lines.Line2D at 0x7f0acf6da400>]"
      ]
     },
     "execution_count": 16,
     "metadata": {},
     "output_type": "execute_result"
    },
    {
     "data": {
      "image/png": "[encoded data removed]",
      "text/plain": [
       "<Figure size 432x288 with 1 Axes>"
      ]
     },
     "metadata": {
      "needs_background": "light"
     },
     "output_type": "display_data"
    }
   ],
   "source": [
    "uspace = np.linspace(5, 20, 100)\n",
    "pU = U.pdf(uspace)\n",
    "plt.plot(uspace, pU)"
   ]
  },
  {
   "cell_type": "markdown",
   "metadata": {
    "id": "e-KhokMI_iWz"
   },
   "source": [
    "<font color='blue'>\n",
    "The mean, var, and std functions of the distribution object return the mean, variance, and standard deviation of the distribution. We can compare this to the formula we have for these quantities.\n",
    "</font>"
   ]
  },
  {
   "cell_type": "code",
   "execution_count": null,
   "metadata": {
    "id": "9JN6o_YP_iW0",
    "outputId": "7bf279c5-f9c2-4dd8-c17d-2d2ec739855a"
   },
   "outputs": [
    {
     "data": {
      "text/plain": [
       "(12.5, 2.083333333333333, 1.4433756729740643)"
      ]
     },
     "execution_count": 17,
     "metadata": {},
     "output_type": "execute_result"
    }
   ],
   "source": [
    "U.mean(), U.var(), U.std()"
   ]
  },
  {
   "cell_type": "code",
   "execution_count": null,
   "metadata": {
    "id": "XewjAAVn_iW0",
    "outputId": "5f1a7cfc-cab3-44a2-ccd5-636c4cfaa958"
   },
   "outputs": [
    {
     "name": "stdout",
     "output_type": "stream",
     "text": [
      "mean = 12.5\n",
      "var = 2.0833333333333335\n",
      "str = 1.4433756729740645\n"
     ]
    }
   ],
   "source": [
    "a = 10\n",
    "b = 15\n",
    "print('mean = {0}'.format( (a+b)/2 ))\n",
    "print('var = {0}'.format(  (b-a)**2/12 ))\n",
    "print('str = {0}'.format(  (b-a)/np.sqrt(12) ))"
   ]
  },
  {
   "cell_type": "markdown",
   "metadata": {
    "id": "FodvVEut_iW0"
   },
   "source": [
    "# Sampling"
   ]
  },
  {
   "cell_type": "markdown",
   "metadata": {
    "id": "AroJ4rWp_iW0"
   },
   "source": [
    "<font color='blue'>\n",
    "Finally, we use the 'random variates' function rvs to sample from a distribution object. we pass in the number of sample size, and this returns a numpy array with the values.\n",
    "</font>"
   ]
  },
  {
   "cell_type": "code",
   "execution_count": null,
   "metadata": {
    "id": "qp3S8uOA_iW1",
    "outputId": "0d707461-9720-46a3-9547-4f03ea837e8b"
   },
   "outputs": [
    {
     "data": {
      "text/plain": [
       "array([12.06916253, 10.05561629, 11.35033279])"
      ]
     },
     "execution_count": 19,
     "metadata": {},
     "output_type": "execute_result"
    }
   ],
   "source": [
    "U.rvs(size=3)"
   ]
  },
  {
   "cell_type": "markdown",
   "metadata": {
    "id": "0UmfOWD__iW1"
   },
   "source": [
    "<font color='blue'>\n",
    "We can use rsv to generate, say, 100 samples from U. and then visualize them in a histogram.\n",
    "</font>"
   ]
  },
  {
   "cell_type": "code",
   "execution_count": null,
   "metadata": {
    "id": "2HDPmb8m_iW1",
    "outputId": "691e68ac-b4d2-4a4a-f872-6a801b9d9cd1"
   },
   "outputs": [
    {
     "data": {
      "text/plain": [
       "(array([16.,  4., 12.,  9., 12.,  8., 11.,  7., 14.,  7.]),\n",
       " array([10.03449675, 10.5275224 , 11.02054806, 11.51357372, 12.00659937,\n",
       "        12.49962503, 12.99265069, 13.48567634, 13.978702  , 14.47172766,\n",
       "        14.96475332]),\n",
       " <BarContainer object of 10 artists>)"
      ]
     },
     "execution_count": 33,
     "metadata": {},
     "output_type": "execute_result"
    },
    {
     "data": {
      "image/png": "[encoded data removed]",
      "text/plain": [
       "<Figure size 432x288 with 1 Axes>"
      ]
     },
     "metadata": {
      "needs_background": "light"
     },
     "output_type": "display_data"
    }
   ],
   "source": [
    "plt.hist( U.rvs(size=100) , rwidth=0.8)"
   ]
  },
  {
   "cell_type": "markdown",
   "metadata": {
    "id": "MTNBysJN_iW1"
   },
   "source": [
    "<font color='blue'>\n",
    "Let's overlay our histogram with the distribution that generated it. This time when we plot the histogram we will pass the parameter density equals True. This will tell the program to scale the histogram down to the size of a probability density function. \n",
    "    \n",
    "We can increase the number of samples to say 10000, and observe that the histogram looks more and more like the distribution.\n",
    "</font>"
   ]
  },
  {
   "cell_type": "code",
   "execution_count": null,
   "metadata": {
    "id": "9MNKrfrm_iW1",
    "outputId": "8b20fa93-74e7-4a37-eac2-43f4c1689856"
   },
   "outputs": [
    {
     "data": {
      "text/plain": [
       "[<matplotlib.lines.Line2D at 0x7f0acf3a8280>]"
      ]
     },
     "execution_count": 34,
     "metadata": {},
     "output_type": "execute_result"
    },
    {
     "data": {
      "image/png": "[encoded data removed]",
      "text/plain": [
       "<Figure size 432x288 with 1 Axes>"
      ]
     },
     "metadata": {
      "needs_background": "light"
     },
     "output_type": "display_data"
    }
   ],
   "source": [
    "plt.hist( U.rvs(size=10000), rwidth=0.8, density=True)\n",
    "plt.plot( uspace, pU)"
   ]
  }
 ],
 "metadata": {
  "colab": {
   "name": "week_2_video1_uniform.ipynb",
   "provenance": []
  },
  "kernelspec": {
   "display_name": "Python 3 (ipykernel)",
   "language": "python",
   "name": "python3"
  },
  "language_info": {
   "codemirror_mode": {
    "name": "ipython",
    "version": 3
   },
   "file_extension": ".py",
   "mimetype": "text/x-python",
   "name": "python",
   "nbconvert_exporter": "python",
   "pygments_lexer": "ipython3",
   "version": "3.11.4"
  }
 },
 "nbformat": 4,
 "nbformat_minor": 1
}
