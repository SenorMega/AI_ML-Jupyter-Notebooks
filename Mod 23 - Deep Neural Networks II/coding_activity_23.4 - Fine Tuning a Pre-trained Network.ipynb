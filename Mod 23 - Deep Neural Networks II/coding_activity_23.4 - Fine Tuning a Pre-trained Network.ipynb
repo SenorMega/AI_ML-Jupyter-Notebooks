{
 "cells": [
  {
   "cell_type": "markdown",
   "metadata": {
    "nbgrader": {
     "grade": false,
     "grade_id": "cell-1af27d3e65f74335",
     "locked": true,
     "schema_version": 3,
     "solution": false,
     "task": false
    }
   },
   "source": [
    "### Codio Activity 23.4: Fine Tuning a Pre-trained Network\n",
    "\n",
    "**Expected Time = 60 minutes**\n",
    "\n",
    "**Total Points = 30**\n",
    "\n",
    "In addition to the use of a pre-trained network to extract features from a different dataset, the weights can be adjusted or **fine-tuned** as a last step to squeeze additional performance from the network.  To do so, you will again use the `EfficientNetV2B0` network on the `cifar10` data from `keras`.  This time you are encouraged to use the functional API syntax to construct your network.  \n",
    "\n",
    "For a second example, consult the `keras` documentation example [here](https://keras.io/guides/transfer_learning/). \n",
    "\n",
    "#### Index\n",
    "\n",
    "- [Problem 1](#-Problem-1)\n",
    "- [Problem 2](#-Problem-2)\n",
    "- [Problem 3](#-Problem-3)\n",
    "\n",
    "Run the code cell below to import the necessary libraries."
   ]
  },
  {
   "cell_type": "code",
   "execution_count": 2,
   "metadata": {},
   "outputs": [],
   "source": [
    "import numpy as np\n",
    "import pandas as pd\n",
    "import matplotlib.pyplot as plt\n",
    "\n",
    "\n",
    "from tensorflow.keras.applications.efficientnet_v2 import EfficientNetV2B0\n",
    "from tensorflow.keras.layers import Dense, Flatten\n",
    "from tensorflow.keras.models import Sequential\n",
    "from tensorflow.keras.utils import to_categorical\n",
    "import tensorflow as tf\n",
    "from tensorflow.keras.datasets import cifar10\n",
    "from tensorflow.keras import Model, Input"
   ]
  },
  {
   "cell_type": "code",
   "execution_count": 4,
   "metadata": {},
   "outputs": [
    {
     "name": "stderr",
     "output_type": "stream",
     "text": [
      "C:\\Users\\sspillane\\AppData\\Local\\Temp\\ipykernel_21248\\3452182264.py:2: DeprecationWarning: DataFrameGroupBy.apply operated on the grouping columns. This behavior is deprecated, and in a future version of pandas the grouping columns will be excluded from the operation. Either pass `include_groups=False` to exclude the groupings or explicitly select the grouping columns after groupby to silence this warning.\n",
      "  sub_indices = pd.DataFrame(y_train, columns= [\"labels\"]).groupby('labels', group_keys=False).apply(lambda x: x.sample(frac=0.3, random_state=123)).index\n"
     ]
    }
   ],
   "source": [
    "(X_train, y_train), (X_test, y_test) = cifar10.load_data()\n",
    "sub_indices = pd.DataFrame(y_train, columns= [\"labels\"]).groupby('labels', group_keys=False).apply(lambda x: x.sample(frac=0.3, random_state=123)).index\n",
    "X_train = X_train[sub_indices]\n",
    "y_train = y_train[sub_indices]\n",
    "\n",
    "Y_train = to_categorical(y_train)\n",
    "Y_test = to_categorical(y_test)\n"
   ]
  },
  {
   "cell_type": "markdown",
   "metadata": {
    "nbgrader": {
     "grade": false,
     "grade_id": "cell-c8d37aca8ee95d87",
     "locked": true,
     "schema_version": 3,
     "solution": false,
     "task": false
    }
   },
   "source": [
    "[Back to top](#-Index)\n",
    "\n",
    "### Problem 1\n",
    "\n",
    "#### Training the Network to Convergence\n",
    "\n",
    "**10 Points**\n",
    "\n",
    "In the code cell below, use the function `EfficientNetV2B0` with the appropriate input shape and the argument `include_top` equal to `False` to create the model you will be using for this activity. Assign your result to `base_model`.\n",
    "\n",
    "Use the function `Input()` with argument `shape` equal to `(32, 32, 3)` and assign your result to the variable `inputs`.\n",
    "\n",
    "Use `base_model` with argument equal to `inputs` and assign your result to the variable `x`.\n",
    "\n",
    "Use the function `Flatten` to flatten `x`. The pseudocode to complete this step is given below:\n",
    "\n",
    "```Python\n",
    "x = Flatten()(...)\n",
    "```\n",
    "\n",
    "Pass `x` through a `Dense` layer with 10 hidden nodes and `activation` equal to `relu` and assign the result to the variable `output`. The pseudocode to complete this step is given below:\n",
    "\n",
    "```Python\n",
    "output = Dense(..., activation = ...)(...)\n",
    "```\n",
    "\n",
    "Use the code `base_model.trainable = False` to ensure that your weights are not trainable.\n",
    "\n",
    "Use the function `Model()` with argument `inputs` and `output` to define your model. Assign the result to the variable `model`.\n",
    "\n",
    "Compile `model` using `categorical_crossentropy` as your `loss` and `accuracy` as your `metric`.\n",
    "\n",
    "Use the `fit()` function on `model` to fit the  training data `X_train` and `Y_train`. Set the argument `validation_data` equal to `(X_test, Y_test)` and the argument `epochs` equal to 1.  Assign the result to the variable `bottom_model` below. \n",
    "\n",
    "NOTE: This question is computationally expensive, so please be patient with the processing. It may take a few minutes based on your computing power. \n"
   ]
  },
  {
   "cell_type": "code",
   "execution_count": 3,
   "metadata": {
    "nbgrader": {
     "grade": false,
     "grade_id": "cell-e92e20d0c85d3026",
     "locked": false,
     "schema_version": 3,
     "solution": true,
     "task": false
    }
   },
   "outputs": [
    {
     "name": "stderr",
     "output_type": "stream",
     "text": [
      "2022-11-21 16:59:03.831934: W tensorflow/stream_executor/platform/default/dso_loader.cc:64] Could not load dynamic library 'libcuda.so.1'; dlerror: libcuda.so.1: cannot open shared object file: No such file or directory\n",
      "2022-11-21 16:59:03.831995: W tensorflow/stream_executor/cuda/cuda_driver.cc:269] failed call to cuInit: UNKNOWN ERROR (303)\n",
      "2022-11-21 16:59:03.833111: I tensorflow/stream_executor/cuda/cuda_diagnostics.cc:156] kernel driver does not appear to be running on this host (stronggarbo-aztecimmune): /proc/driver/nvidia/version does not exist\n",
      "2022-11-21 16:59:03.834818: I tensorflow/core/platform/cpu_feature_guard.cc:193] This TensorFlow binary is optimized with oneAPI Deep Neural Network Library (oneDNN) to use the following CPU instructions in performance-critical operations:  AVX2 FMA\n",
      "To enable them in other operations, rebuild TensorFlow with the appropriate compiler flags.\n"
     ]
    },
    {
     "name": "stdout",
     "output_type": "stream",
     "text": [
      "Epoch 1/5\n",
      "469/469 [==============================] - 50s 88ms/step - loss: 1.5093 - accuracy: 0.4675 - val_loss: 1.2373 - val_accuracy: 0.5638\n",
      "Epoch 2/5\n",
      "469/469 [==============================] - 40s 86ms/step - loss: 1.2467 - accuracy: 0.5626 - val_loss: 1.2401 - val_accuracy: 0.5615\n",
      "Epoch 3/5\n",
      "469/469 [==============================] - 34s 72ms/step - loss: 1.1757 - accuracy: 0.5861 - val_loss: 1.1614 - val_accuracy: 0.5910\n",
      "Epoch 4/5\n",
      "469/469 [==============================] - 32s 68ms/step - loss: 1.1217 - accuracy: 0.6063 - val_loss: 1.2619 - val_accuracy: 0.5663\n",
      "Epoch 5/5\n",
      "469/469 [==============================] - 34s 73ms/step - loss: 1.0887 - accuracy: 0.6166 - val_loss: 1.1805 - val_accuracy: 0.5848\n",
      "Model: \"model\"\n",
      "_________________________________________________________________\n",
      " Layer (type)                Output Shape              Param #   \n",
      "=================================================================\n",
      " input_2 (InputLayer)        [(None, 32, 32, 3)]       0         \n",
      "                                                                 \n",
      " efficientnetv2-b0 (Function  (None, 1, 1, 1280)       5919312   \n",
      " al)                                                             \n",
      "                                                                 \n",
      " flatten (Flatten)           (None, 1280)              0         \n",
      "                                                                 \n",
      " dense (Dense)               (None, 100)               128100    \n",
      "                                                                 \n",
      " dense_1 (Dense)             (None, 10)                1010      \n",
      "                                                                 \n",
      "=================================================================\n",
      "Total params: 6,048,422\n",
      "Trainable params: 129,110\n",
      "Non-trainable params: 5,919,312\n",
      "_________________________________________________________________\n",
      "None\n"
     ]
    }
   ],
   "source": [
    "### GRADED\n",
    "base_model = ''\n",
    "inputs = ''\n",
    "x = ''\n",
    "x = ''\n",
    "x = ''\n",
    "output = ''\n",
    "model = ''\n",
    "#be sure to compile\n",
    "\n",
    "bottom_model = ''\n",
    "    \n",
    "### BEGIN SOLUTION\n",
    "base_model = EfficientNetV2B0(input_shape = (32, 32, 3), include_top=False)\n",
    "inputs = Input(shape = (32, 32, 3))\n",
    "x = base_model(inputs)\n",
    "x = Flatten()(x)\n",
    "x = Dense(10, activation = 'relu')(x)\n",
    "output = Dense(10, activation = 'sigmoid')(x)\n",
    "base_model.trainable = False\n",
    "model = Model(inputs, output)\n",
    "model.compile(loss = 'categorical_crossentropy', metrics = ['accuracy'])\n",
    "bottom_model = model.fit(X_train, Y_train, validation_data=(X_test, Y_test), \n",
    "                    epochs = 1)\n",
    "### END SOLUTION\n",
    "\n",
    "### ANSWER CHECK\n",
    "print(model.summary())"
   ]
  },
  {
   "cell_type": "code",
   "execution_count": 4,
   "metadata": {
    "nbgrader": {
     "grade": true,
     "grade_id": "cell-c7a974852163092b",
     "locked": true,
     "points": 10,
     "schema_version": 3,
     "solution": false,
     "task": false
    }
   },
   "outputs": [
    {
     "name": "stdout",
     "output_type": "stream",
     "text": [
      "Epoch 1/5\n",
      "469/469 [==============================] - 52s 90ms/step - loss: 1.5343 - accuracy: 0.4644 - val_loss: 1.2853 - val_accuracy: 0.5555\n",
      "Epoch 2/5\n",
      "469/469 [==============================] - 30s 65ms/step - loss: 1.2563 - accuracy: 0.5579 - val_loss: 1.2166 - val_accuracy: 0.5710\n",
      "Epoch 3/5\n",
      "469/469 [==============================] - 32s 68ms/step - loss: 1.1789 - accuracy: 0.5853 - val_loss: 1.1935 - val_accuracy: 0.5897\n",
      "Epoch 4/5\n",
      "469/469 [==============================] - 35s 74ms/step - loss: 1.1236 - accuracy: 0.6075 - val_loss: 1.1563 - val_accuracy: 0.5891\n",
      "Epoch 5/5\n",
      "469/469 [==============================] - 34s 73ms/step - loss: 1.0934 - accuracy: 0.6144 - val_loss: 1.2450 - val_accuracy: 0.5783\n",
      "Model: \"model_1\"\n",
      "_________________________________________________________________\n",
      " Layer (type)                Output Shape              Param #   \n",
      "=================================================================\n",
      " input_4 (InputLayer)        [(None, 32, 32, 3)]       0         \n",
      "                                                                 \n",
      " efficientnetv2-b0 (Function  (None, 1, 1, 1280)       5919312   \n",
      " al)                                                             \n",
      "                                                                 \n",
      " flatten_1 (Flatten)         (None, 1280)              0         \n",
      "                                                                 \n",
      " dense_2 (Dense)             (None, 100)               128100    \n",
      "                                                                 \n",
      " dense_3 (Dense)             (None, 10)                1010      \n",
      "                                                                 \n",
      "=================================================================\n",
      "Total params: 6,048,422\n",
      "Trainable params: 129,110\n",
      "Non-trainable params: 5,919,312\n",
      "_________________________________________________________________\n",
      "None\n"
     ]
    }
   ],
   "source": [
    "### BEGIN HIDDEN TESTS\n",
    "base_model_ = EfficientNetV2B0(input_shape = (32, 32, 3), include_top=False)\n",
    "inputs_ = Input(shape = (32, 32, 3))\n",
    "x_ = base_model(inputs_)\n",
    "x_ = Flatten()(x_)\n",
    "x_ = Dense(100, activation = 'relu')(x_)\n",
    "output_ = Dense(10, activation = 'sigmoid')(x_)\n",
    "model_ = Model(inputs_, output_)\n",
    "model_.compile(loss = 'categorical_crossentropy', metrics = ['accuracy'])\n",
    "#\n",
    "#\n",
    "#\n",
    "assert type(base_model) == type(base_model_)\n",
    "### END HIDDEN TESTS\n",
    "print(model_.summary())"
   ]
  },
  {
   "cell_type": "markdown",
   "metadata": {
    "nbgrader": {
     "grade": false,
     "grade_id": "cell-72d9644d3c68011b",
     "locked": true,
     "schema_version": 3,
     "solution": false,
     "task": false
    }
   },
   "source": [
    "[Back to top](#-Index)\n",
    "\n",
    "### Problem 2\n",
    "\n",
    "#### Setting to Trainable\n",
    "\n",
    "**10 Points**\n",
    "\n",
    "In the code cell below, use the code `base_model.trainable = True` to ensure that your weights are now trainable.\n",
    "\n",
    "\n",
    "Set the final five layers to trainable in the `base_model` as demonstrated in the lectures. "
   ]
  },
  {
   "cell_type": "code",
   "execution_count": 5,
   "metadata": {},
   "outputs": [
    {
     "data": {
      "text/plain": [
       "False"
      ]
     },
     "execution_count": 5,
     "metadata": {},
     "output_type": "execute_result"
    }
   ],
   "source": [
    "base_model.trainable #are the base model weights set to trainable?"
   ]
  },
  {
   "cell_type": "code",
   "execution_count": 6,
   "metadata": {
    "nbgrader": {
     "grade": false,
     "grade_id": "cell-17e4f0a4de6dc3b8",
     "locked": false,
     "schema_version": 3,
     "solution": true,
     "task": false
    }
   },
   "outputs": [
    {
     "name": "stdout",
     "output_type": "stream",
     "text": [
      "Layer is trainable: False\n",
      "Layer is trainable: False\n",
      "Layer is trainable: False\n",
      "Layer is trainable: False\n",
      "Layer is trainable: False\n",
      "Layer is trainable: True\n",
      "Layer is trainable: True\n",
      "Layer is trainable: True\n",
      "Layer is trainable: True\n",
      "Layer is trainable: True\n"
     ]
    }
   ],
   "source": [
    "### GRADED\n",
    "base_model.trainable = True\n",
    "for layer in '':\n",
    "    #make trainable\n",
    "    pass\n",
    "    \n",
    "### BEGIN SOLUTION\n",
    "base_model.trainable = True\n",
    "for layer in base_model.layers[:-5]:\n",
    "    layer.trainable = False\n",
    "### END SOLUTION\n",
    "\n",
    "### ANSWER CHECK\n",
    "for i, layer in enumerate(base_model.layers[-10:]):\n",
    "    print(f'Layer is trainable: {layer.trainable}')"
   ]
  },
  {
   "cell_type": "code",
   "execution_count": 7,
   "metadata": {
    "nbgrader": {
     "grade": true,
     "grade_id": "cell-279935493600bece",
     "locked": true,
     "points": 10,
     "schema_version": 3,
     "solution": false,
     "task": false
    }
   },
   "outputs": [],
   "source": [
    "### BEGIN HIDDEN TESTS\n",
    "base_model_.trainable = True\n",
    "for layer in base_model_.layers[:-5]:\n",
    "    layer.trainable = False\n",
    "#\n",
    "#\n",
    "#\n",
    "for i, layer in enumerate(base_model.layers[-5:]):\n",
    "    assert layer.trainable == True\n",
    "### END HIDDEN TESTS"
   ]
  },
  {
   "cell_type": "markdown",
   "metadata": {
    "nbgrader": {
     "grade": false,
     "grade_id": "cell-0307a936396eedc2",
     "locked": true,
     "schema_version": 3,
     "solution": false,
     "task": false
    }
   },
   "source": [
    "[Back to top](#-Index)\n",
    "\n",
    "### Problem 3\n",
    "\n",
    "#### Refitting the network\n",
    "\n",
    "**10 Points**\n",
    "\n",
    "In the code cell below, use the function `compile` on `model` using `categorical_crossentropy` as your `loss` and `accuracy` as your `metric`.\n",
    "\n",
    "Next, use the `fit()` function on `model` to fit the  training data `X_train` and `Y_train`. Set the argument `validation_data` equal to `(X_test, Y_test)` and the argument `epochs` equal to 1.  Assign the result to the variable `fine_tuned_history` below. \n",
    " "
   ]
  },
  {
   "cell_type": "code",
   "execution_count": 8,
   "metadata": {
    "nbgrader": {
     "grade": false,
     "grade_id": "cell-75f43fbafe9c0840",
     "locked": false,
     "schema_version": 3,
     "solution": true,
     "task": false
    }
   },
   "outputs": [
    {
     "name": "stdout",
     "output_type": "stream",
     "text": [
      "Epoch 1/5\n",
      "469/469 [==============================] - 56s 90ms/step - loss: 1.6604 - accuracy: 0.5090 - val_loss: 1.2255 - val_accuracy: 0.5940\n",
      "Epoch 2/5\n",
      "469/469 [==============================] - 40s 85ms/step - loss: 1.0498 - accuracy: 0.6427 - val_loss: 1.1942 - val_accuracy: 0.6157\n",
      "Epoch 3/5\n",
      "469/469 [==============================] - 39s 82ms/step - loss: 0.9001 - accuracy: 0.6948 - val_loss: 1.1988 - val_accuracy: 0.6255\n",
      "Epoch 4/5\n",
      "469/469 [==============================] - 44s 95ms/step - loss: 0.7925 - accuracy: 0.7295 - val_loss: 1.3052 - val_accuracy: 0.6044\n",
      "Epoch 5/5\n",
      "469/469 [==============================] - 36s 77ms/step - loss: 0.7065 - accuracy: 0.7631 - val_loss: 1.3319 - val_accuracy: 0.6179\n"
     ]
    },
    {
     "data": {
      "text/plain": [
       "0.7630666494369507"
      ]
     },
     "execution_count": 8,
     "metadata": {},
     "output_type": "execute_result"
    }
   ],
   "source": [
    "### GRADED\n",
    "fine_tuned_history = ''\n",
    "    \n",
    "### BEGIN SOLUTION\n",
    "model.compile(loss = 'categorical_crossentropy', metrics = ['accuracy'])\n",
    "fine_tuned_history = model.fit(X_train, Y_train, validation_data = (X_test, Y_test), epochs = 1)\n",
    "### END SOLUTION\n",
    "\n",
    "### ANSWER CHECK\n",
    "fine_tuned_history.history['accuracy'][-1]"
   ]
  },
  {
   "cell_type": "code",
   "execution_count": 9,
   "metadata": {
    "nbgrader": {
     "grade": true,
     "grade_id": "cell-c60ddea5358927c2",
     "locked": true,
     "points": 10,
     "schema_version": 3,
     "solution": false,
     "task": false
    },
    "scrolled": true
   },
   "outputs": [
    {
     "name": "stdout",
     "output_type": "stream",
     "text": [
      "Epoch 1/5\n",
      "469/469 [==============================] - 55s 94ms/step - loss: 0.9569 - accuracy: 0.6874 - val_loss: 1.3558 - val_accuracy: 0.6133\n",
      "Epoch 2/5\n",
      "469/469 [==============================] - 35s 76ms/step - loss: 0.7281 - accuracy: 0.7573 - val_loss: 1.3930 - val_accuracy: 0.6100\n",
      "Epoch 3/5\n",
      "469/469 [==============================] - 35s 74ms/step - loss: 0.6363 - accuracy: 0.7869 - val_loss: 1.4276 - val_accuracy: 0.6243\n",
      "Epoch 4/5\n",
      "469/469 [==============================] - 36s 77ms/step - loss: 0.5828 - accuracy: 0.8080 - val_loss: 1.5683 - val_accuracy: 0.6173\n",
      "Epoch 5/5\n",
      "469/469 [==============================] - 34s 73ms/step - loss: 0.5433 - accuracy: 0.8201 - val_loss: 1.5925 - val_accuracy: 0.6181\n"
     ]
    }
   ],
   "source": [
    "### BEGIN HIDDEN TESTS\n",
    "model_.compile(loss = 'categorical_crossentropy', metrics = ['accuracy'])\n",
    "#\n",
    "#\n",
    "#\n",
    "#assert len(fine_tuned_history.history['accuracy']) == len(fine_tuned_history_.history['accuracy'])\n",
    "### END HIDDEN TESTS"
   ]
  },
  {
   "cell_type": "code",
   "execution_count": 6,
   "metadata": {},
   "outputs": [
    {
     "name": "stdout",
     "output_type": "stream",
     "text": [
      "Collecting torch\n",
      "  Downloading torch-2.3.1-cp312-cp312-win_amd64.whl.metadata (26 kB)\n",
      "Requirement already satisfied: filelock in c:\\users\\sspillane\\appdata\\local\\anaconda3\\lib\\site-packages (from torch) (3.13.1)\n",
      "Requirement already satisfied: typing-extensions>=4.8.0 in c:\\users\\sspillane\\appdata\\local\\anaconda3\\lib\\site-packages (from torch) (4.11.0)\n",
      "Requirement already satisfied: sympy in c:\\users\\sspillane\\appdata\\local\\anaconda3\\lib\\site-packages (from torch) (1.12)\n",
      "Requirement already satisfied: networkx in c:\\users\\sspillane\\appdata\\local\\anaconda3\\lib\\site-packages (from torch) (3.3)\n",
      "Requirement already satisfied: jinja2 in c:\\users\\sspillane\\appdata\\local\\anaconda3\\lib\\site-packages (from torch) (3.1.4)\n",
      "Requirement already satisfied: fsspec in c:\\users\\sspillane\\appdata\\local\\anaconda3\\lib\\site-packages (from torch) (2024.3.1)\n",
      "Collecting mkl<=2021.4.0,>=2021.1.1 (from torch)\n",
      "  Downloading mkl-2021.4.0-py2.py3-none-win_amd64.whl.metadata (1.4 kB)\n",
      "Collecting intel-openmp==2021.* (from mkl<=2021.4.0,>=2021.1.1->torch)\n",
      "  Downloading intel_openmp-2021.4.0-py2.py3-none-win_amd64.whl.metadata (1.2 kB)\n",
      "Collecting tbb==2021.* (from mkl<=2021.4.0,>=2021.1.1->torch)\n",
      "  Downloading tbb-2021.13.0-py3-none-win_amd64.whl.metadata (1.1 kB)\n",
      "Requirement already satisfied: MarkupSafe>=2.0 in c:\\users\\sspillane\\appdata\\local\\anaconda3\\lib\\site-packages (from jinja2->torch) (2.1.3)\n",
      "Requirement already satisfied: mpmath>=0.19 in c:\\users\\sspillane\\appdata\\local\\anaconda3\\lib\\site-packages (from sympy->torch) (1.3.0)\n",
      "Downloading torch-2.3.1-cp312-cp312-win_amd64.whl (159.7 MB)\n",
      "   ---------------------------------------- 0.0/159.7 MB ? eta -:--:--\n",
      "   ---------------------------------------- 0.2/159.7 MB 4.1 MB/s eta 0:00:39\n",
      "   ---------------------------------------- 0.8/159.7 MB 8.2 MB/s eta 0:00:20\n",
      "   ---------------------------------------- 1.6/159.7 MB 11.6 MB/s eta 0:00:14\n",
      "    --------------------------------------- 3.1/159.7 MB 16.5 MB/s eta 0:00:10\n",
      "   - -------------------------------------- 4.9/159.7 MB 20.7 MB/s eta 0:00:08\n",
      "   - -------------------------------------- 5.3/159.7 MB 21.3 MB/s eta 0:00:08\n",
      "   - -------------------------------------- 5.3/159.7 MB 21.3 MB/s eta 0:00:08\n",
      "   - -------------------------------------- 5.4/159.7 MB 14.5 MB/s eta 0:00:11\n",
      "   --- ------------------------------------ 12.1/159.7 MB 38.5 MB/s eta 0:00:04\n",
      "   --- ------------------------------------ 14.1/159.7 MB 38.5 MB/s eta 0:00:04\n",
      "   --- ------------------------------------ 15.8/159.7 MB 73.1 MB/s eta 0:00:02\n",
      "   ---- ----------------------------------- 17.3/159.7 MB 59.5 MB/s eta 0:00:03\n",
      "   ---- ----------------------------------- 18.3/159.7 MB 46.7 MB/s eta 0:00:04\n",
      "   ----- ---------------------------------- 21.0/159.7 MB 40.9 MB/s eta 0:00:04\n",
      "   ----- ---------------------------------- 22.8/159.7 MB 38.5 MB/s eta 0:00:04\n",
      "   ------ --------------------------------- 24.1/159.7 MB 36.4 MB/s eta 0:00:04\n",
      "   ------ --------------------------------- 25.9/159.7 MB 36.3 MB/s eta 0:00:04\n",
      "   ------ --------------------------------- 27.0/159.7 MB 36.4 MB/s eta 0:00:04\n",
      "   ------ --------------------------------- 27.4/159.7 MB 32.7 MB/s eta 0:00:05\n",
      "   ------- -------------------------------- 28.2/159.7 MB 31.2 MB/s eta 0:00:05\n",
      "   ------- -------------------------------- 29.6/159.7 MB 28.5 MB/s eta 0:00:05\n",
      "   ------- -------------------------------- 31.2/159.7 MB 26.2 MB/s eta 0:00:05\n",
      "   -------- ------------------------------- 32.9/159.7 MB 27.3 MB/s eta 0:00:05\n",
      "   -------- ------------------------------- 34.1/159.7 MB 26.2 MB/s eta 0:00:05\n",
      "   -------- ------------------------------- 35.9/159.7 MB 26.2 MB/s eta 0:00:05\n",
      "   --------- ------------------------------ 37.5/159.7 MB 28.5 MB/s eta 0:00:05\n",
      "   --------- ------------------------------ 38.8/159.7 MB 32.8 MB/s eta 0:00:04\n",
      "   ---------- ----------------------------- 40.5/159.7 MB 32.7 MB/s eta 0:00:04\n",
      "   ---------- ----------------------------- 41.7/159.7 MB 31.2 MB/s eta 0:00:04\n",
      "   ---------- ----------------------------- 43.5/159.7 MB 32.7 MB/s eta 0:00:04\n",
      "   ----------- ---------------------------- 45.4/159.7 MB 32.7 MB/s eta 0:00:04\n",
      "   ----------- ---------------------------- 47.1/159.7 MB 32.8 MB/s eta 0:00:04\n",
      "   ------------ --------------------------- 48.6/159.7 MB 32.8 MB/s eta 0:00:04\n",
      "   ------------ --------------------------- 50.2/159.7 MB 34.4 MB/s eta 0:00:04\n",
      "   ------------ --------------------------- 51.9/159.7 MB 36.4 MB/s eta 0:00:03\n",
      "   ------------- -------------------------- 53.6/159.7 MB 36.4 MB/s eta 0:00:03\n",
      "   ------------- -------------------------- 55.1/159.7 MB 34.4 MB/s eta 0:00:04\n",
      "   -------------- ------------------------- 57.0/159.7 MB 36.3 MB/s eta 0:00:03\n",
      "   -------------- ------------------------- 58.0/159.7 MB 32.7 MB/s eta 0:00:04\n",
      "   -------------- ------------------------- 59.7/159.7 MB 32.8 MB/s eta 0:00:04\n",
      "   --------------- ------------------------ 61.3/159.7 MB 32.8 MB/s eta 0:00:04\n",
      "   --------------- ------------------------ 62.9/159.7 MB 34.4 MB/s eta 0:00:03\n",
      "   ---------------- ----------------------- 64.3/159.7 MB 32.8 MB/s eta 0:00:03\n",
      "   ---------------- ----------------------- 66.2/159.7 MB 34.4 MB/s eta 0:00:03\n",
      "   ---------------- ----------------------- 67.9/159.7 MB 34.4 MB/s eta 0:00:03\n",
      "   ----------------- ---------------------- 69.4/159.7 MB 34.4 MB/s eta 0:00:03\n",
      "   ----------------- ---------------------- 71.0/159.7 MB 34.4 MB/s eta 0:00:03\n",
      "   ------------------ --------------------- 72.6/159.7 MB 34.6 MB/s eta 0:00:03\n",
      "   ------------------ --------------------- 74.0/159.7 MB 32.7 MB/s eta 0:00:03\n",
      "   ------------------ --------------------- 75.8/159.7 MB 32.7 MB/s eta 0:00:03\n",
      "   ------------------- -------------------- 77.6/159.7 MB 34.4 MB/s eta 0:00:03\n",
      "   ------------------- -------------------- 79.0/159.7 MB 34.4 MB/s eta 0:00:03\n",
      "   -------------------- ------------------- 80.2/159.7 MB 31.2 MB/s eta 0:00:03\n",
      "   -------------------- ------------------- 82.0/159.7 MB 32.8 MB/s eta 0:00:03\n",
      "   -------------------- ------------------- 83.7/159.7 MB 32.8 MB/s eta 0:00:03\n",
      "   --------------------- ------------------ 85.4/159.7 MB 32.8 MB/s eta 0:00:03\n",
      "   --------------------- ------------------ 87.1/159.7 MB 34.4 MB/s eta 0:00:03\n",
      "   ---------------------- ----------------- 88.9/159.7 MB 34.4 MB/s eta 0:00:03\n",
      "   ---------------------- ----------------- 90.2/159.7 MB 34.4 MB/s eta 0:00:03\n",
      "   ----------------------- ---------------- 91.9/159.7 MB 34.4 MB/s eta 0:00:02\n",
      "   ----------------------- ---------------- 93.3/159.7 MB 34.6 MB/s eta 0:00:02\n",
      "   ----------------------- ---------------- 94.9/159.7 MB 34.4 MB/s eta 0:00:02\n",
      "   ------------------------ --------------- 96.6/159.7 MB 34.4 MB/s eta 0:00:02\n",
      "   ------------------------ --------------- 98.0/159.7 MB 32.8 MB/s eta 0:00:02\n",
      "   ------------------------ --------------- 99.7/159.7 MB 32.7 MB/s eta 0:00:02\n",
      "   ------------------------ -------------- 101.2/159.7 MB 32.7 MB/s eta 0:00:02\n",
      "   ------------------------- ------------- 102.9/159.7 MB 34.4 MB/s eta 0:00:02\n",
      "   ------------------------- ------------- 104.7/159.7 MB 34.4 MB/s eta 0:00:02\n",
      "   ------------------------- ------------- 106.4/159.7 MB 34.6 MB/s eta 0:00:02\n",
      "   -------------------------- ------------ 108.1/159.7 MB 34.4 MB/s eta 0:00:02\n",
      "   -------------------------- ------------ 109.5/159.7 MB 34.4 MB/s eta 0:00:02\n",
      "   --------------------------- ----------- 111.4/159.7 MB 34.4 MB/s eta 0:00:02\n",
      "   --------------------------- ----------- 112.7/159.7 MB 34.4 MB/s eta 0:00:02\n",
      "   --------------------------- ----------- 114.3/159.7 MB 34.6 MB/s eta 0:00:02\n",
      "   ---------------------------- ---------- 115.8/159.7 MB 32.8 MB/s eta 0:00:02\n",
      "   ---------------------------- ---------- 117.4/159.7 MB 32.8 MB/s eta 0:00:02\n",
      "   ----------------------------- --------- 119.1/159.7 MB 32.8 MB/s eta 0:00:02\n",
      "   ----------------------------- --------- 120.2/159.7 MB 31.2 MB/s eta 0:00:02\n",
      "   ----------------------------- --------- 122.1/159.7 MB 31.2 MB/s eta 0:00:02\n",
      "   ------------------------------ -------- 123.8/159.7 MB 32.7 MB/s eta 0:00:02\n",
      "   ------------------------------ -------- 125.5/159.7 MB 32.7 MB/s eta 0:00:02\n",
      "   ------------------------------ -------- 126.5/159.7 MB 32.8 MB/s eta 0:00:02\n",
      "   ------------------------------- ------- 127.9/159.7 MB 32.8 MB/s eta 0:00:01\n",
      "   ------------------------------- ------- 129.8/159.7 MB 32.8 MB/s eta 0:00:01\n",
      "   -------------------------------- ------ 131.5/159.7 MB 34.4 MB/s eta 0:00:01\n",
      "   -------------------------------- ------ 133.2/159.7 MB 34.4 MB/s eta 0:00:01\n",
      "   -------------------------------- ------ 134.8/159.7 MB 34.4 MB/s eta 0:00:01\n",
      "   --------------------------------- ----- 136.5/159.7 MB 36.3 MB/s eta 0:00:01\n",
      "   --------------------------------- ----- 138.2/159.7 MB 36.3 MB/s eta 0:00:01\n",
      "   ---------------------------------- ---- 139.3/159.7 MB 34.6 MB/s eta 0:00:01\n",
      "   ---------------------------------- ---- 141.0/159.7 MB 32.7 MB/s eta 0:00:01\n",
      "   ---------------------------------- ---- 142.9/159.7 MB 34.4 MB/s eta 0:00:01\n",
      "   ----------------------------------- --- 144.2/159.7 MB 32.7 MB/s eta 0:00:01\n",
      "   ----------------------------------- --- 145.8/159.7 MB 31.1 MB/s eta 0:00:01\n",
      "   ----------------------------------- --- 147.4/159.7 MB 32.8 MB/s eta 0:00:01\n",
      "   ------------------------------------ -- 148.9/159.7 MB 31.2 MB/s eta 0:00:01\n",
      "   ------------------------------------ -- 150.6/159.7 MB 34.4 MB/s eta 0:00:01\n",
      "   ------------------------------------- - 152.1/159.7 MB 32.8 MB/s eta 0:00:01\n",
      "   ------------------------------------- - 154.3/159.7 MB 36.4 MB/s eta 0:00:01\n",
      "   --------------------------------------  156.0/159.7 MB 36.4 MB/s eta 0:00:01\n",
      "   --------------------------------------  157.8/159.7 MB 40.9 MB/s eta 0:00:01\n",
      "   --------------------------------------  159.1/159.7 MB 36.3 MB/s eta 0:00:01\n",
      "   --------------------------------------  159.7/159.7 MB 36.4 MB/s eta 0:00:01\n",
      "   --------------------------------------  159.7/159.7 MB 36.4 MB/s eta 0:00:01\n",
      "   --------------------------------------  159.7/159.7 MB 36.4 MB/s eta 0:00:01\n",
      "   --------------------------------------- 159.7/159.7 MB 23.4 MB/s eta 0:00:00\n",
      "Downloading mkl-2021.4.0-py2.py3-none-win_amd64.whl (228.5 MB)\n",
      "   ---------------------------------------- 0.0/228.5 MB ? eta -:--:--\n",
      "   ---------------------------------------- 1.3/228.5 MB 41.6 MB/s eta 0:00:06\n",
      "   ---------------------------------------- 2.6/228.5 MB 32.8 MB/s eta 0:00:07\n",
      "    --------------------------------------- 4.3/228.5 MB 34.3 MB/s eta 0:00:07\n",
      "   - -------------------------------------- 5.8/228.5 MB 33.4 MB/s eta 0:00:07\n",
      "   - -------------------------------------- 7.4/228.5 MB 33.7 MB/s eta 0:00:07\n",
      "   - -------------------------------------- 8.8/228.5 MB 33.1 MB/s eta 0:00:07\n",
      "   - -------------------------------------- 10.2/228.5 MB 32.5 MB/s eta 0:00:07\n",
      "   -- ------------------------------------- 12.0/228.5 MB 34.6 MB/s eta 0:00:07\n",
      "   -- ------------------------------------- 13.7/228.5 MB 32.7 MB/s eta 0:00:07\n",
      "   -- ------------------------------------- 15.5/228.5 MB 34.4 MB/s eta 0:00:07\n",
      "   -- ------------------------------------- 16.9/228.5 MB 32.7 MB/s eta 0:00:07\n",
      "   --- ------------------------------------ 18.4/228.5 MB 34.4 MB/s eta 0:00:07\n",
      "   --- ------------------------------------ 19.8/228.5 MB 32.8 MB/s eta 0:00:07\n",
      "   --- ------------------------------------ 21.5/228.5 MB 32.8 MB/s eta 0:00:07\n",
      "   ---- ----------------------------------- 22.9/228.5 MB 32.8 MB/s eta 0:00:07\n",
      "   ---- ----------------------------------- 24.8/228.5 MB 32.8 MB/s eta 0:00:07\n",
      "   ---- ----------------------------------- 26.4/228.5 MB 32.7 MB/s eta 0:00:07\n",
      "   ---- ----------------------------------- 28.0/228.5 MB 34.4 MB/s eta 0:00:06\n",
      "   ----- ---------------------------------- 29.4/228.5 MB 34.4 MB/s eta 0:00:06\n",
      "   ----- ---------------------------------- 31.2/228.5 MB 34.4 MB/s eta 0:00:06\n",
      "   ----- ---------------------------------- 32.7/228.5 MB 34.6 MB/s eta 0:00:06\n",
      "   ------ --------------------------------- 34.3/228.5 MB 34.4 MB/s eta 0:00:06\n",
      "   ------ --------------------------------- 35.9/228.5 MB 32.8 MB/s eta 0:00:06\n",
      "   ------ --------------------------------- 37.5/228.5 MB 32.8 MB/s eta 0:00:06\n",
      "   ------ --------------------------------- 38.5/228.5 MB 31.2 MB/s eta 0:00:07\n",
      "   ------- -------------------------------- 40.2/228.5 MB 31.2 MB/s eta 0:00:07\n",
      "   ------- -------------------------------- 41.9/228.5 MB 32.7 MB/s eta 0:00:06\n",
      "   ------- -------------------------------- 43.3/228.5 MB 31.2 MB/s eta 0:00:06\n",
      "   ------- -------------------------------- 45.2/228.5 MB 31.2 MB/s eta 0:00:06\n",
      "   -------- ------------------------------- 47.1/228.5 MB 32.7 MB/s eta 0:00:06\n",
      "   -------- ------------------------------- 48.7/228.5 MB 34.4 MB/s eta 0:00:06\n",
      "   -------- ------------------------------- 50.2/228.5 MB 34.4 MB/s eta 0:00:06\n",
      "   --------- ------------------------------ 51.7/228.5 MB 34.4 MB/s eta 0:00:06\n",
      "   --------- ------------------------------ 53.3/228.5 MB 34.6 MB/s eta 0:00:06\n",
      "   --------- ------------------------------ 54.9/228.5 MB 34.4 MB/s eta 0:00:06\n",
      "   --------- ------------------------------ 56.5/228.5 MB 34.4 MB/s eta 0:00:05\n",
      "   ---------- ----------------------------- 58.3/228.5 MB 34.4 MB/s eta 0:00:05\n",
      "   ---------- ----------------------------- 59.8/228.5 MB 32.7 MB/s eta 0:00:06\n",
      "   ---------- ----------------------------- 61.6/228.5 MB 34.4 MB/s eta 0:00:05\n",
      "   ----------- ---------------------------- 63.4/228.5 MB 34.4 MB/s eta 0:00:05\n",
      "   ----------- ---------------------------- 65.1/228.5 MB 36.3 MB/s eta 0:00:05\n",
      "   ----------- ---------------------------- 66.6/228.5 MB 36.4 MB/s eta 0:00:05\n",
      "   ----------- ---------------------------- 68.4/228.5 MB 36.4 MB/s eta 0:00:05\n",
      "   ------------ --------------------------- 70.1/228.5 MB 36.4 MB/s eta 0:00:05\n",
      "   ------------ --------------------------- 71.7/228.5 MB 36.4 MB/s eta 0:00:05\n",
      "   ------------ --------------------------- 73.2/228.5 MB 36.4 MB/s eta 0:00:05\n",
      "   ------------- -------------------------- 75.1/228.5 MB 34.6 MB/s eta 0:00:05\n",
      "   ------------- -------------------------- 76.9/228.5 MB 34.4 MB/s eta 0:00:05\n",
      "   ------------- -------------------------- 78.4/228.5 MB 34.4 MB/s eta 0:00:05\n",
      "   -------------- ------------------------- 80.1/228.5 MB 34.4 MB/s eta 0:00:05\n",
      "   -------------- ------------------------- 81.9/228.5 MB 34.4 MB/s eta 0:00:05\n",
      "   -------------- ------------------------- 83.5/228.5 MB 36.4 MB/s eta 0:00:04\n",
      "   -------------- ------------------------- 85.0/228.5 MB 34.4 MB/s eta 0:00:05\n",
      "   --------------- ------------------------ 86.6/228.5 MB 34.4 MB/s eta 0:00:05\n",
      "   --------------- ------------------------ 88.4/228.5 MB 34.6 MB/s eta 0:00:05\n",
      "   --------------- ------------------------ 89.4/228.5 MB 32.8 MB/s eta 0:00:05\n",
      "   --------------- ------------------------ 91.3/228.5 MB 34.4 MB/s eta 0:00:04\n",
      "   ---------------- ----------------------- 92.4/228.5 MB 34.6 MB/s eta 0:00:04\n",
      "   ---------------- ----------------------- 94.8/228.5 MB 34.4 MB/s eta 0:00:04\n",
      "   ---------------- ----------------------- 96.1/228.5 MB 34.4 MB/s eta 0:00:04\n",
      "   ----------------- ---------------------- 97.6/228.5 MB 34.4 MB/s eta 0:00:04\n",
      "   ----------------- ---------------------- 99.6/228.5 MB 36.3 MB/s eta 0:00:04\n",
      "   ----------------- --------------------- 101.2/228.5 MB 34.4 MB/s eta 0:00:04\n",
      "   ----------------- --------------------- 103.2/228.5 MB 36.4 MB/s eta 0:00:04\n",
      "   ----------------- --------------------- 104.8/228.5 MB 34.4 MB/s eta 0:00:04\n",
      "   ------------------ -------------------- 106.1/228.5 MB 34.4 MB/s eta 0:00:04\n",
      "   ------------------ -------------------- 107.9/228.5 MB 34.4 MB/s eta 0:00:04\n",
      "   ------------------ -------------------- 109.5/228.5 MB 34.6 MB/s eta 0:00:04\n",
      "   ------------------ -------------------- 110.9/228.5 MB 34.4 MB/s eta 0:00:04\n",
      "   ------------------- ------------------- 112.8/228.5 MB 34.4 MB/s eta 0:00:04\n",
      "   ------------------- ------------------- 114.5/228.5 MB 34.4 MB/s eta 0:00:04\n",
      "   ------------------- ------------------- 116.3/228.5 MB 36.4 MB/s eta 0:00:04\n",
      "   -------------------- ------------------ 117.8/228.5 MB 34.4 MB/s eta 0:00:04\n",
      "   -------------------- ------------------ 119.4/228.5 MB 34.4 MB/s eta 0:00:04\n",
      "   -------------------- ------------------ 121.0/228.5 MB 36.3 MB/s eta 0:00:03\n",
      "   -------------------- ------------------ 122.7/228.5 MB 34.6 MB/s eta 0:00:04\n",
      "   --------------------- ----------------- 124.1/228.5 MB 34.4 MB/s eta 0:00:04\n",
      "   --------------------- ----------------- 125.6/228.5 MB 34.4 MB/s eta 0:00:03\n",
      "   --------------------- ----------------- 127.4/228.5 MB 34.4 MB/s eta 0:00:03\n",
      "   --------------------- ----------------- 128.8/228.5 MB 34.4 MB/s eta 0:00:03\n",
      "   ---------------------- ---------------- 130.3/228.5 MB 32.7 MB/s eta 0:00:04\n",
      "   ---------------------- ---------------- 132.2/228.5 MB 34.4 MB/s eta 0:00:03\n",
      "   ---------------------- ---------------- 133.8/228.5 MB 34.4 MB/s eta 0:00:03\n",
      "   ----------------------- --------------- 135.3/228.5 MB 34.6 MB/s eta 0:00:03\n",
      "   ----------------------- --------------- 136.7/228.5 MB 34.4 MB/s eta 0:00:03\n",
      "   ----------------------- --------------- 138.1/228.5 MB 31.2 MB/s eta 0:00:03\n",
      "   ----------------------- --------------- 139.9/228.5 MB 32.7 MB/s eta 0:00:03\n",
      "   ------------------------ -------------- 141.3/228.5 MB 32.7 MB/s eta 0:00:03\n",
      "   ------------------------ -------------- 143.0/228.5 MB 32.8 MB/s eta 0:00:03\n",
      "   ------------------------ -------------- 144.6/228.5 MB 31.2 MB/s eta 0:00:03\n",
      "   ------------------------ -------------- 146.2/228.5 MB 32.8 MB/s eta 0:00:03\n",
      "   ------------------------- ------------- 148.0/228.5 MB 32.8 MB/s eta 0:00:03\n",
      "   ------------------------- ------------- 149.7/228.5 MB 34.4 MB/s eta 0:00:03\n",
      "   ------------------------- ------------- 151.5/228.5 MB 36.4 MB/s eta 0:00:03\n",
      "   -------------------------- ------------ 153.1/228.5 MB 34.4 MB/s eta 0:00:03\n",
      "   -------------------------- ------------ 154.8/228.5 MB 36.3 MB/s eta 0:00:03\n",
      "   -------------------------- ------------ 156.4/228.5 MB 36.4 MB/s eta 0:00:02\n",
      "   --------------------------- ----------- 158.3/228.5 MB 36.4 MB/s eta 0:00:02\n",
      "   --------------------------- ----------- 160.0/228.5 MB 36.4 MB/s eta 0:00:02\n",
      "   --------------------------- ----------- 161.7/228.5 MB 36.4 MB/s eta 0:00:02\n",
      "   --------------------------- ----------- 163.3/228.5 MB 36.4 MB/s eta 0:00:02\n",
      "   ---------------------------- ---------- 164.8/228.5 MB 36.4 MB/s eta 0:00:02\n",
      "   ---------------------------- ---------- 166.6/228.5 MB 36.3 MB/s eta 0:00:02\n",
      "   ---------------------------- ---------- 168.2/228.5 MB 36.3 MB/s eta 0:00:02\n",
      "   ---------------------------- ---------- 169.8/228.5 MB 36.4 MB/s eta 0:00:02\n",
      "   ----------------------------- --------- 171.6/228.5 MB 36.4 MB/s eta 0:00:02\n",
      "   ----------------------------- --------- 173.2/228.5 MB 36.4 MB/s eta 0:00:02\n",
      "   ----------------------------- --------- 174.6/228.5 MB 36.4 MB/s eta 0:00:02\n",
      "   ----------------------------- --------- 175.8/228.5 MB 32.7 MB/s eta 0:00:02\n",
      "   ------------------------------ -------- 177.5/228.5 MB 32.8 MB/s eta 0:00:02\n",
      "   ------------------------------ -------- 179.0/228.5 MB 31.2 MB/s eta 0:00:02\n",
      "   ------------------------------ -------- 180.6/228.5 MB 31.2 MB/s eta 0:00:02\n",
      "   ------------------------------- ------- 182.0/228.5 MB 31.2 MB/s eta 0:00:02\n",
      "   ------------------------------- ------- 183.6/228.5 MB 31.2 MB/s eta 0:00:02\n",
      "   ------------------------------- ------- 185.2/228.5 MB 31.2 MB/s eta 0:00:02\n",
      "   ------------------------------- ------- 186.4/228.5 MB 31.2 MB/s eta 0:00:02\n",
      "   -------------------------------- ------ 187.9/228.5 MB 31.1 MB/s eta 0:00:02\n",
      "   -------------------------------- ------ 189.5/228.5 MB 31.2 MB/s eta 0:00:02\n",
      "   -------------------------------- ------ 191.2/228.5 MB 31.2 MB/s eta 0:00:02\n",
      "   -------------------------------- ------ 192.8/228.5 MB 32.8 MB/s eta 0:00:02\n",
      "   --------------------------------- ----- 194.5/228.5 MB 32.8 MB/s eta 0:00:02\n",
      "   --------------------------------- ----- 195.9/228.5 MB 31.2 MB/s eta 0:00:02\n",
      "   --------------------------------- ----- 197.6/228.5 MB 34.4 MB/s eta 0:00:01\n",
      "   --------------------------------- ----- 199.0/228.5 MB 32.7 MB/s eta 0:00:01\n",
      "   ---------------------------------- ---- 200.7/228.5 MB 32.7 MB/s eta 0:00:01\n",
      "   ---------------------------------- ---- 202.3/228.5 MB 34.6 MB/s eta 0:00:01\n",
      "   ---------------------------------- ---- 203.7/228.5 MB 34.4 MB/s eta 0:00:01\n",
      "   ----------------------------------- --- 205.5/228.5 MB 34.4 MB/s eta 0:00:01\n",
      "   ----------------------------------- --- 207.4/228.5 MB 36.4 MB/s eta 0:00:01\n",
      "   ----------------------------------- --- 209.3/228.5 MB 38.5 MB/s eta 0:00:01\n",
      "   ----------------------------------- --- 210.8/228.5 MB 36.4 MB/s eta 0:00:01\n",
      "   ------------------------------------ -- 212.5/228.5 MB 36.3 MB/s eta 0:00:01\n",
      "   ------------------------------------ -- 214.1/228.5 MB 38.5 MB/s eta 0:00:01\n",
      "   ------------------------------------ -- 215.8/228.5 MB 38.6 MB/s eta 0:00:01\n",
      "   ------------------------------------- - 217.7/228.5 MB 38.6 MB/s eta 0:00:01\n",
      "   ------------------------------------- - 219.4/228.5 MB 34.4 MB/s eta 0:00:01\n",
      "   ------------------------------------- - 220.9/228.5 MB 34.4 MB/s eta 0:00:01\n",
      "   --------------------------------------  222.8/228.5 MB 36.3 MB/s eta 0:00:01\n",
      "   --------------------------------------  224.5/228.5 MB 36.4 MB/s eta 0:00:01\n",
      "   --------------------------------------  225.8/228.5 MB 34.4 MB/s eta 0:00:01\n",
      "   --------------------------------------  227.2/228.5 MB 32.8 MB/s eta 0:00:01\n",
      "   --------------------------------------  228.5/228.5 MB 32.8 MB/s eta 0:00:01\n",
      "   --------------------------------------  228.5/228.5 MB 32.8 MB/s eta 0:00:01\n",
      "   --------------------------------------  228.5/228.5 MB 32.8 MB/s eta 0:00:01\n",
      "   --------------------------------------  228.5/228.5 MB 32.8 MB/s eta 0:00:01\n",
      "   --------------------------------------- 228.5/228.5 MB 20.4 MB/s eta 0:00:00\n",
      "Downloading intel_openmp-2021.4.0-py2.py3-none-win_amd64.whl (3.5 MB)\n",
      "   ---------------------------------------- 0.0/3.5 MB ? eta -:--:--\n",
      "   --------------- ------------------------ 1.3/3.5 MB 28.7 MB/s eta 0:00:01\n",
      "   -------------------------- ------------- 2.4/3.5 MB 25.3 MB/s eta 0:00:01\n",
      "   ---------------------------------------- 3.5/3.5 MB 25.0 MB/s eta 0:00:00\n",
      "Downloading tbb-2021.13.0-py3-none-win_amd64.whl (286 kB)\n",
      "   ---------------------------------------- 0.0/286.9 kB ? eta -:--:--\n",
      "   --------------------------------------- 286.9/286.9 kB 17.3 MB/s eta 0:00:00\n",
      "Installing collected packages: tbb, intel-openmp, mkl, torch\n",
      "Note: you may need to restart the kernel to use updated packages.\n"
     ]
    },
    {
     "name": "stderr",
     "output_type": "stream",
     "text": [
      "ERROR: Could not install packages due to an OSError: [WinError 5] Access is denied: 'C:\\\\Users\\\\sspillane\\\\AppData\\\\Local\\\\anaconda3\\\\Library\\\\bin\\\\tbbmalloc.dll'\n",
      "Consider using the `--user` option or check the permissions.\n",
      "\n"
     ]
    }
   ],
   "source": [
    "pip install torch"
   ]
  },
  {
   "cell_type": "code",
   "execution_count": null,
   "metadata": {},
   "outputs": [],
   "source": []
  }
 ],
 "metadata": {
  "celltoolbar": "Create Assignment",
  "kernelspec": {
   "display_name": "Python 3 (ipykernel)",
   "language": "python",
   "name": "python3"
  },
  "language_info": {
   "codemirror_mode": {
    "name": "ipython",
    "version": 3
   },
   "file_extension": ".py",
   "mimetype": "text/x-python",
   "name": "python",
   "nbconvert_exporter": "python",
   "pygments_lexer": "ipython3",
   "version": "3.12.4"
  },
  "widgets": {
   "application/vnd.jupyter.widget-state+json": {
    "state": {},
    "version_major": 2,
    "version_minor": 0
   }
  }
 },
 "nbformat": 4,
 "nbformat_minor": 4
}
