{
 "cells": [
  {
   "cell_type": "code",
   "execution_count": null,
   "id": "4e8d6340",
   "metadata": {},
   "outputs": [],
   "source": [
    "#we're using the world GDP data\n",
    "import plotly.express as px\n",
    "import matplotlib.pyplot as plt\n",
    "import numpy as np\n",
    "import pandas as pd\n",
    "import seaborn as sns"
   ]
  },
  {
   "cell_type": "code",
   "execution_count": null,
   "id": "8b14a401",
   "metadata": {},
   "outputs": [],
   "source": []
  },
  {
   "cell_type": "code",
   "execution_count": null,
   "id": "b5061327",
   "metadata": {},
   "outputs": [],
   "source": [
    "df.groupby(\"Year\").agg(sum)"
   ]
  },
  {
   "cell_type": "code",
   "execution_count": null,
   "id": "032eb9d2",
   "metadata": {},
   "outputs": [],
   "source": [
    "#Single braces indicate a series for the GDP column only\n",
    "df.groupby(\"Year\").agg(sum)[\"gdp\"]\n",
    "#Double braces create a dataframe\n",
    "df.groupby(\"Year\").agg(sum)[[\"gdp\"]]"
   ]
  },
  {
   "cell_type": "code",
   "execution_count": null,
   "id": "b9d8c400",
   "metadata": {},
   "outputs": [],
   "source": [
    "import plotly.express as px\n",
    "px.line(df.groupby(\"Year\").agg(sum)[\"gdp\"]"
   ]
  },
  {
   "cell_type": "code",
   "execution_count": null,
   "id": "e149b914",
   "metadata": {},
   "outputs": [],
   "source": [
    "#get the largest GDP in the list\n",
    "x = df.groupby(\"Year\").agg(max)\n",
    "#get the smallest GDP in the list\n",
    "y = df.groupby(\"Year\").agg(min)"
   ]
  },
  {
   "cell_type": "code",
   "execution_count": null,
   "id": "2b3c0b34",
   "metadata": {},
   "outputs": [],
   "source": [
    "ratio_of_the_GDPs = x / y\n",
    "\n",
    "#We can also use the agg() operation with a function that we create\n",
    "def ratio_of_largest_to_smallest(s):\n",
    "    largest_value = max(s)\n",
    "    smallest_value = min(s)\n",
    "    return largest_value / smallest_value\n",
    "\n",
    "#Now this will produce the ratio\n",
    "df.groupby(\"Year\")[[\"gdp\"]].agg(ratio_of_largest_to_smallest)"
   ]
  }
 ],
 "metadata": {
  "kernelspec": {
   "display_name": "Python 3 (ipykernel)",
   "language": "python",
   "name": "python3"
  },
  "language_info": {
   "codemirror_mode": {
    "name": "ipython",
    "version": 3
   },
   "file_extension": ".py",
   "mimetype": "text/x-python",
   "name": "python",
   "nbconvert_exporter": "python",
   "pygments_lexer": "ipython3",
   "version": "3.11.4"
  }
 },
 "nbformat": 4,
 "nbformat_minor": 5
}
