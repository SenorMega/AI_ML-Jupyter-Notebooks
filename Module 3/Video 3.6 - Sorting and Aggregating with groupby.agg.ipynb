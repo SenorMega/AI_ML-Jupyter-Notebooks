{
 "cells": [
  {
   "cell_type": "code",
   "execution_count": null,
   "id": "cfc0ac3f",
   "metadata": {},
   "outputs": [],
   "source": [
    "df.sort_values(\"gdp\")\n",
    "\n",
    "#define a function that gets the first item from a series using iloc\n",
    "def get_first_item(s):\n",
    "    return s.iloc[0]\n",
    "\n",
    "#Instead of that function though, we can use this:\n",
    "df.sort_values(\"gdp\").groupby(\"Year\").first()\n",
    "df.sort_values(\"gdp\").groupby(\"Year\").agg()\n",
    "df.sort_values(\"gdp\").groupby(\"Year\").max()\n",
    "df.sort_values(\"gdp\").groupby(\"Year\").min()\n",
    "df.sort_values(\"gdp\").groupby(\"Year\").sum()\n",
    "df.sort_values(\"gdp\").groupby(\"Year\").mean()"
   ]
  }
 ],
 "metadata": {
  "kernelspec": {
   "display_name": "Python 3 (ipykernel)",
   "language": "python",
   "name": "python3"
  },
  "language_info": {
   "codemirror_mode": {
    "name": "ipython",
    "version": 3
   },
   "file_extension": ".py",
   "mimetype": "text/x-python",
   "name": "python",
   "nbconvert_exporter": "python",
   "pygments_lexer": "ipython3",
   "version": "3.11.4"
  }
 },
 "nbformat": 4,
 "nbformat_minor": 5
}
