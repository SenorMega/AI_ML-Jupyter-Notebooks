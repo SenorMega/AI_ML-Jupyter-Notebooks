{
 "cells": [
  {
   "cell_type": "markdown",
   "metadata": {},
   "source": [
    "### Comparing Models and Vectorization Strategies for Text Classification\n",
    "\n",
    "This try-it focuses on weighing the positives and negatives of different estimators and vectorization strategies for a text classification problem.  In order to consider each of these components, you should make use of the `Pipeline` and `GridSearchCV` objects in scikitlearn to try different combinations of vectorizers with different estimators.  For each of these, you also want to use the `.cv_results_` to examine the time for the estimator to fit the data."
   ]
  },
  {
   "cell_type": "markdown",
   "metadata": {},
   "source": [
    "### The Data\n",
    "\n",
    "The dataset below is from [kaggle]() and contains a dataset named the \"ColBert Dataset\" created for this [paper](https://arxiv.org/pdf/2004.12765.pdf).  You are to use the text column to classify whether or not the text was humorous.  It is loaded and displayed below.\n",
    "\n",
    "**Note:** The original dataset contains 200K rows of data. It is best to try to use the full dtaset. If the original dataset is too large for your computer, please use the 'dataset-minimal.csv', which has been reduced to 100K."
   ]
  },
  {
   "cell_type": "code",
   "execution_count": 28,
   "metadata": {},
   "outputs": [
    {
     "name": "stderr",
     "output_type": "stream",
     "text": [
      "[nltk_data] Downloading package wordnet to\n",
      "[nltk_data]     C:\\Users\\sspillane\\AppData\\Roaming\\nltk_data...\n",
      "[nltk_data]   Package wordnet is already up-to-date!\n",
      "[nltk_data] Downloading package omw-1.4 to\n",
      "[nltk_data]     C:\\Users\\sspillane\\AppData\\Roaming\\nltk_data...\n",
      "[nltk_data]   Package omw-1.4 is already up-to-date!\n",
      "[nltk_data] Downloading package punkt to\n",
      "[nltk_data]     C:\\Users\\sspillane\\AppData\\Roaming\\nltk_data...\n",
      "[nltk_data]   Package punkt is already up-to-date!\n"
     ]
    }
   ],
   "source": [
    "import pandas as pd\n",
    "import numpy as np\n",
    "import matplotlib.pyplot as plt\n",
    "import seaborn as sns\n",
    "import plotly.express as px\n",
    "import time \n",
    "\n",
    "import nltk\n",
    "from nltk.stem import PorterStemmer, WordNetLemmatizer\n",
    "from nltk import word_tokenize\n",
    "nltk.download('wordnet')\n",
    "nltk.download('omw-1.4')\n",
    "nltk.download('punkt')\n",
    "\n",
    "from sklearn.tree import DecisionTreeClassifier\n",
    "from sklearn.linear_model import LogisticRegression\n",
    "from sklearn.feature_extraction.text import CountVectorizer, TfidfVectorizer\n",
    "from sklearn.naive_bayes import MultinomialNB\n",
    "from sklearn.pipeline import Pipeline\n",
    "from sklearn.model_selection import train_test_split, GridSearchCV\n",
    "from sklearn.metrics import mean_squared_error\n",
    "\n",
    "def stemmer(text):\n",
    "    stem = PorterStemmer()\n",
    "    return ' '.join([stem.stem(w) for w in word_tokenize(text)])\n",
    "\n",
    "def lemmatizer(text):\n",
    "    lemm = WordNetLemmatizer()\n",
    "    return ' '.join([lemm.lemmatize(w) for w in word_tokenize(text)])"
   ]
  },
  {
   "cell_type": "code",
   "execution_count": 31,
   "metadata": {},
   "outputs": [],
   "source": [
    "df = pd.read_csv('data/dataset-minimal.csv')"
   ]
  },
  {
   "cell_type": "code",
   "execution_count": 32,
   "metadata": {},
   "outputs": [
    {
     "data": {
      "text/html": [
       "<div>\n",
       "<style scoped>\n",
       "    .dataframe tbody tr th:only-of-type {\n",
       "        vertical-align: middle;\n",
       "    }\n",
       "\n",
       "    .dataframe tbody tr th {\n",
       "        vertical-align: top;\n",
       "    }\n",
       "\n",
       "    .dataframe thead th {\n",
       "        text-align: right;\n",
       "    }\n",
       "</style>\n",
       "<table border=\"1\" class=\"dataframe\">\n",
       "  <thead>\n",
       "    <tr style=\"text-align: right;\">\n",
       "      <th></th>\n",
       "      <th>text</th>\n",
       "      <th>humor</th>\n",
       "    </tr>\n",
       "  </thead>\n",
       "  <tbody>\n",
       "    <tr>\n",
       "      <th>0</th>\n",
       "      <td>Joe biden rules out 2020 bid: 'guys, i'm not r...</td>\n",
       "      <td>False</td>\n",
       "    </tr>\n",
       "    <tr>\n",
       "      <th>1</th>\n",
       "      <td>Watch: darvish gave hitter whiplash with slow ...</td>\n",
       "      <td>False</td>\n",
       "    </tr>\n",
       "    <tr>\n",
       "      <th>2</th>\n",
       "      <td>What do you call a turtle without its shell? d...</td>\n",
       "      <td>True</td>\n",
       "    </tr>\n",
       "    <tr>\n",
       "      <th>3</th>\n",
       "      <td>5 reasons the 2016 election feels so personal</td>\n",
       "      <td>False</td>\n",
       "    </tr>\n",
       "    <tr>\n",
       "      <th>4</th>\n",
       "      <td>Pasco police shot mexican migrant from behind,...</td>\n",
       "      <td>False</td>\n",
       "    </tr>\n",
       "  </tbody>\n",
       "</table>\n",
       "</div>"
      ],
      "text/plain": [
       "                                                text  humor\n",
       "0  Joe biden rules out 2020 bid: 'guys, i'm not r...  False\n",
       "1  Watch: darvish gave hitter whiplash with slow ...  False\n",
       "2  What do you call a turtle without its shell? d...   True\n",
       "3      5 reasons the 2016 election feels so personal  False\n",
       "4  Pasco police shot mexican migrant from behind,...  False"
      ]
     },
     "execution_count": 32,
     "metadata": {},
     "output_type": "execute_result"
    }
   ],
   "source": [
    "df.head()"
   ]
  },
  {
   "cell_type": "code",
   "execution_count": 33,
   "metadata": {},
   "outputs": [],
   "source": [
    "X = df.drop('humor', axis = 1)\n",
    "y = df['humor']\n",
    "\n",
    "# Stemmed data\n",
    "X_stemmed = X['text'].apply(stemmer)\n",
    "X_train_stemmed, X_test_stemmed, y_train_stemmed, y_test_stemmed = train_test_split(X_stemmed, y, random_state = 42)\n",
    "\n",
    "# Lemmatized data\n",
    "X_lemmed = X['text'].apply(lemmatizer)\n",
    "X_train_lemmed, X_test_lemmed, y_train_lemmed, y_test_lemmed = train_test_split(X_lemmed, y, random_state = 42)\n"
   ]
  },
  {
   "cell_type": "markdown",
   "metadata": {},
   "source": [
    "#### Task\n",
    "\n",
    "\n",
    "**Text preprocessing:** As a pre-processing step, perform both `stemming` and `lemmatizing` to normalize your text before classifying. For each technique use both the `CountVectorize`r and `TfidifVectorizer` and use options for stop words and max features to prepare the text data for your estimator.\n",
    "\n",
    "**Classification:** Once you have prepared the text data with stemming lemmatizing techniques, consider `LogisticRegression`, `DecisionTreeClassifier`, and `MultinomialNB` as classification algorithms for the data. Compare their performance in terms of accuracy and speed.\n",
    "\n",
    "Share the results of your best classifier in the form of a table with the best version of each estimator, a dictionary of the best parameters and the best score."
   ]
  },
  {
   "cell_type": "code",
   "execution_count": 30,
   "metadata": {},
   "outputs": [
    {
     "data": {
      "text/html": [
       "<div>\n",
       "<style scoped>\n",
       "    .dataframe tbody tr th:only-of-type {\n",
       "        vertical-align: middle;\n",
       "    }\n",
       "\n",
       "    .dataframe tbody tr th {\n",
       "        vertical-align: top;\n",
       "    }\n",
       "\n",
       "    .dataframe thead th {\n",
       "        text-align: right;\n",
       "    }\n",
       "</style>\n",
       "<table border=\"1\" class=\"dataframe\">\n",
       "  <thead>\n",
       "    <tr style=\"text-align: right;\">\n",
       "      <th></th>\n",
       "      <th>best_params</th>\n",
       "      <th>best_score</th>\n",
       "    </tr>\n",
       "    <tr>\n",
       "      <th>model</th>\n",
       "      <th></th>\n",
       "      <th></th>\n",
       "    </tr>\n",
       "  </thead>\n",
       "  <tbody>\n",
       "    <tr>\n",
       "      <th>Logistic</th>\n",
       "      <td></td>\n",
       "      <td></td>\n",
       "    </tr>\n",
       "    <tr>\n",
       "      <th>Decision Tree</th>\n",
       "      <td></td>\n",
       "      <td></td>\n",
       "    </tr>\n",
       "    <tr>\n",
       "      <th>Bayes</th>\n",
       "      <td></td>\n",
       "      <td></td>\n",
       "    </tr>\n",
       "  </tbody>\n",
       "</table>\n",
       "</div>"
      ],
      "text/plain": [
       "              best_params best_score\n",
       "model                               \n",
       "Logistic                            \n",
       "Decision Tree                       \n",
       "Bayes                               "
      ]
     },
     "execution_count": 30,
     "metadata": {},
     "output_type": "execute_result"
    }
   ],
   "source": []
  },
  {
   "cell_type": "markdown",
   "metadata": {},
   "source": [
    "## Count Vectorizer Pipelines"
   ]
  },
  {
   "cell_type": "code",
   "execution_count": 39,
   "metadata": {},
   "outputs": [],
   "source": [
    "# Log Reg\n",
    "log_cvect_pipe = Pipeline([\n",
    "                          ('cvect', CountVectorizer()),\n",
    "                          ('lgr', LogisticRegression())\n",
    "                          ])\n",
    "log_cvect_pipe_stemmed = log_cvect_pipe.fit(X_train_stemmed, y_train_stemmed)\n",
    "log_cvect_test_acc_stemmed = log_cvect_pipe_stemmed.score(X_test_stemmed, y_test_stemmed)\n",
    "\n",
    "log_cvect_pipe_lemmed = log_cvect_pipe.fit(X_train_lemmed, y_train_lemmed)\n",
    "log_cvect_test_acc_lemmed = log_cvect_pipe_lemmed.score(X_test_lemmed, y_test_lemmed)\n",
    "\n",
    "\n",
    "# Decision Tree Classifier\n",
    "dt_cvect_pipe = Pipeline([\n",
    "                          ('cvect', CountVectorizer()),\n",
    "                          ('lgr', DecisionTreeClassifier())\n",
    "                          ])\n",
    "dt_cvect_pipe_stemmed = dt_cvect_pipe.fit(X_train_stemmed, y_train_stemmed)\n",
    "dt_cvect_test_acc_stemmed = dt_cvect_pipe_stemmed.score(X_test_stemmed, y_test_stemmed)\n",
    "\n",
    "dt_cvect_pipe_lemmed = dt_cvect_pipe.fit(X_train_lemmed, y_train_lemmed)\n",
    "dt_cvect_test_acc_lemmed = dt_cvect_pipe_lemmed.score(X_test_lemmed, y_test_lemmed)\n",
    "\n",
    "\n",
    "# Naive Bayes Classifier\n",
    "bayes_cvect_pipe = Pipeline([\n",
    "                          ('cvect', CountVectorizer()),\n",
    "                          ('bayes', MultinomialNB())\n",
    "                          ])\n",
    "bayes_cvect_pipe_stemmed = bayes_cvect_pipe.fit(X_train_stemmed, y_train_stemmed)\n",
    "bayes_cvect_test_acc_stemmed = bayes_cvect_pipe_stemmed.score(X_test_stemmed, y_test_stemmed)\n",
    "\n",
    "bayes_cvect_pipe_lemmed = bayes_cvect_pipe.fit(X_train_lemmed, y_train_lemmed)\n",
    "bayes_cvect_test_acc_lemmed = bayes_cvect_pipe_lemmed.score(X_test_lemmed, y_test_lemmed)"
   ]
  },
  {
   "cell_type": "markdown",
   "metadata": {},
   "source": [
    "## Grid Searches"
   ]
  },
  {
   "cell_type": "code",
   "execution_count": 40,
   "metadata": {},
   "outputs": [],
   "source": [
    "cvect_params = {\n",
    "                'cvect__max_features': [100, 500, 1000, 2000],\n",
    "                'cvect__stop_words': ['english', None]\n",
    "                }"
   ]
  },
  {
   "cell_type": "code",
   "execution_count": 47,
   "metadata": {},
   "outputs": [
    {
     "name": "stdout",
     "output_type": "stream",
     "text": [
      "0.90892\n",
      "{'cvect__max_features': 2000, 'cvect__stop_words': None}\n"
     ]
    }
   ],
   "source": [
    "# Log CVect Stem\n",
    "log_cvect_stem_grid = GridSearchCV(log_cvect_pipe_stemmed, param_grid=cvect_params)\n",
    "log_cvect_stem_grid.fit(X_train_stemmed, y_train_stemmed)\n",
    "log_cvect_stem_test_acc = log_cvect_stem_grid.score(X_test_stemmed, y_test_stemmed)\n",
    "print(log_cvect_stem_test_acc)\n",
    "print(log_cvect_stem_grid.best_params_)"
   ]
  },
  {
   "cell_type": "code",
   "execution_count": 48,
   "metadata": {},
   "outputs": [
    {
     "name": "stdout",
     "output_type": "stream",
     "text": [
      "0.90824\n",
      "{'cvect__max_features': 2000, 'cvect__stop_words': None}\n"
     ]
    }
   ],
   "source": [
    "# Log CVect Lemm\n",
    "log_cvect_lemm_grid = GridSearchCV(log_cvect_pipe_lemmed, param_grid=cvect_params)\n",
    "log_cvect_lemm_grid.fit(X_train_lemmed, y_train_lemmed)\n",
    "log_cvect_lemm_test_acc = log_cvect_lemm_grid.score(X_test_lemmed, y_test_lemmed)\n",
    "print(log_cvect_lemm_test_acc)\n",
    "print(log_cvect_lemm_grid.best_params_)"
   ]
  },
  {
   "cell_type": "code",
   "execution_count": 49,
   "metadata": {},
   "outputs": [
    {
     "name": "stdout",
     "output_type": "stream",
     "text": [
      "0.85384\n",
      "{'cvect__max_features': 2000, 'cvect__stop_words': None}\n"
     ]
    }
   ],
   "source": [
    "# DT CVect Stem\n",
    "dt_cvect_stem_grid = GridSearchCV(dt_cvect_pipe_stemmed, param_grid=cvect_params)\n",
    "dt_cvect_stem_grid.fit(X_train_stemmed, y_train_stemmed)\n",
    "dt_cvect_stem_test_acc = dt_cvect_stem_grid.score(X_test_stemmed, y_test_stemmed)\n",
    "print(dt_cvect_stem_test_acc)\n",
    "print(dt_cvect_stem_grid.best_params_)"
   ]
  },
  {
   "cell_type": "code",
   "execution_count": 50,
   "metadata": {},
   "outputs": [
    {
     "name": "stdout",
     "output_type": "stream",
     "text": [
      "0.85368\n",
      "{'cvect__max_features': 2000, 'cvect__stop_words': None}\n"
     ]
    }
   ],
   "source": [
    "# DT CVect Lemm\n",
    "dt_cvect_lemm_grid = GridSearchCV(dt_cvect_pipe_lemmed, param_grid=cvect_params)\n",
    "dt_cvect_lemm_grid.fit(X_train_lemmed, y_train_lemmed)\n",
    "dt_cvect_lemm_test_acc = dt_cvect_lemm_grid.score(X_test_lemmed, y_test_lemmed)\n",
    "print(dt_cvect_lemm_test_acc)\n",
    "print(dt_cvect_lemm_grid.best_params_)"
   ]
  },
  {
   "cell_type": "code",
   "execution_count": 51,
   "metadata": {},
   "outputs": [
    {
     "name": "stdout",
     "output_type": "stream",
     "text": [
      "0.89056\n",
      "{'cvect__max_features': 2000, 'cvect__stop_words': None}\n"
     ]
    }
   ],
   "source": [
    "# Bayes CVect Stem\n",
    "bayes_cvect_stem_grid = GridSearchCV(bayes_cvect_pipe_stemmed, param_grid=cvect_params)\n",
    "bayes_cvect_stem_grid.fit(X_train_stemmed, y_train_stemmed)\n",
    "bayes_cvect_stem_test_acc = bayes_cvect_stem_grid.score(X_test_stemmed, y_test_stemmed)\n",
    "print(bayes_cvect_stem_test_acc)\n",
    "print(bayes_cvect_stem_grid.best_params_)"
   ]
  },
  {
   "cell_type": "code",
   "execution_count": 52,
   "metadata": {},
   "outputs": [
    {
     "name": "stdout",
     "output_type": "stream",
     "text": [
      "0.88928\n",
      "{'cvect__max_features': 2000, 'cvect__stop_words': None}\n"
     ]
    }
   ],
   "source": [
    "# Bayes CVect Lemm\n",
    "bayes_cvect_lemm_grid = GridSearchCV(bayes_cvect_pipe_lemmed, param_grid=cvect_params)\n",
    "bayes_cvect_lemm_grid.fit(X_train_lemmed, y_train_lemmed)\n",
    "bayes_cvect_lemm_test_acc = bayes_cvect_lemm_grid.score(X_test_lemmed, y_test_lemmed)\n",
    "print(bayes_cvect_lemm_test_acc)\n",
    "print(bayes_cvect_lemm_grid.best_params_)"
   ]
  },
  {
   "cell_type": "markdown",
   "metadata": {},
   "source": [
    "## TF IDF Pipelines"
   ]
  },
  {
   "cell_type": "code",
   "execution_count": 53,
   "metadata": {},
   "outputs": [],
   "source": [
    "# Log Reg\n",
    "log_tfidf_pipe = Pipeline([\n",
    "                          ('tfidf', TfidfVectorizer()),\n",
    "                          ('lgr', LogisticRegression())\n",
    "                          ])\n",
    "log_tfidf_pipe_stemmed = log_tfidf_pipe.fit(X_train_stemmed, y_train_stemmed)\n",
    "log_tfidf_test_acc_stemmed = log_tfidf_pipe_stemmed.score(X_test_stemmed, y_test_stemmed)\n",
    "\n",
    "log_tfidf_pipe_lemmed = log_tfidf_pipe.fit(X_train_lemmed, y_train_lemmed)\n",
    "log_tfidf_test_acc_lemmed = log_tfidf_pipe_lemmed.score(X_test_lemmed, y_test_lemmed)\n",
    "\n",
    "\n",
    "# Decision Tree Classifier\n",
    "dt_tfidf_pipe = Pipeline([\n",
    "                          ('tfidf', TfidfVectorizer()),\n",
    "                          ('lgr', DecisionTreeClassifier())\n",
    "                          ])\n",
    "dt_tfidf_pipe_stemmed = dt_tfidf_pipe.fit(X_train_stemmed, y_train_stemmed)\n",
    "dt_tfidf_test_acc_stemmed = dt_tfidf_pipe_stemmed.score(X_test_stemmed, y_test_stemmed)\n",
    "\n",
    "dt_tfidf_pipe_lemmed = dt_tfidf_pipe.fit(X_train_lemmed, y_train_lemmed)\n",
    "dt_tfidf_test_acc_lemmed = dt_tfidf_pipe_lemmed.score(X_test_lemmed, y_test_lemmed)\n",
    "\n",
    "\n",
    "# Naive Bayes Classifier\n",
    "bayes_tfidf_pipe = Pipeline([\n",
    "                          ('tfidf', TfidfVectorizer()),\n",
    "                          ('bayes', MultinomialNB())\n",
    "                          ])\n",
    "bayes_tfidf_pipe_stemmed = bayes_tfidf_pipe.fit(X_train_stemmed, y_train_stemmed)\n",
    "bayes_tfidf_test_acc_stemmed = bayes_tfidf_pipe_stemmed.score(X_test_stemmed, y_test_stemmed)\n",
    "\n",
    "bayes_tfidf_pipe_lemmed = bayes_tfidf_pipe.fit(X_train_lemmed, y_train_lemmed)\n",
    "bayes_tfidf_test_acc_lemmed = bayes_tfidf_pipe_lemmed.score(X_test_lemmed, y_test_lemmed)\n"
   ]
  },
  {
   "cell_type": "code",
   "execution_count": 55,
   "metadata": {},
   "outputs": [],
   "source": [
    "tfidf_params = {\n",
    "                'tfidf__max_features': [100, 500, 1000, 2000],\n",
    "                'tfidf__stop_words': ['english', None]\n",
    "                }"
   ]
  },
  {
   "cell_type": "code",
   "execution_count": null,
   "metadata": {},
   "outputs": [],
   "source": []
  },
  {
   "cell_type": "code",
   "execution_count": 56,
   "metadata": {},
   "outputs": [
    {
     "name": "stdout",
     "output_type": "stream",
     "text": [
      "0.90488\n",
      "{'tfidf__max_features': 2000, 'tfidf__stop_words': None}\n"
     ]
    }
   ],
   "source": [
    "# Log TF IDF Stem\n",
    "log_tfidf_stem_grid = GridSearchCV(log_tfidf_pipe_stemmed, param_grid=tfidf_params)\n",
    "log_tfidf_stem_grid.fit(X_train_stemmed, y_train_stemmed)\n",
    "log_tfidf_stem_test_acc = log_tfidf_stem_grid.score(X_test_stemmed, y_test_stemmed)\n",
    "print(log_tfidf_stem_test_acc)\n",
    "print(log_tfidf_stem_grid.best_params_)"
   ]
  },
  {
   "cell_type": "code",
   "execution_count": 57,
   "metadata": {},
   "outputs": [
    {
     "name": "stdout",
     "output_type": "stream",
     "text": [
      "0.90332\n",
      "{'tfidf__max_features': 2000, 'tfidf__stop_words': None}\n"
     ]
    }
   ],
   "source": [
    "# Log TF IDF Lemm\n",
    "log_tfidf_lemm_grid = GridSearchCV(log_tfidf_pipe_lemmed, param_grid=tfidf_params)\n",
    "log_tfidf_lemm_grid.fit(X_train_lemmed, y_train_lemmed)\n",
    "log_tfidf_lemm_test_acc = log_tfidf_lemm_grid.score(X_test_lemmed, y_test_lemmed)\n",
    "print(log_tfidf_lemm_test_acc)\n",
    "print(log_tfidf_lemm_grid.best_params_)"
   ]
  },
  {
   "cell_type": "code",
   "execution_count": 58,
   "metadata": {},
   "outputs": [
    {
     "name": "stdout",
     "output_type": "stream",
     "text": [
      "0.8454\n",
      "{'tfidf__max_features': 2000, 'tfidf__stop_words': None}\n"
     ]
    }
   ],
   "source": [
    "# DT TF IDF Stem\n",
    "dt_tfidf_stem_grid = GridSearchCV(dt_tfidf_pipe_stemmed, param_grid=tfidf_params)\n",
    "dt_tfidf_stem_grid.fit(X_train_stemmed, y_train_stemmed)\n",
    "dt_tfidf_stem_test_acc = dt_tfidf_stem_grid.score(X_test_stemmed, y_test_stemmed)\n",
    "print(dt_tfidf_stem_test_acc)\n",
    "print(dt_tfidf_stem_grid.best_params_)"
   ]
  },
  {
   "cell_type": "code",
   "execution_count": 59,
   "metadata": {},
   "outputs": [
    {
     "name": "stdout",
     "output_type": "stream",
     "text": [
      "0.85072\n",
      "{'tfidf__max_features': 2000, 'tfidf__stop_words': None}\n"
     ]
    }
   ],
   "source": [
    "# DT TF IDF Lemm\n",
    "dt_tfidf_lemm_grid = GridSearchCV(dt_tfidf_pipe_lemmed, param_grid=tfidf_params)\n",
    "dt_tfidf_lemm_grid.fit(X_train_lemmed, y_train_lemmed)\n",
    "dt_tfidf_lemm_test_acc = dt_tfidf_lemm_grid.score(X_test_lemmed, y_test_lemmed)\n",
    "print(dt_tfidf_lemm_test_acc)\n",
    "print(dt_tfidf_lemm_grid.best_params_)"
   ]
  },
  {
   "cell_type": "code",
   "execution_count": 60,
   "metadata": {},
   "outputs": [
    {
     "name": "stdout",
     "output_type": "stream",
     "text": [
      "0.8858\n",
      "{'tfidf__max_features': 2000, 'tfidf__stop_words': None}\n"
     ]
    }
   ],
   "source": [
    "# Bayes TF IDF Stem\n",
    "bayes_tfidf_stem_grid = GridSearchCV(bayes_tfidf_pipe_stemmed, param_grid=tfidf_params)\n",
    "bayes_tfidf_stem_grid.fit(X_train_stemmed, y_train_stemmed)\n",
    "bayes_tfidf_stem_test_acc = bayes_tfidf_stem_grid.score(X_test_stemmed, y_test_stemmed)\n",
    "print(bayes_tfidf_stem_test_acc)\n",
    "print(bayes_tfidf_stem_grid.best_params_)"
   ]
  },
  {
   "cell_type": "code",
   "execution_count": 61,
   "metadata": {},
   "outputs": [
    {
     "name": "stdout",
     "output_type": "stream",
     "text": [
      "0.884\n",
      "{'tfidf__max_features': 2000, 'tfidf__stop_words': None}\n"
     ]
    }
   ],
   "source": [
    "# Bayes TF IDF Lemm\n",
    "bayes_tfidf_lemm_grid = GridSearchCV(bayes_tfidf_pipe_lemmed, param_grid=tfidf_params)\n",
    "bayes_tfidf_lemm_grid.fit(X_train_lemmed, y_train_lemmed)\n",
    "bayes_tfidf_lemm_test_acc = bayes_tfidf_lemm_grid.score(X_test_lemmed, y_test_lemmed)\n",
    "print(bayes_tfidf_lemm_test_acc)\n",
    "print(bayes_tfidf_lemm_grid.best_params_)"
   ]
  },
  {
   "cell_type": "markdown",
   "metadata": {},
   "source": [
    "## Results Dataframe"
   ]
  },
  {
   "cell_type": "code",
   "execution_count": 62,
   "metadata": {},
   "outputs": [
    {
     "data": {
      "text/html": [
       "<div>\n",
       "<style scoped>\n",
       "    .dataframe tbody tr th:only-of-type {\n",
       "        vertical-align: middle;\n",
       "    }\n",
       "\n",
       "    .dataframe tbody tr th {\n",
       "        vertical-align: top;\n",
       "    }\n",
       "\n",
       "    .dataframe thead th {\n",
       "        text-align: right;\n",
       "    }\n",
       "</style>\n",
       "<table border=\"1\" class=\"dataframe\">\n",
       "  <thead>\n",
       "    <tr style=\"text-align: right;\">\n",
       "      <th></th>\n",
       "      <th>best_params</th>\n",
       "      <th>best_score</th>\n",
       "    </tr>\n",
       "    <tr>\n",
       "      <th>model</th>\n",
       "      <th></th>\n",
       "      <th></th>\n",
       "    </tr>\n",
       "  </thead>\n",
       "  <tbody>\n",
       "    <tr>\n",
       "      <th>Logistic CountVectorized Stemmed</th>\n",
       "      <td>{'cvect__max_features': 2000, 'cvect__stop_wor...</td>\n",
       "      <td>0.90892</td>\n",
       "    </tr>\n",
       "    <tr>\n",
       "      <th>Logistic CountVectorized Lemmatized</th>\n",
       "      <td>{'cvect__max_features': 2000, 'cvect__stop_wor...</td>\n",
       "      <td>0.90824</td>\n",
       "    </tr>\n",
       "    <tr>\n",
       "      <th>Decision Tree CountVectorized Stemmed</th>\n",
       "      <td>{'cvect__max_features': 2000, 'cvect__stop_wor...</td>\n",
       "      <td>0.85384</td>\n",
       "    </tr>\n",
       "    <tr>\n",
       "      <th>Decision Tree CountVectorized Lemmatized</th>\n",
       "      <td>{'cvect__max_features': 2000, 'cvect__stop_wor...</td>\n",
       "      <td>0.85368</td>\n",
       "    </tr>\n",
       "    <tr>\n",
       "      <th>Bayes CountVectorized Stemmed</th>\n",
       "      <td>{'cvect__max_features': 2000, 'cvect__stop_wor...</td>\n",
       "      <td>0.89056</td>\n",
       "    </tr>\n",
       "    <tr>\n",
       "      <th>Bayes CountVectorized Lemmatized</th>\n",
       "      <td>{'cvect__max_features': 2000, 'cvect__stop_wor...</td>\n",
       "      <td>0.88928</td>\n",
       "    </tr>\n",
       "    <tr>\n",
       "      <th>Logistic TFIDFVectorized Stemmed</th>\n",
       "      <td>{'tfidf__max_features': 2000, 'tfidf__stop_wor...</td>\n",
       "      <td>0.90488</td>\n",
       "    </tr>\n",
       "    <tr>\n",
       "      <th>Logistic TFIDFVectorized Lemmatized</th>\n",
       "      <td>{'tfidf__max_features': 2000, 'tfidf__stop_wor...</td>\n",
       "      <td>0.90332</td>\n",
       "    </tr>\n",
       "    <tr>\n",
       "      <th>Decision Tree TFIDFVectorized Stemmed</th>\n",
       "      <td>{'tfidf__max_features': 2000, 'tfidf__stop_wor...</td>\n",
       "      <td>0.84540</td>\n",
       "    </tr>\n",
       "    <tr>\n",
       "      <th>Decision Tree TFIDFVectorized Lemmatized</th>\n",
       "      <td>{'tfidf__max_features': 2000, 'tfidf__stop_wor...</td>\n",
       "      <td>0.85072</td>\n",
       "    </tr>\n",
       "    <tr>\n",
       "      <th>Bayes TFIDFVectorized Stemmed</th>\n",
       "      <td>{'tfidf__max_features': 2000, 'tfidf__stop_wor...</td>\n",
       "      <td>0.88580</td>\n",
       "    </tr>\n",
       "    <tr>\n",
       "      <th>Bayes TFIDFVectorized Lemmatized</th>\n",
       "      <td>{'tfidf__max_features': 2000, 'tfidf__stop_wor...</td>\n",
       "      <td>0.88400</td>\n",
       "    </tr>\n",
       "  </tbody>\n",
       "</table>\n",
       "</div>"
      ],
      "text/plain": [
       "                                                                                best_params  \\\n",
       "model                                                                                         \n",
       "Logistic CountVectorized Stemmed          {'cvect__max_features': 2000, 'cvect__stop_wor...   \n",
       "Logistic CountVectorized Lemmatized       {'cvect__max_features': 2000, 'cvect__stop_wor...   \n",
       "Decision Tree CountVectorized Stemmed     {'cvect__max_features': 2000, 'cvect__stop_wor...   \n",
       "Decision Tree CountVectorized Lemmatized  {'cvect__max_features': 2000, 'cvect__stop_wor...   \n",
       "Bayes CountVectorized Stemmed             {'cvect__max_features': 2000, 'cvect__stop_wor...   \n",
       "Bayes CountVectorized Lemmatized          {'cvect__max_features': 2000, 'cvect__stop_wor...   \n",
       "Logistic TFIDFVectorized Stemmed          {'tfidf__max_features': 2000, 'tfidf__stop_wor...   \n",
       "Logistic TFIDFVectorized Lemmatized       {'tfidf__max_features': 2000, 'tfidf__stop_wor...   \n",
       "Decision Tree TFIDFVectorized Stemmed     {'tfidf__max_features': 2000, 'tfidf__stop_wor...   \n",
       "Decision Tree TFIDFVectorized Lemmatized  {'tfidf__max_features': 2000, 'tfidf__stop_wor...   \n",
       "Bayes TFIDFVectorized Stemmed             {'tfidf__max_features': 2000, 'tfidf__stop_wor...   \n",
       "Bayes TFIDFVectorized Lemmatized          {'tfidf__max_features': 2000, 'tfidf__stop_wor...   \n",
       "\n",
       "                                          best_score  \n",
       "model                                                 \n",
       "Logistic CountVectorized Stemmed             0.90892  \n",
       "Logistic CountVectorized Lemmatized          0.90824  \n",
       "Decision Tree CountVectorized Stemmed        0.85384  \n",
       "Decision Tree CountVectorized Lemmatized     0.85368  \n",
       "Bayes CountVectorized Stemmed                0.89056  \n",
       "Bayes CountVectorized Lemmatized             0.88928  \n",
       "Logistic TFIDFVectorized Stemmed             0.90488  \n",
       "Logistic TFIDFVectorized Lemmatized          0.90332  \n",
       "Decision Tree TFIDFVectorized Stemmed        0.84540  \n",
       "Decision Tree TFIDFVectorized Lemmatized     0.85072  \n",
       "Bayes TFIDFVectorized Stemmed                0.88580  \n",
       "Bayes TFIDFVectorized Lemmatized             0.88400  "
      ]
     },
     "execution_count": 62,
     "metadata": {},
     "output_type": "execute_result"
    }
   ],
   "source": [
    "pd.DataFrame({'model': ['Logistic CountVectorized Stemmed', 'Logistic CountVectorized Lemmatized', 'Decision Tree CountVectorized Stemmed', 'Decision Tree CountVectorized Lemmatized', 'Bayes CountVectorized Stemmed', 'Bayes CountVectorized Lemmatized',\n",
    "                        'Logistic TFIDFVectorized Stemmed', 'Logistic TFIDFVectorized Lemmatized', 'Decision Tree TFIDFVectorized Stemmed', 'Decision Tree TFIDFVectorized Lemmatized', 'Bayes TFIDFVectorized Stemmed', 'Bayes TFIDFVectorized Lemmatized'], \n",
    "             'best_params': [log_cvect_stem_grid.best_params_, log_cvect_lemm_grid.best_params_, dt_cvect_stem_grid.best_params_, dt_cvect_lemm_grid.best_params_, bayes_cvect_stem_grid.best_params_, bayes_cvect_lemm_grid.best_params_,\n",
    "                             log_tfidf_stem_grid.best_params_, log_tfidf_lemm_grid.best_params_, dt_tfidf_stem_grid.best_params_, dt_tfidf_stem_grid.best_params_, bayes_tfidf_stem_grid.best_params_, bayes_tfidf_lemm_grid.best_params_],\n",
    "             'best_score': [log_cvect_stem_test_acc, log_cvect_lemm_test_acc, dt_cvect_stem_test_acc, dt_cvect_lemm_test_acc, bayes_cvect_stem_test_acc, bayes_cvect_lemm_test_acc, \n",
    "                            log_tfidf_stem_test_acc, log_tfidf_lemm_test_acc, dt_tfidf_stem_test_acc, dt_tfidf_lemm_test_acc, bayes_tfidf_stem_test_acc, bayes_tfidf_lemm_test_acc]}).set_index('model')"
   ]
  }
 ],
 "metadata": {
  "kernelspec": {
   "display_name": "Python 3",
   "language": "python",
   "name": "python3"
  },
  "language_info": {
   "codemirror_mode": {
    "name": "ipython",
    "version": 3
   },
   "file_extension": ".py",
   "mimetype": "text/x-python",
   "name": "python",
   "nbconvert_exporter": "python",
   "pygments_lexer": "ipython3",
   "version": "3.12.2"
  }
 },
 "nbformat": 4,
 "nbformat_minor": 4
}
