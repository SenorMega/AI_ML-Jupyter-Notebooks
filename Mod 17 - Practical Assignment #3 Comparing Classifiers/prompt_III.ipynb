{
 "cells": [
  {
   "cell_type": "markdown",
   "metadata": {},
   "source": [
    "# Practical Application III: Comparing Classifiers\n",
    "\n",
    "**Overview**: In this practical application, your goal is to compare the performance of the classifiers we encountered in this section, namely K Nearest Neighbor, Logistic Regression, Decision Trees, and Support Vector Machines.  We will utilize a dataset related to marketing bank products over the telephone.  \n",
    "\n"
   ]
  },
  {
   "cell_type": "markdown",
   "metadata": {},
   "source": [
    "### Getting Started\n",
    "\n",
    "Our dataset comes from the UCI Machine Learning repository [link](https://archive.ics.uci.edu/ml/datasets/bank+marketing).  The data is from a Portugese banking institution and is a collection of the results of multiple marketing campaigns.  We will make use of the article accompanying the dataset [here](CRISP-DM-BANK.pdf) for more information on the data and features.\n",
    "\n"
   ]
  },
  {
   "cell_type": "markdown",
   "metadata": {},
   "source": [
    "### Problem 1: Understanding the Data\n",
    "\n",
    "To gain a better understanding of the data, please read the information provided in the UCI link above, and examine the **Materials and Methods** section of the paper.  How many marketing campaigns does this data represent?"
   ]
  },
  {
   "cell_type": "code",
   "execution_count": null,
   "metadata": {},
   "outputs": [],
   "source": []
  },
  {
   "cell_type": "markdown",
   "metadata": {},
   "source": [
    "### Problem 2: Read in the Data\n",
    "\n",
    "Use pandas to read in the dataset `bank-additional-full.csv` and assign to a meaningful variable name."
   ]
  },
  {
   "cell_type": "code",
   "execution_count": 1,
   "metadata": {},
   "outputs": [
    {
     "name": "stdout",
     "output_type": "stream",
     "text": [
      "<class 'pandas.core.frame.DataFrame'>\n",
      "RangeIndex: 41188 entries, 0 to 41187\n",
      "Data columns (total 21 columns):\n",
      " #   Column          Non-Null Count  Dtype  \n",
      "---  ------          --------------  -----  \n",
      " 0   age             41188 non-null  int64  \n",
      " 1   job             41188 non-null  object \n",
      " 2   marital         41188 non-null  object \n",
      " 3   education       41188 non-null  object \n",
      " 4   default         41188 non-null  object \n",
      " 5   housing         41188 non-null  object \n",
      " 6   loan            41188 non-null  object \n",
      " 7   contact         41188 non-null  object \n",
      " 8   month           41188 non-null  object \n",
      " 9   day_of_week     41188 non-null  object \n",
      " 10  duration        41188 non-null  int64  \n",
      " 11  campaign        41188 non-null  int64  \n",
      " 12  pdays           41188 non-null  int64  \n",
      " 13  previous        41188 non-null  int64  \n",
      " 14  poutcome        41188 non-null  object \n",
      " 15  emp.var.rate    41188 non-null  float64\n",
      " 16  cons.price.idx  41188 non-null  float64\n",
      " 17  cons.conf.idx   41188 non-null  float64\n",
      " 18  euribor3m       41188 non-null  float64\n",
      " 19  nr.employed     41188 non-null  float64\n",
      " 20  y               41188 non-null  object \n",
      "dtypes: float64(5), int64(5), object(11)\n",
      "memory usage: 6.6+ MB\n"
     ]
    }
   ],
   "source": [
    "import pandas as pd\n",
    "import numpy as np\n",
    "import matplotlib.pyplot as plt\n",
    "import seaborn as sns\n",
    "import plotly.express as px\n",
    "import time \n",
    "\n",
    "from sklearn.neighbors import KNeighborsClassifier\n",
    "from sklearn.preprocessing import StandardScaler, OneHotEncoder\n",
    "from sklearn.pipeline import make_pipeline\n",
    "from sklearn.compose import ColumnTransformer\n",
    "from sklearn.svm import SVC\n",
    "from sklearn.tree import DecisionTreeClassifier\n",
    "from sklearn.experimental import enable_halving_search_cv\n",
    "from sklearn.model_selection import train_test_split, GridSearchCV, RandomizedSearchCV, HalvingGridSearchCV, HalvingRandomSearchCV\n",
    "from sklearn.metrics import mean_squared_error, accuracy_score\n",
    "from sklearn.linear_model import LogisticRegression, SGDRegressor, LinearRegression\n",
    "from sklearn.dummy import DummyClassifier\n",
    "from sklearn.metrics import confusion_matrix\n",
    "\n",
    "from sklearn.datasets import load_digits\n",
    "\n",
    "df = pd.read_csv('data/bank-additional-full.csv', sep = ';').dropna()\n",
    "df.info()\n",
    "#df.head()\n"
   ]
  },
  {
   "cell_type": "markdown",
   "metadata": {},
   "source": [
    "### Problem 3: Understanding the Features\n",
    "\n",
    "\n",
    "Examine the data description below, and determine if any of the features are missing values or need to be coerced to a different data type.\n",
    "\n",
    "\n",
    "```\n",
    "Input variables:\n",
    "# bank client data:\n",
    "1 - age (numeric)\n",
    "2 - job : type of job (categorical: 'admin.','blue-collar','entrepreneur','housemaid','management','retired','self-employed','services','student','technician','unemployed','unknown')\n",
    "3 - marital : marital status (categorical: 'divorced','married','single','unknown'; note: 'divorced' means divorced or widowed)\n",
    "4 - education (categorical: 'basic.4y','basic.6y','basic.9y','high.school','illiterate','professional.course','university.degree','unknown')\n",
    "5 - default: has credit in default? (categorical: 'no','yes','unknown')\n",
    "6 - housing: has housing loan? (categorical: 'no','yes','unknown')\n",
    "7 - loan: has personal loan? (categorical: 'no','yes','unknown')\n",
    "# related with the last contact of the current campaign:\n",
    "8 - contact: contact communication type (categorical: 'cellular','telephone')\n",
    "9 - month: last contact month of year (categorical: 'jan', 'feb', 'mar', ..., 'nov', 'dec')\n",
    "10 - day_of_week: last contact day of the week (categorical: 'mon','tue','wed','thu','fri')\n",
    "11 - duration: last contact duration, in seconds (numeric). Important note: this attribute highly affects the output target (e.g., if duration=0 then y='no'). Yet, the duration is not known before a call is performed. Also, after the end of the call y is obviously known. Thus, this input should only be included for benchmark purposes and should be discarded if the intention is to have a realistic predictive model.\n",
    "# other attributes:\n",
    "12 - campaign: number of contacts performed during this campaign and for this client (numeric, includes last contact)\n",
    "13 - pdays: number of days that passed by after the client was last contacted from a previous campaign (numeric; 999 means client was not previously contacted)\n",
    "14 - previous: number of contacts performed before this campaign and for this client (numeric)\n",
    "15 - poutcome: outcome of the previous marketing campaign (categorical: 'failure','nonexistent','success')\n",
    "# social and economic context attributes\n",
    "16 - emp.var.rate: employment variation rate - quarterly indicator (numeric)\n",
    "17 - cons.price.idx: consumer price index - monthly indicator (numeric)\n",
    "18 - cons.conf.idx: consumer confidence index - monthly indicator (numeric)\n",
    "19 - euribor3m: euribor 3 month rate - daily indicator (numeric)\n",
    "20 - nr.employed: number of employees - quarterly indicator (numeric)\n",
    "\n",
    "Output variable (desired target):\n",
    "21 - y - has the client subscribed a term deposit? (binary: 'yes','no')\n",
    "```\n",
    "\n"
   ]
  },
  {
   "cell_type": "code",
   "execution_count": null,
   "metadata": {},
   "outputs": [],
   "source": [
    "# Check for empty vaules\n",
    "# df.isnull().sum().sort_values().plot(kind = 'bar')\n",
    "# plt.show();"
   ]
  },
  {
   "cell_type": "markdown",
   "metadata": {},
   "source": [
    "### Problem 4: Understanding the Task\n",
    "\n",
    "After examining the description and data, your goal now is to clearly state the *Business Objective* of the task.  State the objective below."
   ]
  },
  {
   "cell_type": "code",
   "execution_count": null,
   "metadata": {},
   "outputs": [],
   "source": []
  },
  {
   "cell_type": "code",
   "execution_count": null,
   "metadata": {},
   "outputs": [],
   "source": []
  },
  {
   "cell_type": "code",
   "execution_count": null,
   "metadata": {},
   "outputs": [],
   "source": []
  },
  {
   "cell_type": "markdown",
   "metadata": {},
   "source": [
    "### Problem 5: Engineering Features\n",
    "\n",
    "Now that you understand your business objective, we will build a basic model to get started.  Before we can do this, we must work to encode the data.  Using just the bank information features, prepare the features and target column for modeling with appropriate encoding and transformations."
   ]
  },
  {
   "cell_type": "code",
   "execution_count": 2,
   "metadata": {},
   "outputs": [
    {
     "name": "stdout",
     "output_type": "stream",
     "text": [
      "Index(['duration', 'campaign', 'pdays', 'previous', 'emp.var.rate',\n",
      "       'cons.price.idx', 'cons.conf.idx', 'euribor3m', 'nr.employed'],\n",
      "      dtype='object')\n",
      "['age', 'job', 'marital', 'education', 'default', 'housing', 'loan', 'contact', 'month', 'day_of_week', 'poutcome']\n"
     ]
    }
   ],
   "source": [
    "categorical = ['age','job','marital','education','default','housing','loan','contact','month','day_of_week','poutcome']\n",
    "numerical = df.drop(columns=categorical).columns\n",
    "numerical = numerical.drop(['y'])\n",
    "\n",
    "print(numerical)\n",
    "print(categorical)\n",
    "#print(df[categorical])"
   ]
  },
  {
   "cell_type": "code",
   "execution_count": 3,
   "metadata": {},
   "outputs": [],
   "source": [
    "# Preprocessor\n",
    "preprocessor = ColumnTransformer(\n",
    "    transformers=[\n",
    "        ('num', StandardScaler(), numerical),\n",
    "        ('cat', OneHotEncoder(), categorical)\n",
    "    ])"
   ]
  },
  {
   "cell_type": "code",
   "execution_count": null,
   "metadata": {},
   "outputs": [],
   "source": [
    "sns.pairplot(df,hue='y')"
   ]
  },
  {
   "cell_type": "markdown",
   "metadata": {},
   "source": [
    "### Problem 6: Train/Test Split\n",
    "\n",
    "With your data prepared, split it into a train and test set."
   ]
  },
  {
   "cell_type": "code",
   "execution_count": 4,
   "metadata": {},
   "outputs": [
    {
     "name": "stdout",
     "output_type": "stream",
     "text": [
      "  (0, 0)\t-0.23251279193519303\n",
      "  (0, 1)\t-0.5659219741930245\n",
      "  (0, 2)\t0.1954139001271294\n",
      "  (0, 3)\t-0.34949428419757467\n",
      "  (0, 4)\t0.6480922665892298\n",
      "  (0, 5)\t0.7227224704883503\n",
      "  (0, 6)\t0.8864465616355264\n",
      "  (0, 7)\t0.7124598790361739\n",
      "  (0, 8)\t0.3316799069141756\n",
      "  (0, 37)\t1.0\n",
      "  (0, 94)\t1.0\n",
      "  (0, 100)\t1.0\n",
      "  (0, 105)\t1.0\n",
      "  (0, 112)\t1.0\n",
      "  (0, 114)\t1.0\n",
      "  (0, 117)\t1.0\n",
      "  (0, 121)\t1.0\n",
      "  (0, 128)\t1.0\n",
      "  (0, 133)\t1.0\n",
      "  (0, 138)\t1.0\n"
     ]
    }
   ],
   "source": [
    "X = df.drop('y', axis=1)\n",
    "y = df['y']#.astype(int)\n",
    "\n",
    "X_scaled = preprocessor.fit_transform(X)\n",
    "print( X_scaled[5] )\n",
    "\n",
    "X_train, X_test, y_train, y_test = train_test_split(X_scaled, y, random_state = 42)"
   ]
  },
  {
   "cell_type": "markdown",
   "metadata": {},
   "source": [
    "### Problem 7: A Baseline Model\n",
    "\n",
    "Before we build our first model, we want to establish a baseline.  What is the baseline performance that our classifier should aim to beat?"
   ]
  },
  {
   "cell_type": "code",
   "execution_count": null,
   "metadata": {},
   "outputs": [],
   "source": [
    "# Linear Regression"
   ]
  },
  {
   "cell_type": "markdown",
   "metadata": {},
   "source": [
    "### Problem 8: A Simple Model\n",
    "\n",
    "Use Logistic Regression to build a basic model on your data.  "
   ]
  },
  {
   "cell_type": "code",
   "execution_count": 5,
   "metadata": {},
   "outputs": [],
   "source": [
    "# GridSearch the Log Reg penalty parameter\n",
    "# Best choice = None\n",
    "\n",
    "# logreg_params = {'penalty': ['l1', 'l2', 'elasticnet', None]}\n",
    "#logreg_grid = GridSearchCV(LogisticRegression(),param_grid=logreg_params)\n",
    "#logreg_grid.fit(X_train,y_train)\n",
    "\n",
    "#best_penalty = list(logreg_grid.best_params_.values())[0]\n",
    "#best_acc = logreg_grid.score(X_test, y_test)\n",
    "\n",
    "#print(best_acc)\n",
    "#print(best_penalty)\n",
    "\n",
    "#df1 = pd.DataFrame(logreg_grid.cv_results_)\n",
    "#time1 = logreg_grid.cv_results_['mean_fit_time'].sum()\n",
    "#index1 = np.argmax(df1['mean_test_score'])\n",
    "\n",
    "#print(f'Compute time: {time1}')\n",
    "#print(f'Parameters of Max Test Score: {df1['params'][index1]}')\n",
    "#print(f'Max Test Score: {df1['mean_test_score'][index1]}')\n",
    "\n",
    "start = time.time()\n",
    "lgr = LogisticRegression(multi_class='multinomial').fit(X_train, y_train)\n",
    "end = time.time()"
   ]
  },
  {
   "cell_type": "markdown",
   "metadata": {},
   "source": [
    "### Problem 9: Score the Model\n",
    "\n",
    "What is the accuracy of your model?"
   ]
  },
  {
   "cell_type": "code",
   "execution_count": 6,
   "metadata": {},
   "outputs": [
    {
     "name": "stdout",
     "output_type": "stream",
     "text": [
      "Training Accuracy Score: 0.9121750671716681\n",
      "Test Accuracy Score: 0.9119160920656502\n",
      "Training Time (s): 0.46871495246887207\n"
     ]
    }
   ],
   "source": [
    "lgr_train_score = lgr.score(X_train,y_train)\n",
    "lgr_test_score = lgr.score(X_test,y_test)\n",
    "lgr_elapsed_time = end - start\n",
    "\n",
    "print(f'Training Accuracy Score: {lgr_train_score}')\n",
    "print(f'Test Accuracy Score: {lgr_test_score}')\n",
    "print(f'Training Time (s): {lgr_elapsed_time}')"
   ]
  },
  {
   "cell_type": "markdown",
   "metadata": {},
   "source": [
    "### Problem 10: Model Comparisons\n",
    "\n",
    "Now, we aim to compare the performance of the Logistic Regression model to our KNN algorithm, Decision Tree, and SVM models.  Using the default settings for each of the models, fit and score each.  Also, be sure to compare the fit time of each of the models.  Present your findings in a `DataFrame` similar to that below:\n",
    "\n",
    "| Model | Train Time | Train Accuracy | Test Accuracy |\n",
    "| ----- | ---------- | -------------  | -----------   |\n",
    "|     |    |.     |.     |"
   ]
  },
  {
   "cell_type": "markdown",
   "metadata": {},
   "source": [
    "## k Nearest Neighbors"
   ]
  },
  {
   "cell_type": "code",
   "execution_count": 7,
   "metadata": {},
   "outputs": [
    {
     "name": "stdout",
     "output_type": "stream",
     "text": [
      "Training Accuracy Score: 0.9283286394095368\n",
      "Test Accuracy Score: 0.9024958725842478\n",
      "Training Time (s): 0.021941661834716797\n"
     ]
    }
   ],
   "source": [
    "start1 = time.time()\n",
    "knn_final = KNeighborsClassifier().fit(X_train, y_train)\n",
    "end1 = time.time()\n",
    "\n",
    "knn_train_score = knn_final.score(X_train, y_train)\n",
    "knn_test_score = knn_final.score(X_test,y_test)\n",
    "knn_elapsed_time = end1 - start1\n",
    "\n",
    "print(f'Training Accuracy Score: {knn_train_score}')\n",
    "print(f'Test Accuracy Score: {knn_test_score}')\n",
    "print(f'Training Time (s): {knn_elapsed_time}')"
   ]
  },
  {
   "cell_type": "markdown",
   "metadata": {},
   "source": [
    "## Decision Tree"
   ]
  },
  {
   "cell_type": "code",
   "execution_count": 8,
   "metadata": {},
   "outputs": [
    {
     "name": "stdout",
     "output_type": "stream",
     "text": [
      "Training Accuracy Score: 1.0\n",
      "Test Accuracy Score: 0.8921044964552782\n",
      "Training Time (s): 1.0153169631958008\n"
     ]
    }
   ],
   "source": [
    "start = time.time()\n",
    "decTree_final = DecisionTreeClassifier().fit(X_train, y_train)\n",
    "end = time.time()\n",
    "\n",
    "decTree_train_score = decTree_final.score(X_train, y_train)\n",
    "decTree_test_score = decTree_final.score(X_test,y_test)\n",
    "decTree_elapsed_time = end - start\n",
    "\n",
    "print(f'Training Accuracy Score: {decTree_train_score}')\n",
    "print(f'Test Accuracy Score: {decTree_test_score}')\n",
    "print(f'Training Time (s): {decTree_elapsed_time}')"
   ]
  },
  {
   "cell_type": "markdown",
   "metadata": {},
   "source": [
    "## SVM Model"
   ]
  },
  {
   "cell_type": "code",
   "execution_count": 9,
   "metadata": {},
   "outputs": [
    {
     "name": "stdout",
     "output_type": "stream",
     "text": [
      "Training Accuracy Score: 0.9241202939367453\n",
      "Test Accuracy Score: 0.9122074390599204\n",
      "Training Time (s): 22.934684991836548\n"
     ]
    }
   ],
   "source": [
    "start2 = time.time()\n",
    "svc_final = SVC().fit(X_train, y_train)\n",
    "end2 = time.time()\n",
    "\n",
    "svc_train_score = svc_final.score(X_train, y_train)\n",
    "svc_test_score = svc_final.score(X_test,y_test)\n",
    "svc_elapsed_time = end2 - start2\n",
    "\n",
    "print(f'Training Accuracy Score: {svc_train_score}')\n",
    "print(f'Test Accuracy Score: {svc_test_score}')\n",
    "print(f'Training Time (s): {svc_elapsed_time}')"
   ]
  },
  {
   "cell_type": "markdown",
   "metadata": {},
   "source": [
    "## Results"
   ]
  },
  {
   "cell_type": "code",
   "execution_count": 10,
   "metadata": {},
   "outputs": [
    {
     "name": "stdout",
     "output_type": "stream",
     "text": [
      "                 Model   Fit Time  Training Score  Test Score\n",
      "0  Logistic Regression   0.468715        0.912175    0.911916\n",
      "1                  KNN   0.021942        0.928329    0.902496\n",
      "2        Decision Tree   1.015317        1.000000    0.892104\n",
      "3                  SVM  22.934685        0.924120    0.912207\n"
     ]
    }
   ],
   "source": [
    "results = pd.DataFrame({\n",
    "    'Model': ['Logistic Regression', 'KNN', 'Decision Tree', 'SVM'],\n",
    "    'Fit Time': [lgr_elapsed_time, knn_elapsed_time, decTree_elapsed_time, svc_elapsed_time],\n",
    "    'Training Score': [lgr_train_score, knn_train_score, decTree_train_score, svc_train_score],\n",
    "    'Test Score': [lgr_test_score, knn_test_score, decTree_test_score, svc_test_score]\n",
    "})\n",
    "\n",
    "print(results)"
   ]
  },
  {
   "cell_type": "markdown",
   "metadata": {},
   "source": [
    "### Problem 11: Improving the Model\n",
    "\n",
    "Now that we have some basic models on the board, we want to try to improve these.  Below, we list a few things to explore in this pursuit.\n",
    "\n",
    "- More feature engineering and exploration.  For example, should we keep the gender feature?  Why or why not?\n",
    "- Hyperparameter tuning and grid search.  All of our models have additional hyperparameters to tune and explore.  For example the number of neighbors in KNN or the maximum depth of a Decision Tree.  \n",
    "- Adjust your performance metric"
   ]
  },
  {
   "cell_type": "code",
   "execution_count": null,
   "metadata": {},
   "outputs": [],
   "source": []
  },
  {
   "cell_type": "markdown",
   "metadata": {},
   "source": [
    "### Grid Searches for KNN, Decision Tree, and SVC"
   ]
  },
  {
   "cell_type": "markdown",
   "metadata": {},
   "source": [
    "#### KNN"
   ]
  },
  {
   "cell_type": "code",
   "execution_count": 14,
   "metadata": {},
   "outputs": [
    {
     "name": "stdout",
     "output_type": "stream",
     "text": [
      "0.9065747305040303\n",
      "41\n",
      "Compute time: 0.22084555625915528\n",
      "Parameters of Max Test Score: {'n_neighbors': 41}\n",
      "Max Test Score: 0.906995592953105\n"
     ]
    }
   ],
   "source": [
    "params = {'n_neighbors': list(range(1, 50, 2))}\n",
    "\n",
    "knn_grid = RandomizedSearchCV(KNeighborsClassifier(),params)\n",
    "#knn_grid = GridSearchCV(KNeighborsClassifier(), param_grid=params)\n",
    "\n",
    "knn_grid.fit(X_train, y_train)\n",
    "best_k = list(knn_grid.best_params_.values())[0]\n",
    "best_acc = knn_grid.score(X_test, y_test)\n",
    "\n",
    "print(best_acc)\n",
    "print(best_k)\n",
    "\n",
    "df1 = pd.DataFrame(knn_grid.cv_results_)\n",
    "time1 = knn_grid.cv_results_['mean_fit_time'].sum()\n",
    "index1 = np.argmax(df1['mean_test_score'])\n",
    "\n",
    "print(f'Compute time: {time1}')\n",
    "print(f'Parameters of Max Test Score: {df1['params'][index1]}')\n",
    "print(f'Max Test Score: {df1['mean_test_score'][index1]}')"
   ]
  },
  {
   "cell_type": "markdown",
   "metadata": {},
   "source": [
    "#### Decision Tree"
   ]
  },
  {
   "cell_type": "code",
   "execution_count": 15,
   "metadata": {},
   "outputs": [
    {
     "name": "stdout",
     "output_type": "stream",
     "text": [
      "Best Criterion Type: entropy\n",
      "Best Max Depth: 7\n",
      "Compute time: 4.757117748260498\n",
      "Parameters of Max Test Score: {'max_depth': 7, 'criterion': 'entropy'}\n",
      "Max Test Score: 0.91282269003854\n"
     ]
    }
   ],
   "source": [
    "tree_params = {'criterion':['gini','entropy'],'max_depth':[4,5,6,7,8,9,10,11,12,15,20,30,40,50,70,90,120,150]}\n",
    "\n",
    "dtc_grid = RandomizedSearchCV(DecisionTreeClassifier(), tree_params)\n",
    "#dtc_grid = GridSearchCV(DecisionTreeClassifier(), param_grid=tree_params)\n",
    "\n",
    "dtc_grid.fit(X_train, y_train)\n",
    "best_criterion = dtc_grid.best_params_['criterion']\n",
    "best_depth = dtc_grid.best_params_['max_depth']\n",
    "\n",
    "print(f'Best Criterion Type: {best_criterion}')\n",
    "print(f'Best Max Depth: {best_depth}')\n",
    "\n",
    "df1 = pd.DataFrame(dtc_grid.cv_results_)\n",
    "time1 = dtc_grid.cv_results_['mean_fit_time'].sum()\n",
    "index1 = np.argmax(df1['mean_test_score'])\n",
    "\n",
    "print(f'Compute time: {time1}')\n",
    "print(f'Parameters of Max Test Score: {df1['params'][index1]}')\n",
    "print(f'Max Test Score: {df1['mean_test_score'][index1]}')"
   ]
  },
  {
   "cell_type": "markdown",
   "metadata": {},
   "source": [
    "#### SVM"
   ]
  },
  {
   "cell_type": "code",
   "execution_count": 16,
   "metadata": {},
   "outputs": [
    {
     "name": "stdout",
     "output_type": "stream",
     "text": [
      "Best Kernel Type: linear\n",
      "Best Gamma: 10.0\n",
      "Compute time: 1076.2005663394928\n",
      "Parameters of Max Test Score: {'kernel': 'linear', 'gamma': 10.0}\n",
      "Max Test Score: 0.9036936687202358\n"
     ]
    }
   ],
   "source": [
    "svm_params = {'kernel': ['rbf', 'poly', 'linear', 'sigmoid'],\n",
    "         'gamma': [0.1, 1.0, 10.0, 50.0, 100.0],}\n",
    "\n",
    "\n",
    "svm_grid = RandomizedSearchCV(SVC(), svm_params)\n",
    "#svm_grid = GridSearchCV(SVC(), param_grid=svm_params)\n",
    "svm_grid.fit(X_train, y_train)\n",
    "\n",
    "best_kernel = svm_grid.best_params_['kernel']\n",
    "best_gamma = svm_grid.best_params_['gamma']\n",
    "\n",
    "print(f'Best Kernel Type: {best_kernel}')\n",
    "print(f'Best Gamma: {best_gamma}')\n",
    "\n",
    "df1 = pd.DataFrame(svm_grid.cv_results_)\n",
    "time1 = svm_grid.cv_results_['mean_fit_time'].sum()\n",
    "index1 = np.argmax(df1['mean_test_score'])\n",
    "\n",
    "print(f'Compute time: {time1}')\n",
    "print(f'Parameters of Max Test Score: {df1['params'][index1]}')\n",
    "print(f'Max Test Score: {df1['mean_test_score'][index1]}')"
   ]
  },
  {
   "cell_type": "code",
   "execution_count": null,
   "metadata": {},
   "outputs": [],
   "source": []
  },
  {
   "cell_type": "code",
   "execution_count": null,
   "metadata": {},
   "outputs": [],
   "source": []
  },
  {
   "cell_type": "code",
   "execution_count": null,
   "metadata": {},
   "outputs": [],
   "source": []
  },
  {
   "cell_type": "code",
   "execution_count": null,
   "metadata": {},
   "outputs": [],
   "source": []
  },
  {
   "cell_type": "code",
   "execution_count": null,
   "metadata": {},
   "outputs": [],
   "source": []
  },
  {
   "cell_type": "code",
   "execution_count": null,
   "metadata": {},
   "outputs": [],
   "source": []
  },
  {
   "cell_type": "code",
   "execution_count": null,
   "metadata": {},
   "outputs": [],
   "source": []
  },
  {
   "cell_type": "markdown",
   "metadata": {},
   "source": [
    "##### Questions"
   ]
  }
 ],
 "metadata": {
  "kernelspec": {
   "display_name": "Python 3",
   "language": "python",
   "name": "python3"
  },
  "language_info": {
   "codemirror_mode": {
    "name": "ipython",
    "version": 3
   },
   "file_extension": ".py",
   "mimetype": "text/x-python",
   "name": "python",
   "nbconvert_exporter": "python",
   "pygments_lexer": "ipython3",
   "version": "3.12.2"
  },
  "widgets": {
   "application/vnd.jupyter.widget-state+json": {
    "state": {},
    "version_major": 2,
    "version_minor": 0
   }
  }
 },
 "nbformat": 4,
 "nbformat_minor": 4
}
