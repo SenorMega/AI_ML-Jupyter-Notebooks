{
 "cells": [
  {
   "cell_type": "markdown",
   "metadata": {},
   "source": [
    "# Practical Application III: Comparing Classifiers\n",
    "\n",
    "**Overview**: In this practical application, your goal is to compare the performance of the classifiers we encountered in this section, namely K Nearest Neighbor, Logistic Regression, Decision Trees, and Support Vector Machines.  We will utilize a dataset related to marketing bank products over the telephone.  \n",
    "\n"
   ]
  },
  {
   "cell_type": "markdown",
   "metadata": {},
   "source": [
    "### Getting Started\n",
    "\n",
    "Our dataset comes from the UCI Machine Learning repository [link](https://archive.ics.uci.edu/ml/datasets/bank+marketing).  The data is from a Portugese banking institution and is a collection of the results of multiple marketing campaigns.  We will make use of the article accompanying the dataset [here](CRISP-DM-BANK.pdf) for more information on the data and features.\n",
    "\n"
   ]
  },
  {
   "cell_type": "markdown",
   "metadata": {},
   "source": [
    "### Problem 1: Understanding the Data\n",
    "\n",
    "To gain a better understanding of the data, please read the information provided in the UCI link above, and examine the **Materials and Methods** section of the paper.  How many marketing campaigns does this data represent?"
   ]
  },
  {
   "cell_type": "code",
   "execution_count": null,
   "metadata": {},
   "outputs": [],
   "source": []
  },
  {
   "cell_type": "markdown",
   "metadata": {},
   "source": [
    "### Problem 2: Read in the Data\n",
    "\n",
    "Use pandas to read in the dataset `bank-additional-full.csv` and assign to a meaningful variable name."
   ]
  },
  {
   "cell_type": "code",
   "execution_count": 1,
   "metadata": {},
   "outputs": [],
   "source": [
    "import pandas as pd\n",
    "import numpy as np\n",
    "import matplotlib.pyplot as plt\n",
    "import seaborn as sns\n",
    "import plotly.express as px\n",
    "import time \n",
    "\n",
    "from sklearn.neighbors import KNeighborsClassifier\n",
    "from sklearn.preprocessing import StandardScaler, OneHotEncoder\n",
    "from sklearn.pipeline import make_pipeline\n",
    "from sklearn.compose import ColumnTransformer\n",
    "from sklearn.svm import SVC\n",
    "from sklearn.tree import DecisionTreeClassifier\n",
    "from sklearn.experimental import enable_halving_search_cv\n",
    "from sklearn.model_selection import train_test_split, GridSearchCV, RandomizedSearchCV, HalvingGridSearchCV, HalvingRandomSearchCV\n",
    "from sklearn.metrics import mean_squared_error, accuracy_score\n",
    "from sklearn.linear_model import LogisticRegression, SGDRegressor, LinearRegression\n",
    "from sklearn.dummy import DummyClassifier\n",
    "from sklearn.metrics import confusion_matrix\n",
    "\n",
    "from sklearn.datasets import load_digits\n",
    "\n",
    "df = pd.read_csv('data/bank-additional-full.csv', sep = ';').dropna()\n",
    "#df.info()\n",
    "#df.head()"
   ]
  },
  {
   "cell_type": "markdown",
   "metadata": {},
   "source": [
    "### Problem 3: Understanding the Features\n",
    "\n",
    "\n",
    "Examine the data description below, and determine if any of the features are missing values or need to be coerced to a different data type.\n",
    "\n",
    "\n",
    "```\n",
    "Input variables:\n",
    "# bank client data:\n",
    "1 - age (numeric)\n",
    "2 - job : type of job (categorical: 'admin.','blue-collar','entrepreneur','housemaid','management','retired','self-employed','services','student','technician','unemployed','unknown')\n",
    "3 - marital : marital status (categorical: 'divorced','married','single','unknown'; note: 'divorced' means divorced or widowed)\n",
    "4 - education (categorical: 'basic.4y','basic.6y','basic.9y','high.school','illiterate','professional.course','university.degree','unknown')\n",
    "5 - default: has credit in default? (categorical: 'no','yes','unknown')\n",
    "6 - housing: has housing loan? (categorical: 'no','yes','unknown')\n",
    "7 - loan: has personal loan? (categorical: 'no','yes','unknown')\n",
    "# related with the last contact of the current campaign:\n",
    "8 - contact: contact communication type (categorical: 'cellular','telephone')\n",
    "9 - month: last contact month of year (categorical: 'jan', 'feb', 'mar', ..., 'nov', 'dec')\n",
    "10 - day_of_week: last contact day of the week (categorical: 'mon','tue','wed','thu','fri')\n",
    "11 - duration: last contact duration, in seconds (numeric). Important note: this attribute highly affects the output target (e.g., if duration=0 then y='no'). Yet, the duration is not known before a call is performed. Also, after the end of the call y is obviously known. Thus, this input should only be included for benchmark purposes and should be discarded if the intention is to have a realistic predictive model.\n",
    "# other attributes:\n",
    "12 - campaign: number of contacts performed during this campaign and for this client (numeric, includes last contact)\n",
    "13 - pdays: number of days that passed by after the client was last contacted from a previous campaign (numeric; 999 means client was not previously contacted)\n",
    "14 - previous: number of contacts performed before this campaign and for this client (numeric)\n",
    "15 - poutcome: outcome of the previous marketing campaign (categorical: 'failure','nonexistent','success')\n",
    "# social and economic context attributes\n",
    "16 - emp.var.rate: employment variation rate - quarterly indicator (numeric)\n",
    "17 - cons.price.idx: consumer price index - monthly indicator (numeric)\n",
    "18 - cons.conf.idx: consumer confidence index - monthly indicator (numeric)\n",
    "19 - euribor3m: euribor 3 month rate - daily indicator (numeric)\n",
    "20 - nr.employed: number of employees - quarterly indicator (numeric)\n",
    "\n",
    "Output variable (desired target):\n",
    "21 - y - has the client subscribed a term deposit? (binary: 'yes','no')\n",
    "```\n",
    "\n"
   ]
  },
  {
   "cell_type": "code",
   "execution_count": null,
   "metadata": {},
   "outputs": [],
   "source": [
    "# Check for empty vaules\n",
    "# df.isnull().sum().sort_values().plot(kind = 'bar')\n",
    "# plt.show();"
   ]
  },
  {
   "cell_type": "markdown",
   "metadata": {},
   "source": [
    "### Problem 4: Understanding the Task\n",
    "\n",
    "After examining the description and data, your goal now is to clearly state the *Business Objective* of the task.  State the objective below."
   ]
  },
  {
   "cell_type": "code",
   "execution_count": null,
   "metadata": {},
   "outputs": [],
   "source": []
  },
  {
   "cell_type": "code",
   "execution_count": null,
   "metadata": {},
   "outputs": [],
   "source": []
  },
  {
   "cell_type": "code",
   "execution_count": null,
   "metadata": {},
   "outputs": [],
   "source": []
  },
  {
   "cell_type": "markdown",
   "metadata": {},
   "source": [
    "### Problem 5: Engineering Features\n",
    "\n",
    "Now that you understand your business objective, we will build a basic model to get started.  Before we can do this, we must work to encode the data.  Using just the bank information features, prepare the features and target column for modeling with appropriate encoding and transformations."
   ]
  },
  {
   "cell_type": "code",
   "execution_count": 2,
   "metadata": {},
   "outputs": [],
   "source": [
    "categorical = ['age','job','marital','education','default','housing','loan','contact','month','day_of_week','poutcome']\n",
    "numerical = df.drop(columns=categorical).columns\n",
    "numerical = numerical.drop(['y'])\n",
    "\n",
    "#print(numerical)\n",
    "#print(categorical)\n",
    "#print(df[categorical])"
   ]
  },
  {
   "cell_type": "code",
   "execution_count": 3,
   "metadata": {},
   "outputs": [],
   "source": [
    "# Preprocessor\n",
    "preprocessor = ColumnTransformer(\n",
    "    transformers=[\n",
    "        ('num', StandardScaler(), numerical),\n",
    "        ('cat', OneHotEncoder(), categorical)\n",
    "    ])"
   ]
  },
  {
   "cell_type": "code",
   "execution_count": null,
   "metadata": {},
   "outputs": [],
   "source": [
    "sns.pairplot(df,hue='y')"
   ]
  },
  {
   "cell_type": "markdown",
   "metadata": {},
   "source": [
    "### Problem 6: Train/Test Split\n",
    "\n",
    "With your data prepared, split it into a train and test set."
   ]
  },
  {
   "cell_type": "code",
   "execution_count": 4,
   "metadata": {},
   "outputs": [],
   "source": [
    "X = df.drop('y', axis=1)\n",
    "y = df['y']#.astype(int)\n",
    "\n",
    "X_scaled = preprocessor.fit_transform(X)\n",
    "#print( X_scaled[5] )\n",
    "\n",
    "X_train, X_test, y_train, y_test = train_test_split(X_scaled, y, random_state = 42)"
   ]
  },
  {
   "cell_type": "markdown",
   "metadata": {},
   "source": [
    "### Problem 7: A Baseline Model\n",
    "\n",
    "Before we build our first model, we want to establish a baseline.  What is the baseline performance that our classifier should aim to beat?"
   ]
  },
  {
   "cell_type": "code",
   "execution_count": null,
   "metadata": {},
   "outputs": [],
   "source": [
    "# Linear Regression"
   ]
  },
  {
   "cell_type": "markdown",
   "metadata": {},
   "source": [
    "### Problem 8: A Simple Model\n",
    "\n",
    "Use Logistic Regression to build a basic model on your data.  "
   ]
  },
  {
   "cell_type": "code",
   "execution_count": 8,
   "metadata": {},
   "outputs": [],
   "source": [
    "# see cell below"
   ]
  },
  {
   "cell_type": "markdown",
   "metadata": {},
   "source": [
    "### Problem 9: Score the Model\n",
    "\n",
    "What is the accuracy of your model?"
   ]
  },
  {
   "cell_type": "code",
   "execution_count": 5,
   "metadata": {},
   "outputs": [
    {
     "name": "stdout",
     "output_type": "stream",
     "text": [
      "Training Accuracy Score: 0.9121750671716681\n",
      "Test Accuracy Score: 0.9119160920656502\n",
      "Training Time (s): 0.7845139503479004\n"
     ]
    }
   ],
   "source": [
    "start = time.time()\n",
    "\n",
    "lgr = LogisticRegression(multi_class='multinomial').fit(X_train, y_train)\n",
    "lgr_train_score = lgr.score(X_train,y_train)\n",
    "lgr_test_score = lgr.score(X_test,y_test)\n",
    "\n",
    "end = time.time()\n",
    "lgr_elapsed_time = end - start\n",
    "\n",
    "print(f'Training Accuracy Score: {lgr_train_score}')\n",
    "print(f'Test Accuracy Score: {lgr_test_score}')\n",
    "print(f'Training Time (s): {lgr_elapsed_time}')"
   ]
  },
  {
   "cell_type": "markdown",
   "metadata": {},
   "source": [
    "### Problem 10: Model Comparisons\n",
    "\n",
    "Now, we aim to compare the performance of the Logistic Regression model to our KNN algorithm, Decision Tree, and SVM models.  Using the default settings for each of the models, fit and score each.  Also, be sure to compare the fit time of each of the models.  Present your findings in a `DataFrame` similar to that below:\n",
    "\n",
    "| Model | Train Time | Train Accuracy | Test Accuracy |\n",
    "| ----- | ---------- | -------------  | -----------   |\n",
    "|     |    |.     |.     |"
   ]
  },
  {
   "cell_type": "markdown",
   "metadata": {},
   "source": [
    "## k Nearest Neighbors"
   ]
  },
  {
   "cell_type": "code",
   "execution_count": 6,
   "metadata": {},
   "outputs": [
    {
     "name": "stdout",
     "output_type": "stream",
     "text": [
      "Training Accuracy Score: 0.9283286394095368\n",
      "Test Accuracy Score: 0.9024958725842478\n",
      "Training Time (s): 73.4954686164856\n"
     ]
    }
   ],
   "source": [
    "start1 = time.time()\n",
    "\n",
    "knn_final = KNeighborsClassifier().fit(X_train, y_train)\n",
    "knn_train_score = knn_final.score(X_train, y_train)\n",
    "knn_test_score = knn_final.score(X_test,y_test)\n",
    "\n",
    "end1 = time.time()\n",
    "knn_elapsed_time = end1 - start1\n",
    "\n",
    "print(f'Training Accuracy Score: {knn_train_score}')\n",
    "print(f'Test Accuracy Score: {knn_test_score}')\n",
    "print(f'Training Time (s): {knn_elapsed_time}')"
   ]
  },
  {
   "cell_type": "markdown",
   "metadata": {},
   "source": [
    "## Decision Tree"
   ]
  },
  {
   "cell_type": "code",
   "execution_count": 7,
   "metadata": {},
   "outputs": [
    {
     "name": "stdout",
     "output_type": "stream",
     "text": [
      "Training Accuracy Score: 1.0\n",
      "Test Accuracy Score: 0.8927843061085753\n",
      "Training Time (s): 1.3296442031860352\n"
     ]
    }
   ],
   "source": [
    "start = time.time()\n",
    "\n",
    "decTree_final = DecisionTreeClassifier().fit(X_train, y_train)\n",
    "decTree_train_score = decTree_final.score(X_train, y_train)\n",
    "decTree_test_score = decTree_final.score(X_test,y_test)\n",
    "\n",
    "end = time.time()\n",
    "decTree_elapsed_time = end - start\n",
    "\n",
    "print(f'Training Accuracy Score: {decTree_train_score}')\n",
    "print(f'Test Accuracy Score: {decTree_test_score}')\n",
    "print(f'Training Time (s): {decTree_elapsed_time}')"
   ]
  },
  {
   "cell_type": "markdown",
   "metadata": {},
   "source": [
    "## SVM Model"
   ]
  },
  {
   "cell_type": "code",
   "execution_count": 8,
   "metadata": {},
   "outputs": [
    {
     "name": "stdout",
     "output_type": "stream",
     "text": [
      "Training Accuracy Score: 0.9241202939367453\n",
      "Test Accuracy Score: 0.9122074390599204\n",
      "Training Time (s): 54.56608605384827\n"
     ]
    }
   ],
   "source": [
    "start2 = time.time()\n",
    "\n",
    "svc_final = SVC().fit(X_train, y_train)\n",
    "svc_train_score = svc_final.score(X_train, y_train)\n",
    "svc_test_score = svc_final.score(X_test,y_test)\n",
    "\n",
    "end2 = time.time()\n",
    "svc_elapsed_time = end2 - start2\n",
    "\n",
    "print(f'Training Accuracy Score: {svc_train_score}')\n",
    "print(f'Test Accuracy Score: {svc_test_score}')\n",
    "print(f'Training Time (s): {svc_elapsed_time}')"
   ]
  },
  {
   "cell_type": "markdown",
   "metadata": {},
   "source": [
    "## Results"
   ]
  },
  {
   "cell_type": "code",
   "execution_count": 9,
   "metadata": {},
   "outputs": [
    {
     "name": "stdout",
     "output_type": "stream",
     "text": [
      "                 Model   Fit Time  Training Score  Test Score\n",
      "0  Logistic Regression   0.784514        0.912175    0.911916\n",
      "1                  KNN  73.495469        0.928329    0.902496\n",
      "2        Decision Tree   1.329644        1.000000    0.892784\n",
      "3                  SVM  54.566086        0.924120    0.912207\n"
     ]
    }
   ],
   "source": [
    "results = pd.DataFrame({\n",
    "    'Model': ['Logistic Regression', 'KNN', 'Decision Tree', 'SVM'],\n",
    "    'Fit Time': [lgr_elapsed_time, knn_elapsed_time, decTree_elapsed_time, svc_elapsed_time],\n",
    "    'Training Score': [lgr_train_score, knn_train_score, decTree_train_score, svc_train_score],\n",
    "    'Test Score': [lgr_test_score, knn_test_score, decTree_test_score, svc_test_score]\n",
    "})\n",
    "\n",
    "print(results)"
   ]
  },
  {
   "cell_type": "markdown",
   "metadata": {},
   "source": [
    "### Problem 11: Improving the Model\n",
    "\n",
    "Now that we have some basic models on the board, we want to try to improve these.  Below, we list a few things to explore in this pursuit.\n",
    "\n",
    "- More feature engineering and exploration.  For example, should we keep the gender feature?  Why or why not?\n",
    "- Hyperparameter tuning and grid search.  All of our models have additional hyperparameters to tune and explore.  For example the number of neighbors in KNN or the maximum depth of a Decision Tree.  \n",
    "- Adjust your performance metric"
   ]
  },
  {
   "cell_type": "markdown",
   "metadata": {},
   "source": [
    "### Grid Searches for KNN, Decision Tree, and SVC"
   ]
  },
  {
   "cell_type": "markdown",
   "metadata": {},
   "source": [
    "#### KNN Randomized Search"
   ]
  },
  {
   "cell_type": "code",
   "execution_count": 20,
   "metadata": {},
   "outputs": [
    {
     "name": "stdout",
     "output_type": "stream",
     "text": [
      "Compute time: 356.9539461135864\n",
      "Parameters of Max Test Score: {'n_neighbors': 35}\n",
      "Max Test Score: 0.9068661064473906\n"
     ]
    }
   ],
   "source": [
    "params = {'n_neighbors': list(range(1, 50, 2))}\n",
    "\n",
    "start = time.time()\n",
    "knn_grid = RandomizedSearchCV(KNeighborsClassifier(),params)\n",
    "#knn_grid = GridSearchCV(KNeighborsClassifier(), param_grid=params)\n",
    "knn_grid.fit(X_train, y_train)\n",
    "\n",
    "end = time.time()\n",
    "randomized_search_elapsed_time = end - start\n",
    "\n",
    "best_k = list(knn_grid.best_params_.values())[0]\n",
    "best_acc = knn_grid.score(X_test, y_test)\n",
    "\n",
    "df1 = pd.DataFrame(knn_grid.cv_results_)\n",
    "index1 = np.argmax(df1['mean_test_score'])\n",
    "\n",
    "knn_rand_max_test = df1['mean_test_score'][index1]\n",
    "knn_rand_optimized_parameter = df1['params'][index1]\n",
    "\n",
    "print(f'Compute time: {randomized_search_elapsed_time}')\n",
    "print(f'Parameters of Max Test Score: {df1['params'][index1]}')\n",
    "print(f'Max Test Score: {df1['mean_test_score'][index1]}')"
   ]
  },
  {
   "cell_type": "markdown",
   "metadata": {},
   "source": [
    "#### KNN Grid Search"
   ]
  },
  {
   "cell_type": "code",
   "execution_count": 21,
   "metadata": {},
   "outputs": [
    {
     "name": "stdout",
     "output_type": "stream",
     "text": [
      "Compute time: 341.2646367549896\n",
      "Parameters of Max Test Score: {'n_neighbors': 41}\n",
      "Max Test Score: 0.906995592953105\n"
     ]
    }
   ],
   "source": [
    "params = {'n_neighbors': list(range(1, 50, 2))}\n",
    "\n",
    "start = time.time()\n",
    "knn_grid = RandomizedSearchCV(KNeighborsClassifier(),params)\n",
    "#knn_grid = GridSearchCV(KNeighborsClassifier(), param_grid=params)\n",
    "knn_grid.fit(X_train, y_train)\n",
    "\n",
    "end = time.time()\n",
    "grid_search_elapsed_time = end - start\n",
    "\n",
    "best_k = list(knn_grid.best_params_.values())[0]\n",
    "best_acc = knn_grid.score(X_test, y_test)\n",
    "\n",
    "df2 = pd.DataFrame(knn_grid.cv_results_)\n",
    "index2 = np.argmax(df2['mean_test_score'])\n",
    "\n",
    "knn_grid_max_test = df2['mean_test_score'][index2]\n",
    "knn_grid_optimized_parameter = df2['params'][index2]\n",
    "\n",
    "print(f'Compute time: {grid_search_elapsed_time}')\n",
    "print(f'Parameters of Max Test Score: {df2['params'][index2]}')\n",
    "print(f'Max Test Score: {df2['mean_test_score'][index2]}')"
   ]
  },
  {
   "cell_type": "markdown",
   "metadata": {},
   "source": [
    "#### KNN Score with Improved Parameters"
   ]
  },
  {
   "cell_type": "code",
   "execution_count": 11,
   "metadata": {},
   "outputs": [
    {
     "name": "stdout",
     "output_type": "stream",
     "text": [
      "Training Accuracy Score: 0.9104593570942993\n",
      "Test Accuracy Score: 0.9065747305040303\n",
      "Training Time (s): 74.54188299179077\n"
     ]
    }
   ],
   "source": [
    "start1 = time.time()\n",
    "knn_final2 = KNeighborsClassifier(n_neighbors=41).fit(X_train, y_train)\n",
    "\n",
    "knn_train_score2 = knn_final2.score(X_train, y_train)\n",
    "knn_test_score2 = knn_final2.score(X_test,y_test)\n",
    "\n",
    "end1 = time.time()\n",
    "knn_elapsed_time2 = end1 - start1\n",
    "\n",
    "print(f'Training Accuracy Score: {knn_train_score2}')\n",
    "print(f'Test Accuracy Score: {knn_test_score2}')\n",
    "print(f'Training Time (s): {knn_elapsed_time2}')"
   ]
  },
  {
   "cell_type": "markdown",
   "metadata": {},
   "source": [
    "#### Decision Tree Randomized Search"
   ]
  },
  {
   "cell_type": "code",
   "execution_count": 22,
   "metadata": {},
   "outputs": [
    {
     "name": "stdout",
     "output_type": "stream",
     "text": [
      "Best Criterion Type: entropy\n",
      "Best Max Depth: 7\n",
      "Compute time: 19.699299097061157\n",
      "Parameters of Max Test Score: {'max_depth': 7, 'criterion': 'entropy'}\n",
      "Max Test Score: 0.9128874411501776\n"
     ]
    }
   ],
   "source": [
    "tree_params = {'criterion':['gini','entropy'],'max_depth':[4,5,6,7,8,9,10,11,12,15,20,30,40,50,70,90,120,150]}\n",
    "\n",
    "start = time.time()\n",
    "dtc_grid = RandomizedSearchCV(DecisionTreeClassifier(), tree_params)\n",
    "dtc_grid.fit(X_train, y_train)\n",
    "\n",
    "end = time.time()\n",
    "dt_randomized_search_elapsed_time = end - start\n",
    "\n",
    "best_criterion = dtc_grid.best_params_['criterion']\n",
    "best_depth = dtc_grid.best_params_['max_depth']\n",
    "\n",
    "print(f'Best Criterion Type: {best_criterion}')\n",
    "print(f'Best Max Depth: {best_depth}')\n",
    "\n",
    "df3 = pd.DataFrame(dtc_grid.cv_results_)\n",
    "index3 = np.argmax(df3['mean_test_score'])\n",
    "\n",
    "dt_rand_max_test = df3['mean_test_score'][index3]\n",
    "dt_rand_optimized_parameter = df3['params'][index3]\n",
    "\n",
    "print(f'Compute time: {dt_randomized_search_elapsed_time}')\n",
    "print(f'Parameters of Max Test Score: {df3['params'][index3]}')\n",
    "print(f'Max Test Score: {df3['mean_test_score'][index3]}')"
   ]
  },
  {
   "cell_type": "markdown",
   "metadata": {},
   "source": [
    "#### Decision Tree Grid Search"
   ]
  },
  {
   "cell_type": "code",
   "execution_count": 23,
   "metadata": {},
   "outputs": [
    {
     "name": "stdout",
     "output_type": "stream",
     "text": [
      "Best Criterion Type: gini\n",
      "Best Max Depth: 5\n",
      "Compute time: 78.20378565788269\n",
      "Parameters of Max Test Score: {'criterion': 'gini', 'max_depth': 5}\n",
      "Max Test Score: 0.9133729670841267\n"
     ]
    }
   ],
   "source": [
    "tree_params = {'criterion':['gini','entropy'],'max_depth':[4,5,6,7,8,9,10,11,12,15,20,30,40,50,70,90,120,150]}\n",
    "\n",
    "start = time.time()\n",
    "dtc_grid = GridSearchCV(DecisionTreeClassifier(), param_grid=tree_params)\n",
    "dtc_grid.fit(X_train, y_train)\n",
    "\n",
    "end = time.time()\n",
    "dt_grid_search_elapsed_time = end - start\n",
    "\n",
    "best_criterion = dtc_grid.best_params_['criterion']\n",
    "best_depth = dtc_grid.best_params_['max_depth']\n",
    "\n",
    "print(f'Best Criterion Type: {best_criterion}')\n",
    "print(f'Best Max Depth: {best_depth}')\n",
    "\n",
    "df4 = pd.DataFrame(dtc_grid.cv_results_)\n",
    "index4 = np.argmax(df4['mean_test_score'])\n",
    "\n",
    "dt_grid_max_test = df4['mean_test_score'][index4]\n",
    "dt_grid_optimized_parameter = df4['params'][index4]\n",
    "\n",
    "print(f'Compute time: {dt_grid_search_elapsed_time}')\n",
    "print(f'Parameters of Max Test Score: {df4['params'][index4]}')\n",
    "print(f'Max Test Score: {df4['mean_test_score'][index4]}')"
   ]
  },
  {
   "cell_type": "markdown",
   "metadata": {},
   "source": [
    "#### Decision Tree Score with Improved Parameters"
   ]
  },
  {
   "cell_type": "code",
   "execution_count": 24,
   "metadata": {},
   "outputs": [
    {
     "name": "stdout",
     "output_type": "stream",
     "text": [
      "Training Accuracy Score: 0.9171927098507656\n",
      "Test Accuracy Score: 0.9150237933378654\n",
      "Training Time (s): 0.18151426315307617\n"
     ]
    }
   ],
   "source": [
    "start = time.time()\n",
    "\n",
    "decTree_final2 = DecisionTreeClassifier(criterion='gini', max_depth=5).fit(X_train, y_train)\n",
    "decTree_train_score2 = decTree_final2.score(X_train, y_train)\n",
    "decTree_test_score2 = decTree_final2.score(X_test,y_test)\n",
    "\n",
    "end = time.time()\n",
    "decTree_elapsed_time2 = end - start\n",
    "\n",
    "print(f'Training Accuracy Score: {decTree_train_score2}')\n",
    "print(f'Test Accuracy Score: {decTree_test_score2}')\n",
    "print(f'Training Time (s): {decTree_elapsed_time2}')"
   ]
  },
  {
   "cell_type": "markdown",
   "metadata": {},
   "source": [
    "#### SVM Randomized Search"
   ]
  },
  {
   "cell_type": "code",
   "execution_count": 25,
   "metadata": {},
   "outputs": [
    {
     "name": "stdout",
     "output_type": "stream",
     "text": [
      "Best Kernel Type: rbf\n",
      "Best Gamma: 0.1\n",
      "Compute time: 4307.996659994125\n",
      "Parameters of Max Test Score: {'kernel': 'rbf', 'gamma': 0.1}\n",
      "Max Test Score: 0.9106213460927794\n"
     ]
    }
   ],
   "source": [
    "svm_params = {'kernel': ['rbf', 'poly', 'linear', 'sigmoid'],\n",
    "         'gamma': [0.1, 1.0, 10.0, 50.0, 100.0],}\n",
    "\n",
    "start = time.time()\n",
    "svm_randomized = RandomizedSearchCV(SVC(), svm_params)\n",
    "svm_randomized.fit(X_train, y_train)\n",
    "\n",
    "end = time.time()\n",
    "svm_ramdomized_search_elapsed_time = end - start\n",
    "\n",
    "best_kernel = svm_randomized.best_params_['kernel']\n",
    "best_gamma = svm_randomized.best_params_['gamma']\n",
    "\n",
    "print(f'Best Kernel Type: {best_kernel}')\n",
    "print(f'Best Gamma: {best_gamma}')\n",
    "\n",
    "df5 = pd.DataFrame(svm_randomized.cv_results_)\n",
    "index5 = np.argmax(df5['mean_test_score'])\n",
    "\n",
    "svm_rand_max_test = df5['mean_test_score'][index5]\n",
    "svm_rand_optimized_parameter = df5['params'][index5]\n",
    "\n",
    "print(f'Compute time: {svm_ramdomized_search_elapsed_time}')\n",
    "print(f'Parameters of Max Test Score: {df5['params'][index5]}')\n",
    "print(f'Max Test Score: {df5['mean_test_score'][index5]}')"
   ]
  },
  {
   "cell_type": "markdown",
   "metadata": {},
   "source": [
    "#### SVM Grid Search"
   ]
  },
  {
   "cell_type": "code",
   "execution_count": 26,
   "metadata": {},
   "outputs": [
    {
     "name": "stdout",
     "output_type": "stream",
     "text": [
      "Best Kernel Type: rbf\n",
      "Best Gamma: 0.1\n",
      "Compute time: 7628.245174646378\n",
      "Parameters of Max Test Score: {'gamma': 0.1, 'kernel': 'rbf'}\n",
      "Max Test Score: 0.9106213460927794\n"
     ]
    }
   ],
   "source": [
    "svm_params = {'kernel': ['rbf', 'poly', 'linear', 'sigmoid'],\n",
    "         'gamma': [0.1, 1.0, 10.0, 50.0, 100.0],}\n",
    "\n",
    "start = time.time()\n",
    "svm_grid = GridSearchCV(SVC(), param_grid=svm_params)\n",
    "svm_grid.fit(X_train, y_train)\n",
    "\n",
    "end = time.time()\n",
    "svm_grid_search_elapsed_time = end - start\n",
    "\n",
    "best_kernel = svm_grid.best_params_['kernel']\n",
    "best_gamma = svm_grid.best_params_['gamma']\n",
    "\n",
    "print(f'Best Kernel Type: {best_kernel}')\n",
    "print(f'Best Gamma: {best_gamma}')\n",
    "\n",
    "df6 = pd.DataFrame(svm_grid.cv_results_)\n",
    "index6 = np.argmax(df6['mean_test_score'])\n",
    "\n",
    "svm_grid_max_test = df6['mean_test_score'][index6]\n",
    "svm_grid_optimized_parameter = df6['params'][index6]\n",
    "\n",
    "print(f'Compute time: {svm_grid_search_elapsed_time}')\n",
    "print(f'Parameters of Max Test Score: {df6['params'][index6]}')\n",
    "print(f'Max Test Score: {df6['mean_test_score'][index6]}')"
   ]
  },
  {
   "cell_type": "markdown",
   "metadata": {},
   "source": [
    "#### SVM Score with Improved Parameters"
   ]
  },
  {
   "cell_type": "code",
   "execution_count": 27,
   "metadata": {},
   "outputs": [
    {
     "name": "stdout",
     "output_type": "stream",
     "text": [
      "Training Accuracy Score: 0.938137321549966\n",
      "Test Accuracy Score: 0.9140526366902981\n",
      "Training Time (s): 53.591612577438354\n"
     ]
    }
   ],
   "source": [
    "start2 = time.time()\n",
    "\n",
    "svc_final2 = SVC(kernel='rbf',gamma=0.1).fit(X_train, y_train)\n",
    "svc_train_score2 = svc_final2.score(X_train, y_train)\n",
    "svc_test_score2 = svc_final2.score(X_test,y_test)\n",
    "\n",
    "end2 = time.time()\n",
    "svc_elapsed_time2 = end2 - start2\n",
    "\n",
    "print(f'Training Accuracy Score: {svc_train_score2}')\n",
    "print(f'Test Accuracy Score: {svc_test_score2}')\n",
    "print(f'Training Time (s): {svc_elapsed_time2}')"
   ]
  },
  {
   "cell_type": "markdown",
   "metadata": {},
   "source": [
    "### Grid Search Results Matrix"
   ]
  },
  {
   "cell_type": "code",
   "execution_count": 28,
   "metadata": {},
   "outputs": [
    {
     "name": "stdout",
     "output_type": "stream",
     "text": [
      "{'Model': ['KNN', 'Decision Tree', 'SVM'], 'Fit Time': [74.54188299179077, 0.18151426315307617, 53.591612577438354], 'Time Delta': [1.0464143753051758, -1.148129940032959, -0.9744734764099121], 'Training Score': [0.9104593570942993, 0.9171927098507656, 0.938137321549966], 'Trainins Score Delta': [-0.017869282315237545, -0.08280729014923438, 0.014017027613220656], 'Test Score': [0.9065747305040303, 0.9150237933378654, 0.9140526366902981], 'Test Score Delta': [0.004078857919782464, 0.022239487229290145, 0.0018451976303777151]}\n"
     ]
    },
    {
     "ename": "NameError",
     "evalue": "name 'improved_results_df_grid_search' is not defined",
     "output_type": "error",
     "traceback": [
      "\u001b[1;31m---------------------------------------------------------------------------\u001b[0m",
      "\u001b[1;31mNameError\u001b[0m                                 Traceback (most recent call last)",
      "Cell \u001b[1;32mIn[28], line 12\u001b[0m\n\u001b[0;32m     10\u001b[0m \u001b[38;5;28mprint\u001b[39m(improved_results_dict_grid_search)\n\u001b[0;32m     11\u001b[0m improved_results_df \u001b[38;5;241m=\u001b[39m pd\u001b[38;5;241m.\u001b[39mDataFrame(improved_results_dict_grid_search)\u001b[38;5;241m.\u001b[39mset_index(\u001b[38;5;124m'\u001b[39m\u001b[38;5;124mModel\u001b[39m\u001b[38;5;124m'\u001b[39m)\n\u001b[1;32m---> 12\u001b[0m \u001b[38;5;28mprint\u001b[39m(\u001b[43mimproved_results_df_grid_search\u001b[49m)\n",
      "\u001b[1;31mNameError\u001b[0m: name 'improved_results_df_grid_search' is not defined"
     ]
    }
   ],
   "source": [
    "improved_results_dict_grid_search = {\n",
    "    'Model': ['KNN', 'Decision Tree', 'SVM'],\n",
    "    'Fit Time': [knn_elapsed_time2, decTree_elapsed_time2, svc_elapsed_time2],\n",
    "    'Time Delta': [knn_elapsed_time2-knn_elapsed_time, decTree_elapsed_time2-decTree_elapsed_time, svc_elapsed_time2-svc_elapsed_time],\n",
    "    'Training Score': [knn_train_score2, decTree_train_score2, svc_train_score2],\n",
    "    'Trainins Score Delta': [knn_train_score2-knn_train_score, decTree_train_score2-decTree_train_score, svc_train_score2-svc_train_score],\n",
    "    'Test Score': [knn_test_score2, decTree_test_score2, svc_test_score2],\n",
    "    'Test Score Delta': [knn_test_score2-knn_test_score, decTree_test_score2-decTree_test_score, svc_test_score2-svc_test_score]\n",
    "}\n",
    "print(improved_results_dict_grid_search)\n",
    "improved_results_df = pd.DataFrame(improved_results_dict_grid_search).set_index('Model')\n",
    "print(improved_results_df_grid_search)"
   ]
  },
  {
   "cell_type": "markdown",
   "metadata": {},
   "source": [
    "### Randomized Search Results Matrix"
   ]
  },
  {
   "cell_type": "code",
   "execution_count": 27,
   "metadata": {},
   "outputs": [
    {
     "name": "stdout",
     "output_type": "stream",
     "text": [
      "{'Model': ['KNN', 'Decision Tree', 'SVM'], 'Fit Time': [81.61559391021729, 0.3361513614654541, 69.56825280189514], 'Time Delta': [23.797860145568848, -0.7509403228759766, 14.476845979690552], 'Training Score': [0.9104593570942993, 0.9233757405069438, 0.938137321549966], 'Trainins Score Delta': [-0.017869282315237545, -0.07662425949305618, 0.014017027613220656], 'Test Score': [0.9065747305040303, 0.9149266776731086, 0.9140526366902981], 'Test Score Delta': [0.004078857919782464, 0.021171214916966052, 0.0018451976303777151]}\n",
      "                Fit Time  Time Delta  Training Score  Trainins Score Delta  \\\n",
      "Model                                                                        \n",
      "KNN            81.615594   23.797860        0.910459             -0.017869   \n",
      "Decision Tree   0.336151   -0.750940        0.923376             -0.076624   \n",
      "SVM            69.568253   14.476846        0.938137              0.014017   \n",
      "\n",
      "               Test Score  Test Score Delta  \n",
      "Model                                        \n",
      "KNN              0.906575          0.004079  \n",
      "Decision Tree    0.914927          0.021171  \n",
      "SVM              0.914053          0.001845  \n"
     ]
    }
   ],
   "source": [
    "improved_results_dict_randomized_search = {\n",
    "    'Model': ['KNN', 'Decision Tree', 'SVM'],\n",
    "    'Fit Time': [knn_elapsed_time2, decTree_elapsed_time2, svc_elapsed_time2],\n",
    "    'Time Delta': [knn_elapsed_time2-knn_elapsed_time, decTree_elapsed_time2-decTree_elapsed_time, svc_elapsed_time2-svc_elapsed_time],\n",
    "    'Training Score': [knn_train_score2, decTree_train_score2, svc_train_score2],\n",
    "    'Trainins Score Delta': [knn_train_score2-knn_train_score, decTree_train_score2-decTree_train_score, svc_train_score2-svc_train_score],\n",
    "    'Test Score': [knn_test_score2, decTree_test_score2, svc_test_score2],\n",
    "    'Test Score Delta': [knn_test_score2-knn_test_score, decTree_test_score2-decTree_test_score, svc_test_score2-svc_test_score]\n",
    "}\n",
    "print(improved_results_dict_randomized_search)\n",
    "improved_results_df_randomized_search = pd.DataFrame(improved_results_dict_randomized_search).set_index('Model')\n",
    "print(improved_results_df_randomized_search)\n"
   ]
  },
  {
   "cell_type": "code",
   "execution_count": null,
   "metadata": {},
   "outputs": [],
   "source": []
  },
  {
   "cell_type": "code",
   "execution_count": null,
   "metadata": {},
   "outputs": [],
   "source": []
  },
  {
   "cell_type": "code",
   "execution_count": null,
   "metadata": {},
   "outputs": [],
   "source": []
  },
  {
   "cell_type": "code",
   "execution_count": null,
   "metadata": {},
   "outputs": [],
   "source": []
  },
  {
   "cell_type": "code",
   "execution_count": null,
   "metadata": {},
   "outputs": [],
   "source": []
  },
  {
   "cell_type": "code",
   "execution_count": null,
   "metadata": {},
   "outputs": [],
   "source": []
  },
  {
   "cell_type": "markdown",
   "metadata": {},
   "source": [
    "##### Questions"
   ]
  }
 ],
 "metadata": {
  "kernelspec": {
   "display_name": "Python 3",
   "language": "python",
   "name": "python3"
  },
  "language_info": {
   "codemirror_mode": {
    "name": "ipython",
    "version": 3
   },
   "file_extension": ".py",
   "mimetype": "text/x-python",
   "name": "python",
   "nbconvert_exporter": "python",
   "pygments_lexer": "ipython3",
   "version": "3.12.2"
  },
  "widgets": {
   "application/vnd.jupyter.widget-state+json": {
    "state": {},
    "version_major": 2,
    "version_minor": 0
   }
  }
 },
 "nbformat": 4,
 "nbformat_minor": 4
}
