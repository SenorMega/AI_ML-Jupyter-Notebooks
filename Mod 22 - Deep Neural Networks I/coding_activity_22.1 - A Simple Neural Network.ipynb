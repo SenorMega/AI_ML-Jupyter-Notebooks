{
 "cells": [
  {
   "cell_type": "markdown",
   "metadata": {
    "nbgrader": {
     "grade": false,
     "grade_id": "cell-671caf4d07fe71bc",
     "locked": true,
     "schema_version": 3,
     "solution": false,
     "task": false
    }
   },
   "source": [
    "### Codio Activity 22.1: A Simple Network\n",
    "\n",
    "**Expected Time = 60 minutes** \n",
    "\n",
    "**Total Points = 50**\n",
    "\n",
    "This activity focuses on the basics of an artificial neural network.  Using the titanic dataset you will work through the basic steps of the neural network's forward pass.  This means adding a bias feature, creating weights, applying the weights and activation function, and making predictions using the results of a sigmoid activation. \n",
    "\n",
    "#### Index\n",
    "\n",
    "- [Problem 1](#-Problem-1)\n",
    "- [Problem 2](#-Problem-2)\n",
    "- [Problem 3](#-Problem-3)\n",
    "- [Problem 4](#-Problem-4)\n",
    "- [Problem 5](#-Problem-5)"
   ]
  },
  {
   "cell_type": "code",
   "execution_count": 1,
   "metadata": {},
   "outputs": [],
   "source": [
    "import numpy as np\n",
    "import pandas as pd\n",
    "import matplotlib.pyplot as plt"
   ]
  },
  {
   "cell_type": "markdown",
   "metadata": {
    "nbgrader": {
     "grade": false,
     "grade_id": "cell-66774e4405befd1d",
     "locked": true,
     "schema_version": 3,
     "solution": false,
     "task": false
    }
   },
   "source": [
    "### Creating the Data\n",
    "\n",
    "Below, we load in the titanic dataset from `seaborn`.  Note that this dataset has missing values in the `age` column that are subsequently dropped.  In this exercise we will only use the top five rows as that dataset in order to clarify the initial workings of the Artificial Neural Network.\n",
    "\n"
   ]
  },
  {
   "cell_type": "code",
   "execution_count": 2,
   "metadata": {},
   "outputs": [],
   "source": [
    "import seaborn as sns"
   ]
  },
  {
   "cell_type": "code",
   "execution_count": 3,
   "metadata": {},
   "outputs": [],
   "source": [
    "titanic = sns.load_dataset('titanic').dropna(subset = ['age'])"
   ]
  },
  {
   "cell_type": "code",
   "execution_count": 4,
   "metadata": {},
   "outputs": [],
   "source": [
    "X = titanic[['age', 'fare']].head()\n",
    "y = titanic['survived'].head()"
   ]
  },
  {
   "cell_type": "markdown",
   "metadata": {
    "nbgrader": {
     "grade": false,
     "grade_id": "cell-532eddd3b67527e4",
     "locked": true,
     "schema_version": 3,
     "solution": false,
     "task": false
    }
   },
   "source": [
    "### Problem 1\n",
    "\n",
    "#### Adding the Bias Feature\n",
    "\n",
    "**10 Points**\n",
    "\n",
    "The first step is to add a column of ones to act as the bias feature for the data.  As a convention, we will add the bias column as the first column in the dataset.  Below, complete the function that adds a bias feature as the first column to the input array `X`."
   ]
  },
  {
   "cell_type": "code",
   "execution_count": 5,
   "metadata": {
    "nbgrader": {
     "grade": false,
     "grade_id": "cell-3f72cc7c15ae0ea8",
     "locked": false,
     "schema_version": 3,
     "solution": true,
     "task": false
    }
   },
   "outputs": [
    {
     "data": {
      "text/html": [
       "<div>\n",
       "<style scoped>\n",
       "    .dataframe tbody tr th:only-of-type {\n",
       "        vertical-align: middle;\n",
       "    }\n",
       "\n",
       "    .dataframe tbody tr th {\n",
       "        vertical-align: top;\n",
       "    }\n",
       "\n",
       "    .dataframe thead th {\n",
       "        text-align: right;\n",
       "    }\n",
       "</style>\n",
       "<table border=\"1\" class=\"dataframe\">\n",
       "  <thead>\n",
       "    <tr style=\"text-align: right;\">\n",
       "      <th></th>\n",
       "      <th>bias</th>\n",
       "      <th>age</th>\n",
       "      <th>fare</th>\n",
       "    </tr>\n",
       "  </thead>\n",
       "  <tbody>\n",
       "    <tr>\n",
       "      <th>0</th>\n",
       "      <td>1.0</td>\n",
       "      <td>22.0</td>\n",
       "      <td>7.2500</td>\n",
       "    </tr>\n",
       "    <tr>\n",
       "      <th>1</th>\n",
       "      <td>1.0</td>\n",
       "      <td>38.0</td>\n",
       "      <td>71.2833</td>\n",
       "    </tr>\n",
       "    <tr>\n",
       "      <th>2</th>\n",
       "      <td>1.0</td>\n",
       "      <td>26.0</td>\n",
       "      <td>7.9250</td>\n",
       "    </tr>\n",
       "    <tr>\n",
       "      <th>3</th>\n",
       "      <td>1.0</td>\n",
       "      <td>35.0</td>\n",
       "      <td>53.1000</td>\n",
       "    </tr>\n",
       "    <tr>\n",
       "      <th>4</th>\n",
       "      <td>1.0</td>\n",
       "      <td>35.0</td>\n",
       "      <td>8.0500</td>\n",
       "    </tr>\n",
       "  </tbody>\n",
       "</table>\n",
       "</div>"
      ],
      "text/plain": [
       "   bias   age     fare\n",
       "0   1.0  22.0   7.2500\n",
       "1   1.0  38.0  71.2833\n",
       "2   1.0  26.0   7.9250\n",
       "3   1.0  35.0  53.1000\n",
       "4   1.0  35.0   8.0500"
      ]
     },
     "execution_count": 5,
     "metadata": {},
     "output_type": "execute_result"
    }
   ],
   "source": [
    "### GRADED\n",
    "def add_bias(X):\n",
    "    '''\n",
    "    This function adds a bias feature\n",
    "    as the lead column to an array X.\n",
    "    '''\n",
    "    return ''\n",
    "    \n",
    "### BEGIN SOLUTION\n",
    "def add_bias(X):\n",
    "    bias = pd.Series(np.ones(len(X)), name = 'bias')\n",
    "    ans = pd.concat([bias, X], axis = 1)\n",
    "    return ans\n",
    "### END SOLUTION\n",
    "\n",
    "### ANSWER CHECK\n",
    "X_with_bias = add_bias(X)\n",
    "X_with_bias.head()"
   ]
  },
  {
   "cell_type": "code",
   "execution_count": 6,
   "metadata": {
    "nbgrader": {
     "grade": true,
     "grade_id": "cell-c9863170f23e0221",
     "locked": true,
     "points": 10,
     "schema_version": 3,
     "solution": false,
     "task": false
    }
   },
   "outputs": [],
   "source": [
    "### BEGIN HIDDEN TESTS\n",
    "def add_bias_(X):\n",
    "    bias = pd.Series(np.ones(len(X)), name = 'bias')\n",
    "    ans = pd.concat([bias, X], axis = 1)\n",
    "    return ans\n",
    "X_with_bias_ = add_bias_(X)\n",
    "#\n",
    "#\n",
    "#\n",
    "np.testing.assert_array_equal(X_with_bias, X_with_bias_)\n",
    "### END HIDDEN TESTS"
   ]
  },
  {
   "cell_type": "markdown",
   "metadata": {
    "nbgrader": {
     "grade": false,
     "grade_id": "cell-411e0767ccbb60c4",
     "locked": true,
     "schema_version": 3,
     "solution": false,
     "task": false
    }
   },
   "source": [
    "[Back to top](#-Index)\n",
    "\n",
    "### Problem 2\n",
    "\n",
    "#### A Single Node Weights\n",
    "\n",
    "**10 Points**\n",
    "\n",
    "The first step in the ANN is to assign a weight for each input for each node.  If we use a single node, this amounts to creating three initial weights -- one for the bias and one weight for each feature.  Below, create such weights using `NumPy` and its random normal random number generator.  \n",
    "\n",
    "Below, use a `random.seed(42)` to generate a `(3,)` array of weights for the bias and features.  Assign this to `weights`."
   ]
  },
  {
   "cell_type": "code",
   "execution_count": 7,
   "metadata": {
    "nbgrader": {
     "grade": false,
     "grade_id": "cell-5389a83623a63ba0",
     "locked": false,
     "schema_version": 3,
     "solution": true,
     "task": false
    }
   },
   "outputs": [
    {
     "name": "stdout",
     "output_type": "stream",
     "text": [
      "(3,)\n",
      "[ 0.49671415 -0.1382643   0.64768854]\n"
     ]
    }
   ],
   "source": [
    "### GRADED\n",
    "weights = ''\n",
    "    \n",
    "### BEGIN SOLUTION\n",
    "np.random.seed(42)\n",
    "weights = np.random.normal(size = 3)\n",
    "### END SOLUTION\n",
    "\n",
    "### ANSWER CHECK\n",
    "print(weights.shape)\n",
    "print(weights)"
   ]
  },
  {
   "cell_type": "code",
   "execution_count": 8,
   "metadata": {
    "nbgrader": {
     "grade": true,
     "grade_id": "cell-8c6cccd7dcee4a53",
     "locked": true,
     "points": 10,
     "schema_version": 3,
     "solution": false,
     "task": false
    }
   },
   "outputs": [],
   "source": [
    "### BEGIN HIDDEN TESTS\n",
    "np.random.seed(42)\n",
    "weights_ = np.random.normal(size = 3)\n",
    "\n",
    "#\n",
    "#\n",
    "#\n",
    "np.testing.assert_array_equal(weights, weights_)\n",
    "### END HIDDEN TESTS"
   ]
  },
  {
   "cell_type": "markdown",
   "metadata": {
    "nbgrader": {
     "grade": false,
     "grade_id": "cell-8036346dcee57971",
     "locked": true,
     "schema_version": 3,
     "solution": false,
     "task": false
    }
   },
   "source": [
    "[Back to top](#-Index)\n",
    "\n",
    "### Problem 3\n",
    "\n",
    "#### Computing the weighted sum\n",
    "\n",
    "**10 Points**\n",
    "\n",
    "Next, you are to use the weights to apply them to the features and bias.  This can be done using matrix multiplication or a loop -- matrix multiplication should be preferred.  Apply the weights to your data with the bias feature added and assign the results to `weighted_sum` below."
   ]
  },
  {
   "cell_type": "code",
   "execution_count": 9,
   "metadata": {
    "nbgrader": {
     "grade": false,
     "grade_id": "cell-6ce8a6fa4c8c892f",
     "locked": false,
     "schema_version": 3,
     "solution": true,
     "task": false
    }
   },
   "outputs": [
    {
     "data": {
      "text/plain": [
       "0     2.150641\n",
       "1    41.412047\n",
       "2     2.034774\n",
       "3    30.049725\n",
       "4     0.871356\n",
       "dtype: float64"
      ]
     },
     "execution_count": 9,
     "metadata": {},
     "output_type": "execute_result"
    }
   ],
   "source": [
    "### GRADED\n",
    "weighted_sum = ''\n",
    "    \n",
    "### BEGIN SOLUTION\n",
    "weighted_sum = X_with_bias@weights\n",
    "### END SOLUTION\n",
    "\n",
    "### ANSWER CHECK\n",
    "weighted_sum"
   ]
  },
  {
   "cell_type": "code",
   "execution_count": 10,
   "metadata": {
    "nbgrader": {
     "grade": true,
     "grade_id": "cell-2745155278ae4d7d",
     "locked": true,
     "points": 10,
     "schema_version": 3,
     "solution": false,
     "task": false
    }
   },
   "outputs": [],
   "source": [
    "### BEGIN HIDDEN TESTS\n",
    "weighted_sum_ = X_with_bias_@weights_\n",
    "\n",
    "#\n",
    "#\n",
    "#\n",
    "np.testing.assert_array_equal(weighted_sum, weighted_sum_)\n",
    "### END HIDDEN TESTS"
   ]
  },
  {
   "cell_type": "markdown",
   "metadata": {
    "nbgrader": {
     "grade": false,
     "grade_id": "cell-5098a2bea9630ba7",
     "locked": true,
     "schema_version": 3,
     "solution": false,
     "task": false
    }
   },
   "source": [
    "[Back to top](#-Index)\n",
    "\n",
    "### Problem 4\n",
    "\n",
    "#### Sigmoid Activation\n",
    "\n",
    "**10 Points**\n",
    "\n",
    "After computing the weighted sum for the data you are to apply a sigmoid activation function.  Below, complete the `sigmoid` function to take in an array of values and return the result of applying the transformation:\n",
    "\n",
    "$$f(x) = \\frac{1}{1 + e^{-x}}$$\n",
    "\n",
    "Assign the results of applying the sigmoid to the weighted sum as `output`."
   ]
  },
  {
   "cell_type": "code",
   "execution_count": 11,
   "metadata": {
    "nbgrader": {
     "grade": false,
     "grade_id": "cell-fee85069045d756c",
     "locked": false,
     "schema_version": 3,
     "solution": true,
     "task": false
    }
   },
   "outputs": [
    {
     "data": {
      "text/plain": [
       "0    0.895729\n",
       "1    1.000000\n",
       "2    0.884400\n",
       "3    1.000000\n",
       "4    0.705028\n",
       "dtype: float64"
      ]
     },
     "execution_count": 11,
     "metadata": {},
     "output_type": "execute_result"
    }
   ],
   "source": [
    "### GRADED\n",
    "def sigmoid(X):\n",
    "    '''\n",
    "    This function returns the sigmoid\n",
    "    defined as 1/(1 + e^-x).  \n",
    "    '''\n",
    "    return ''\n",
    "output = ''   \n",
    "### BEGIN SOLUTION\n",
    "def sigmoid(X):\n",
    "    return 1/(1 + np.exp(-X))\n",
    "\n",
    "output = sigmoid(weighted_sum)\n",
    "### END SOLUTION\n",
    "\n",
    "### ANSWER CHECK\n",
    "output"
   ]
  },
  {
   "cell_type": "code",
   "execution_count": 12,
   "metadata": {
    "nbgrader": {
     "grade": true,
     "grade_id": "cell-ff4b27a5d539dc6f",
     "locked": true,
     "points": 10,
     "schema_version": 3,
     "solution": false,
     "task": false
    }
   },
   "outputs": [],
   "source": [
    "### BEGIN HIDDEN TESTS\n",
    "def sigmoid_(X):\n",
    "    return 1/(1 + np.exp(-X))\n",
    "\n",
    "output_ = sigmoid(weighted_sum_)\n",
    "\n",
    "#\n",
    "#\n",
    "#\n",
    "np.testing.assert_array_equal(output, output_)\n",
    "### END HIDDEN TESTS"
   ]
  },
  {
   "cell_type": "markdown",
   "metadata": {
    "nbgrader": {
     "grade": false,
     "grade_id": "cell-e35e98b99cc74801",
     "locked": true,
     "schema_version": 3,
     "solution": false,
     "task": false
    }
   },
   "source": [
    "[Back to top](#-Index)\n",
    "\n",
    "### Problem 5\n",
    "\n",
    "#### Making Predictions\n",
    "\n",
    "**10 Points**\n",
    "\n",
    "Recall that the output of the sigmoid can be interpreted as a probability of being a member of the positive class -- survived.   Use the `output` to make predictions for your first pass through the neural network.  What is the accuracy of your predictions?  Assign the predictions as `preds` and accuracy as `starting_acc`. "
   ]
  },
  {
   "cell_type": "code",
   "execution_count": 13,
   "metadata": {
    "nbgrader": {
     "grade": false,
     "grade_id": "cell-4a61d9730477ae3b",
     "locked": false,
     "schema_version": 3,
     "solution": true,
     "task": false
    }
   },
   "outputs": [
    {
     "name": "stdout",
     "output_type": "stream",
     "text": [
      "[1 1 1 1 1]\n",
      "0.6\n"
     ]
    }
   ],
   "source": [
    "### GRADED\n",
    "preds = ''\n",
    "starting_acc = ''\n",
    "\n",
    "\n",
    "### BEGIN SOLUTION\n",
    "preds = np.where(output > 0.5, 1, 0)\n",
    "starting_acc = sum(preds == y)/len(y)\n",
    "### END SOLUTION\n",
    "\n",
    "### ANSWER CHECK\n",
    "print(preds)\n",
    "print(starting_acc)"
   ]
  },
  {
   "cell_type": "code",
   "execution_count": 14,
   "metadata": {
    "nbgrader": {
     "grade": true,
     "grade_id": "cell-51fd0e9f9d7eadf0",
     "locked": true,
     "points": 10,
     "schema_version": 3,
     "solution": false,
     "task": false
    }
   },
   "outputs": [],
   "source": [
    "### BEGIN HIDDEN TESTS\n",
    "preds_ = np.where(output_ > 0.5, 1, 0)\n",
    "starting_acc_ = sum(preds_ == y)/len(y)\n",
    "\n",
    "#\n",
    "#\n",
    "#\n",
    "assert starting_acc == starting_acc_\n",
    "### END HIDDEN TESTS"
   ]
  },
  {
   "cell_type": "markdown",
   "metadata": {
    "nbgrader": {
     "grade": false,
     "grade_id": "cell-303a707947e91f1c",
     "locked": true,
     "schema_version": 3,
     "solution": false,
     "task": false
    }
   },
   "source": [
    "Great job!  Next you will examine a more complex network."
   ]
  }
 ],
 "metadata": {
  "celltoolbar": "Create Assignment",
  "kernelspec": {
   "display_name": "Python 3 (ipykernel)",
   "language": "python",
   "name": "python3"
  },
  "language_info": {
   "codemirror_mode": {
    "name": "ipython",
    "version": 3
   },
   "file_extension": ".py",
   "mimetype": "text/x-python",
   "name": "python",
   "nbconvert_exporter": "python",
   "pygments_lexer": "ipython3",
   "version": "3.12.3"
  },
  "widgets": {
   "application/vnd.jupyter.widget-state+json": {
    "state": {},
    "version_major": 2,
    "version_minor": 0
   }
  }
 },
 "nbformat": 4,
 "nbformat_minor": 4
}
