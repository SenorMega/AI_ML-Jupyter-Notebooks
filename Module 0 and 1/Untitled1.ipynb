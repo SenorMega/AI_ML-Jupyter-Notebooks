{
 "cells": [
  {
   "cell_type": "code",
   "execution_count": null,
   "id": "9f070101",
   "metadata": {},
   "outputs": [],
   "source": [
    "locinfo = data.loc[0]"
   ]
  },
  {
   "cell_type": "code",
   "execution_count": null,
   "id": "77eb8869",
   "metadata": {},
   "outputs": [],
   "source": [
    "teamdata = data.loc[data.Name == 'LeBron James' , ['Name','Team']]"
   ]
  },
  {
   "cell_type": "code",
   "execution_count": null,
   "id": "bfa0ed46",
   "metadata": {},
   "outputs": [],
   "source": [
    "fr = data.iloc[0]"
   ]
  },
  {
   "cell_type": "code",
   "execution_count": null,
   "id": "e00149f0",
   "metadata": {},
   "outputs": [],
   "source": [
    "sr = data.iloc[1]"
   ]
  },
  {
   "cell_type": "code",
   "execution_count": null,
   "id": "ebfa7b4b",
   "metadata": {},
   "outputs": [],
   "source": [
    "lr = data.iloc[-1]"
   ]
  },
  {
   "cell_type": "code",
   "execution_count": null,
   "id": "f679f041",
   "metadata": {},
   "outputs": [],
   "source": [
    "fc = data.iloc[ : , 0 ]"
   ]
  },
  {
   "cell_type": "code",
   "execution_count": null,
   "id": "742f4ebd",
   "metadata": {},
   "outputs": [],
   "source": [
    "sc = data.iloc[ : , 1 ]"
   ]
  },
  {
   "cell_type": "code",
   "execution_count": null,
   "id": "2fe6f5ec",
   "metadata": {},
   "outputs": [],
   "source": [
    "lc = data.iloc[ : , -1 ]"
   ]
  },
  {
   "cell_type": "code",
   "execution_count": null,
   "id": "27c476b5",
   "metadata": {},
   "outputs": [],
   "source": [
    "firstname = data.iloc[ 0 , 1 ]\n",
    "firstname = data['Name'].str.split().str[0].iloc[0]"
   ]
  },
  {
   "cell_type": "code",
   "execution_count": null,
   "id": "3acecc0f",
   "metadata": {},
   "outputs": [],
   "source": [
    "lastname = data.iloc[ -1 , 1 ]\n",
    "lastname =  data['Name'].str.split().str[1].iloc[0]"
   ]
  },
  {
   "cell_type": "code",
   "execution_count": null,
   "id": "67e7daa0",
   "metadata": {},
   "outputs": [],
   "source": []
  }
 ],
 "metadata": {
  "kernelspec": {
   "display_name": "Python 3 (ipykernel)",
   "language": "python",
   "name": "python3"
  },
  "language_info": {
   "codemirror_mode": {
    "name": "ipython",
    "version": 3
   },
   "file_extension": ".py",
   "mimetype": "text/x-python",
   "name": "python",
   "nbconvert_exporter": "python",
   "pygments_lexer": "ipython3",
   "version": "3.11.4"
  }
 },
 "nbformat": 4,
 "nbformat_minor": 5
}
