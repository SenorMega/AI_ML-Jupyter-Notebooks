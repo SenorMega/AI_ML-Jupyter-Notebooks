{
 "cells": [
  {
   "cell_type": "markdown",
   "id": "3c4a540b",
   "metadata": {
    "nbgrader": {
     "grade": false,
     "grade_id": "cell-e1db32c15778e963",
     "locked": true,
     "schema_version": 1,
     "solution": false
    }
   },
   "source": [
    "## Codio Activity 1.3: Selecting Data in Multiple Ways\n",
    "\n",
    "**Expected Time: 45 Minutes**\n",
    "\n",
    "**Total Points: 20 Points**\n",
    "\n",
    "## Index:\n",
    "\n",
    "- [Part 1](#Part-one)\n",
    "- [Part 2](#Part-two)\n",
    "- [Part 3](#Part-three)"
   ]
  },
  {
   "cell_type": "code",
   "execution_count": 5,
   "id": "6ec2a8b0",
   "metadata": {},
   "outputs": [],
   "source": [
    "import pandas as pd"
   ]
  },
  {
   "cell_type": "markdown",
   "id": "a54cd6cd",
   "metadata": {
    "nbgrader": {
     "grade": false,
     "grade_id": "cell-c5192e6fb172717e",
     "locked": true,
     "schema_version": 1,
     "solution": false
    }
   },
   "source": [
    "[Back to top](#Index:) \n",
    "\n",
    "## Part one\n",
    "\n",
    "### loc[]\n",
    "\n",
    "**2 Points each**\n",
    "\n",
    "In this exercise, return the basic information from a dataframe using loc[]"
   ]
  },
  {
   "cell_type": "code",
   "execution_count": 6,
   "id": "613b4f25",
   "metadata": {},
   "outputs": [
    {
     "data": {
      "text/html": [
       "<div>\n",
       "<style scoped>\n",
       "    .dataframe tbody tr th:only-of-type {\n",
       "        vertical-align: middle;\n",
       "    }\n",
       "\n",
       "    .dataframe tbody tr th {\n",
       "        vertical-align: top;\n",
       "    }\n",
       "\n",
       "    .dataframe thead th {\n",
       "        text-align: right;\n",
       "    }\n",
       "</style>\n",
       "<table border=\"1\" class=\"dataframe\">\n",
       "  <thead>\n",
       "    <tr style=\"text-align: right;\">\n",
       "      <th></th>\n",
       "      <th>Unnamed: 0</th>\n",
       "      <th>Name</th>\n",
       "      <th>Team</th>\n",
       "      <th>Number</th>\n",
       "      <th>Position</th>\n",
       "      <th>Age</th>\n",
       "      <th>Height</th>\n",
       "      <th>Weight</th>\n",
       "      <th>College</th>\n",
       "      <th>Salary</th>\n",
       "    </tr>\n",
       "  </thead>\n",
       "  <tbody>\n",
       "    <tr>\n",
       "      <th>0</th>\n",
       "      <td>0</td>\n",
       "      <td>Avery Bradley</td>\n",
       "      <td>Boston Celtics</td>\n",
       "      <td>0.0</td>\n",
       "      <td>PG</td>\n",
       "      <td>25.0</td>\n",
       "      <td>6-2</td>\n",
       "      <td>180.0</td>\n",
       "      <td>Texas</td>\n",
       "      <td>7730337.0</td>\n",
       "    </tr>\n",
       "    <tr>\n",
       "      <th>1</th>\n",
       "      <td>1</td>\n",
       "      <td>Jae Crowder</td>\n",
       "      <td>Boston Celtics</td>\n",
       "      <td>99.0</td>\n",
       "      <td>SF</td>\n",
       "      <td>25.0</td>\n",
       "      <td>6-6</td>\n",
       "      <td>235.0</td>\n",
       "      <td>Marquette</td>\n",
       "      <td>6796117.0</td>\n",
       "    </tr>\n",
       "    <tr>\n",
       "      <th>2</th>\n",
       "      <td>2</td>\n",
       "      <td>John Holland</td>\n",
       "      <td>Boston Celtics</td>\n",
       "      <td>30.0</td>\n",
       "      <td>SG</td>\n",
       "      <td>27.0</td>\n",
       "      <td>6-5</td>\n",
       "      <td>205.0</td>\n",
       "      <td>Boston University</td>\n",
       "      <td>NaN</td>\n",
       "    </tr>\n",
       "    <tr>\n",
       "      <th>3</th>\n",
       "      <td>3</td>\n",
       "      <td>R.J. Hunter</td>\n",
       "      <td>Boston Celtics</td>\n",
       "      <td>28.0</td>\n",
       "      <td>SG</td>\n",
       "      <td>22.0</td>\n",
       "      <td>6-5</td>\n",
       "      <td>185.0</td>\n",
       "      <td>Georgia State</td>\n",
       "      <td>1148640.0</td>\n",
       "    </tr>\n",
       "    <tr>\n",
       "      <th>4</th>\n",
       "      <td>4</td>\n",
       "      <td>Jonas Jerebko</td>\n",
       "      <td>Boston Celtics</td>\n",
       "      <td>8.0</td>\n",
       "      <td>PF</td>\n",
       "      <td>29.0</td>\n",
       "      <td>6-10</td>\n",
       "      <td>231.0</td>\n",
       "      <td>NaN</td>\n",
       "      <td>5000000.0</td>\n",
       "    </tr>\n",
       "  </tbody>\n",
       "</table>\n",
       "</div>"
      ],
      "text/plain": [
       "   Unnamed: 0           Name            Team  Number Position   Age Height  \\\n",
       "0           0  Avery Bradley  Boston Celtics     0.0       PG  25.0    6-2   \n",
       "1           1    Jae Crowder  Boston Celtics    99.0       SF  25.0    6-6   \n",
       "2           2   John Holland  Boston Celtics    30.0       SG  27.0    6-5   \n",
       "3           3    R.J. Hunter  Boston Celtics    28.0       SG  22.0    6-5   \n",
       "4           4  Jonas Jerebko  Boston Celtics     8.0       PF  29.0   6-10   \n",
       "\n",
       "   Weight            College     Salary  \n",
       "0   180.0              Texas  7730337.0  \n",
       "1   235.0          Marquette  6796117.0  \n",
       "2   205.0  Boston University        NaN  \n",
       "3   185.0      Georgia State  1148640.0  \n",
       "4   231.0                NaN  5000000.0  "
      ]
     },
     "execution_count": 6,
     "metadata": {},
     "output_type": "execute_result"
    }
   ],
   "source": [
    "#create the DataFrame utilizing Pandas \n",
    "data = pd.read_csv('data/nba.csv')\n",
    "data = data.iloc[:-1 , :]\n",
    "data.head(5)"
   ]
  },
  {
   "cell_type": "code",
   "execution_count": 7,
   "id": "9f67b59a",
   "metadata": {
    "nbgrader": {
     "grade": false,
     "grade_id": "cell-b045abc8cbfc7df8",
     "locked": false,
     "schema_version": 1,
     "solution": true
    }
   },
   "outputs": [
    {
     "name": "stdout",
     "output_type": "stream",
     "text": [
      "Unnamed: 0                 0\n",
      "Name           Avery Bradley\n",
      "Team          Boston Celtics\n",
      "Number                     0\n",
      "Position                  PG\n",
      "Age                       25\n",
      "Height                   6-2\n",
      "Weight                   180\n",
      "College                Texas\n",
      "Salary           7.73034e+06\n",
      "Name: 0, dtype: object\n"
     ]
    }
   ],
   "source": [
    "### GRADED\n",
    "\n",
    "# Please print the information for the first line in the DataFrame. \n",
    "\n",
    "locinfo = None\n",
    "\n",
    "### BEGIN SOLUTION\n",
    "locinfo = data.loc[0]\n",
    "### END SOLUTION\n",
    "\n",
    "# ANSWER CHECK\n",
    "print(locinfo)"
   ]
  },
  {
   "cell_type": "code",
   "execution_count": 8,
   "id": "15513533",
   "metadata": {
    "nbgrader": {
     "grade": true,
     "grade_id": "cell-c17601ab1d1e84b9",
     "locked": true,
     "points": 2,
     "schema_version": 1,
     "solution": false
    }
   },
   "outputs": [
    {
     "data": {
      "text/plain": [
       "Unnamed: 0    True\n",
       "Name          True\n",
       "Team          True\n",
       "Number        True\n",
       "Position      True\n",
       "Age           True\n",
       "Height        True\n",
       "Weight        True\n",
       "College       True\n",
       "Salary        True\n",
       "Name: 0, dtype: bool"
      ]
     },
     "execution_count": 8,
     "metadata": {},
     "output_type": "execute_result"
    }
   ],
   "source": [
    "### BEGIN HIDDEN TESTS\n",
    "locinfo1 = data.loc[0]\n",
    "assert type(locinfo) == type(locinfo1)\n",
    "locinfo == locinfo1\n",
    "\n",
    "### END HIDDEN TESTS"
   ]
  },
  {
   "cell_type": "code",
   "execution_count": 9,
   "id": "cc745640",
   "metadata": {
    "nbgrader": {
     "grade": false,
     "grade_id": "cell-2ce96b09f45395ce",
     "locked": false,
     "schema_version": 1,
     "solution": true
    }
   },
   "outputs": [
    {
     "name": "stdout",
     "output_type": "stream",
     "text": [
      "             Name                 Team\n",
      "169  LeBron James  Cleveland Cavaliers\n"
     ]
    }
   ],
   "source": [
    "### GRADED\n",
    "# Please show LeBron James' name and team\n",
    "\n",
    "teamdata = None\n",
    "\n",
    "### BEGIN SOLUTION\n",
    "teamdata = data.loc[data.Name == 'LeBron James', 'Name':'Team']\n",
    "### END SOLUTION\n",
    "\n",
    "# ANSWER CHECK\n",
    "print(teamdata)"
   ]
  },
  {
   "cell_type": "code",
   "execution_count": 10,
   "id": "a9f39ecf",
   "metadata": {
    "nbgrader": {
     "grade": true,
     "grade_id": "cell-597b728f731e35e1",
     "locked": true,
     "points": 2,
     "schema_version": 1,
     "solution": false
    }
   },
   "outputs": [
    {
     "data": {
      "text/html": [
       "<div>\n",
       "<style scoped>\n",
       "    .dataframe tbody tr th:only-of-type {\n",
       "        vertical-align: middle;\n",
       "    }\n",
       "\n",
       "    .dataframe tbody tr th {\n",
       "        vertical-align: top;\n",
       "    }\n",
       "\n",
       "    .dataframe thead th {\n",
       "        text-align: right;\n",
       "    }\n",
       "</style>\n",
       "<table border=\"1\" class=\"dataframe\">\n",
       "  <thead>\n",
       "    <tr style=\"text-align: right;\">\n",
       "      <th></th>\n",
       "      <th>Name</th>\n",
       "      <th>Team</th>\n",
       "    </tr>\n",
       "  </thead>\n",
       "  <tbody>\n",
       "    <tr>\n",
       "      <th>169</th>\n",
       "      <td>True</td>\n",
       "      <td>True</td>\n",
       "    </tr>\n",
       "  </tbody>\n",
       "</table>\n",
       "</div>"
      ],
      "text/plain": [
       "     Name  Team\n",
       "169  True  True"
      ]
     },
     "execution_count": 10,
     "metadata": {},
     "output_type": "execute_result"
    }
   ],
   "source": [
    "### BEGIN HIDDEN TESTS\n",
    "teamdata1 = data.loc[data.Name == 'LeBron James', 'Name':'Team']\n",
    "assert type(teamdata) == type(teamdata1)\n",
    "teamdata == teamdata1\n",
    "\n",
    "### END HIDDEN TESTS"
   ]
  },
  {
   "cell_type": "markdown",
   "id": "b5ba7a76",
   "metadata": {
    "nbgrader": {
     "grade": false,
     "grade_id": "cell-3dbaee614a4b6329",
     "locked": true,
     "schema_version": 1,
     "solution": false
    }
   },
   "source": [
    "[Back to top](#Index:) \n",
    "\n",
    "## Part two\n",
    "\n",
    "### iloc[]\n",
    "\n",
    "**2 Points each**\n",
    "\n",
    "In this exercise, return single selections using iloc[]"
   ]
  },
  {
   "cell_type": "code",
   "execution_count": 11,
   "id": "71d67b9f",
   "metadata": {
    "nbgrader": {
     "grade": false,
     "grade_id": "cell-ac4f90f3ca044a80",
     "locked": false,
     "schema_version": 1,
     "solution": true
    }
   },
   "outputs": [
    {
     "name": "stdout",
     "output_type": "stream",
     "text": [
      "Unnamed: 0                 0\n",
      "Name           Avery Bradley\n",
      "Team          Boston Celtics\n",
      "Number                     0\n",
      "Position                  PG\n",
      "Age                       25\n",
      "Height                   6-2\n",
      "Weight                   180\n",
      "College                Texas\n",
      "Salary           7.73034e+06\n",
      "Name: 0, dtype: object\n"
     ]
    }
   ],
   "source": [
    "### GRADED\n",
    "# Please print the first row of data frame \n",
    "\n",
    "fr = None\n",
    "\n",
    "### BEGIN SOLUTION\n",
    "\n",
    "fr = data.iloc[0]\n",
    "\n",
    "### END SOLUTION\n",
    "\n",
    "# ANSWER CHECK\n",
    "print(fr)"
   ]
  },
  {
   "cell_type": "code",
   "execution_count": 12,
   "id": "ca0298e4",
   "metadata": {
    "nbgrader": {
     "grade": true,
     "grade_id": "cell-5c398dc822477664",
     "locked": true,
     "points": 2,
     "schema_version": 1,
     "solution": false
    }
   },
   "outputs": [
    {
     "data": {
      "text/html": [
       "<div>\n",
       "<style scoped>\n",
       "    .dataframe tbody tr th:only-of-type {\n",
       "        vertical-align: middle;\n",
       "    }\n",
       "\n",
       "    .dataframe tbody tr th {\n",
       "        vertical-align: top;\n",
       "    }\n",
       "\n",
       "    .dataframe thead th {\n",
       "        text-align: right;\n",
       "    }\n",
       "</style>\n",
       "<table border=\"1\" class=\"dataframe\">\n",
       "  <thead>\n",
       "    <tr style=\"text-align: right;\">\n",
       "      <th></th>\n",
       "      <th>Name</th>\n",
       "      <th>Team</th>\n",
       "    </tr>\n",
       "  </thead>\n",
       "  <tbody>\n",
       "    <tr>\n",
       "      <th>169</th>\n",
       "      <td>True</td>\n",
       "      <td>True</td>\n",
       "    </tr>\n",
       "  </tbody>\n",
       "</table>\n",
       "</div>"
      ],
      "text/plain": [
       "     Name  Team\n",
       "169  True  True"
      ]
     },
     "execution_count": 12,
     "metadata": {},
     "output_type": "execute_result"
    }
   ],
   "source": [
    "### BEGIN HIDDEN TESTS\n",
    "\n",
    "## Old test case, seem incorrect. Commenting it for now...\n",
    "# teamdata1 = data.loc[data.Name == 'LeBron James', 'Name':'Team']\n",
    "# assert type(teamdata) == type(teamdata1)\n",
    "# teamdata == teamdata1\n",
    "\n",
    "fr1 =  data.iloc[0]\n",
    "assert type(fr) == type(fr1 )\n",
    "fr = fr1\n",
    "\n",
    "### END HIDDEN TESTS"
   ]
  },
  {
   "cell_type": "code",
   "execution_count": 13,
   "id": "1e7ce809",
   "metadata": {
    "nbgrader": {
     "grade": false,
     "grade_id": "cell-c96cb0193a5accb4",
     "locked": false,
     "schema_version": 1,
     "solution": true
    }
   },
   "outputs": [
    {
     "name": "stdout",
     "output_type": "stream",
     "text": [
      "Unnamed: 0                 1\n",
      "Name             Jae Crowder\n",
      "Team          Boston Celtics\n",
      "Number                    99\n",
      "Position                  SF\n",
      "Age                       25\n",
      "Height                   6-6\n",
      "Weight                   235\n",
      "College            Marquette\n",
      "Salary           6.79612e+06\n",
      "Name: 1, dtype: object\n"
     ]
    }
   ],
   "source": [
    "### GRADED\n",
    "# Please print the second row of data frame \n",
    "\n",
    "sr = None\n",
    "\n",
    "### BEGIN SOLUTION\n",
    "\n",
    "sr =  data.iloc[1]\n",
    "\n",
    "### END SOLUTION\n",
    "\n",
    "# ANSWER CHECK\n",
    "print(sr)"
   ]
  },
  {
   "cell_type": "code",
   "execution_count": 14,
   "id": "edcd56ea",
   "metadata": {
    "nbgrader": {
     "grade": true,
     "grade_id": "cell-621a6217da17246a",
     "locked": true,
     "points": 2,
     "schema_version": 1,
     "solution": false
    }
   },
   "outputs": [
    {
     "data": {
      "text/plain": [
       "Unnamed: 0    True\n",
       "Name          True\n",
       "Team          True\n",
       "Number        True\n",
       "Position      True\n",
       "Age           True\n",
       "Height        True\n",
       "Weight        True\n",
       "College       True\n",
       "Salary        True\n",
       "Name: 1, dtype: bool"
      ]
     },
     "execution_count": 14,
     "metadata": {},
     "output_type": "execute_result"
    }
   ],
   "source": [
    "### BEGIN HIDDEN TESTS\n",
    "sr1 =  data.iloc[1]\n",
    "assert type(sr) == type(sr1 )\n",
    "sr == sr1 \n",
    "\n",
    "### END HIDDEN TESTS"
   ]
  },
  {
   "cell_type": "code",
   "execution_count": 15,
   "id": "57c251ab",
   "metadata": {
    "nbgrader": {
     "grade": false,
     "grade_id": "cell-1843d8fe5e08d07a",
     "locked": false,
     "schema_version": 1,
     "solution": true
    }
   },
   "outputs": [
    {
     "name": "stdout",
     "output_type": "stream",
     "text": [
      "Unnamed: 0             455\n",
      "Name          Tibor Pleiss\n",
      "Team             Utah Jazz\n",
      "Number                  21\n",
      "Position                 C\n",
      "Age                     26\n",
      "Height                 7-3\n",
      "Weight                 256\n",
      "College                NaN\n",
      "Salary             2.9e+06\n",
      "Name: 455, dtype: object\n"
     ]
    }
   ],
   "source": [
    "### GRADED\n",
    "# Please print the last row of data frame\n",
    "\n",
    "lr = None\n",
    "\n",
    "### BEGIN SOLUTION\n",
    "\n",
    "lr =  data.iloc[-1] \n",
    "\n",
    "### END SOLUTION\n",
    "\n",
    "# ANSWER CHECK\n",
    "print(lr)"
   ]
  },
  {
   "cell_type": "code",
   "execution_count": 16,
   "id": "44898bcb",
   "metadata": {
    "nbgrader": {
     "grade": true,
     "grade_id": "cell-d0d3c052cb0eb6c4",
     "locked": true,
     "points": 2,
     "schema_version": 1,
     "solution": false
    }
   },
   "outputs": [
    {
     "data": {
      "text/plain": [
       "Unnamed: 0     True\n",
       "Name           True\n",
       "Team           True\n",
       "Number         True\n",
       "Position       True\n",
       "Age            True\n",
       "Height         True\n",
       "Weight         True\n",
       "College       False\n",
       "Salary         True\n",
       "Name: 455, dtype: bool"
      ]
     },
     "execution_count": 16,
     "metadata": {},
     "output_type": "execute_result"
    }
   ],
   "source": [
    "### BEGIN HIDDEN TESTS\n",
    "lr1 =  data.iloc[-1]\n",
    "assert type(lr) == type(lr1 )\n",
    "lr == lr1 \n",
    "\n",
    "### END HIDDEN TESTS"
   ]
  },
  {
   "cell_type": "code",
   "execution_count": 17,
   "id": "a75701ec",
   "metadata": {
    "nbgrader": {
     "grade": false,
     "grade_id": "cell-b2ddae2ebcad6705",
     "locked": false,
     "schema_version": 1,
     "solution": true
    }
   },
   "outputs": [
    {
     "name": "stdout",
     "output_type": "stream",
     "text": [
      "0        0\n",
      "1        1\n",
      "2        2\n",
      "3        3\n",
      "4        4\n",
      "      ... \n",
      "451    451\n",
      "452    452\n",
      "453    453\n",
      "454    454\n",
      "455    455\n",
      "Name: Unnamed: 0, Length: 456, dtype: int64\n"
     ]
    }
   ],
   "source": [
    "###GRADED\n",
    "# Please print the first column of data frame\n",
    " \n",
    "fc = None\n",
    "\n",
    "### BEGIN SOLUTION\n",
    "\n",
    "fc =  data.iloc[:,0] \n",
    "\n",
    "### END SOLUTION\n",
    "\n",
    "# ANSWER CHECK\n",
    "print(fc)"
   ]
  },
  {
   "cell_type": "code",
   "execution_count": 18,
   "id": "33a925af",
   "metadata": {
    "nbgrader": {
     "grade": true,
     "grade_id": "cell-3a927802d2551a13",
     "locked": true,
     "points": 2,
     "schema_version": 1,
     "solution": false
    }
   },
   "outputs": [
    {
     "data": {
      "text/plain": [
       "0      True\n",
       "1      True\n",
       "2      True\n",
       "3      True\n",
       "4      True\n",
       "       ... \n",
       "451    True\n",
       "452    True\n",
       "453    True\n",
       "454    True\n",
       "455    True\n",
       "Name: Unnamed: 0, Length: 456, dtype: bool"
      ]
     },
     "execution_count": 18,
     "metadata": {},
     "output_type": "execute_result"
    }
   ],
   "source": [
    "### BEGIN HIDDEN TESTS\n",
    "fc1 =  data.iloc[:,0]\n",
    "assert type(fc) == type(fc1)\n",
    "fc == fc1\n",
    "\n",
    "### END HIDDEN TESTS"
   ]
  },
  {
   "cell_type": "code",
   "execution_count": 19,
   "id": "ca164924",
   "metadata": {
    "nbgrader": {
     "grade": false,
     "grade_id": "cell-35925d6c39ff9c32",
     "locked": false,
     "schema_version": 1,
     "solution": true
    }
   },
   "outputs": [
    {
     "name": "stdout",
     "output_type": "stream",
     "text": [
      "0      Avery Bradley\n",
      "1        Jae Crowder\n",
      "2       John Holland\n",
      "3        R.J. Hunter\n",
      "4      Jonas Jerebko\n",
      "           ...      \n",
      "451    Chris Johnson\n",
      "452       Trey Lyles\n",
      "453     Shelvin Mack\n",
      "454        Raul Neto\n",
      "455     Tibor Pleiss\n",
      "Name: Name, Length: 456, dtype: object\n"
     ]
    }
   ],
   "source": [
    "### GRADED\n",
    "# Please print the second column of data frame\n",
    "\n",
    "sc = None\n",
    "\n",
    "### BEGIN SOLUTION\n",
    "\n",
    "sc =  data.iloc[:,1]\n",
    "\n",
    "### END SOLUTION\n",
    "\n",
    "# ANSWER CHECK\n",
    "print(sc)"
   ]
  },
  {
   "cell_type": "code",
   "execution_count": 20,
   "id": "abecdf2a",
   "metadata": {
    "nbgrader": {
     "grade": true,
     "grade_id": "cell-5040d043a3cceb73",
     "locked": true,
     "points": 2,
     "schema_version": 1,
     "solution": false
    }
   },
   "outputs": [
    {
     "data": {
      "text/plain": [
       "0      True\n",
       "1      True\n",
       "2      True\n",
       "3      True\n",
       "4      True\n",
       "       ... \n",
       "451    True\n",
       "452    True\n",
       "453    True\n",
       "454    True\n",
       "455    True\n",
       "Name: Name, Length: 456, dtype: bool"
      ]
     },
     "execution_count": 20,
     "metadata": {},
     "output_type": "execute_result"
    }
   ],
   "source": [
    "### BEGIN HIDDEN TESTS\n",
    "sc1 =  data.iloc[:,1]\n",
    "assert type(sc) == type(sc1)\n",
    "sc == sc1\n",
    "\n",
    "### END HIDDEN TESTS"
   ]
  },
  {
   "cell_type": "code",
   "execution_count": 21,
   "id": "2a1bc18d",
   "metadata": {
    "nbgrader": {
     "grade": false,
     "grade_id": "cell-04a5a0d17f2b4901",
     "locked": false,
     "schema_version": 1,
     "solution": true
    }
   },
   "outputs": [
    {
     "name": "stdout",
     "output_type": "stream",
     "text": [
      "0      7730337.0\n",
      "1      6796117.0\n",
      "2            NaN\n",
      "3      1148640.0\n",
      "4      5000000.0\n",
      "         ...    \n",
      "451     981348.0\n",
      "452    2239800.0\n",
      "453    2433333.0\n",
      "454     900000.0\n",
      "455    2900000.0\n",
      "Name: Salary, Length: 456, dtype: float64\n"
     ]
    }
   ],
   "source": [
    "### GRADED\n",
    "# Please print the last column of data frame\n",
    "\n",
    "lc = None\n",
    "\n",
    "### BEGIN SOLUTION\n",
    "\n",
    "lc =  data.iloc[:,-1] \n",
    "\n",
    "### END SOLUTION\n",
    "\n",
    "# ANSWER CHECK\n",
    "print(lc)"
   ]
  },
  {
   "cell_type": "code",
   "execution_count": 22,
   "id": "96e3e04b",
   "metadata": {
    "nbgrader": {
     "grade": true,
     "grade_id": "cell-86adba4835e0586a",
     "locked": true,
     "points": 2,
     "schema_version": 1,
     "solution": false
    }
   },
   "outputs": [
    {
     "data": {
      "text/plain": [
       "0       True\n",
       "1       True\n",
       "2      False\n",
       "3       True\n",
       "4       True\n",
       "       ...  \n",
       "451     True\n",
       "452     True\n",
       "453     True\n",
       "454     True\n",
       "455     True\n",
       "Name: Salary, Length: 456, dtype: bool"
      ]
     },
     "execution_count": 22,
     "metadata": {},
     "output_type": "execute_result"
    }
   ],
   "source": [
    "### BEGIN HIDDEN TESTS\n",
    "lc1 =  data.iloc[:,-1]\n",
    "assert type(lc) == type(lc1)\n",
    "lc == lc1\n",
    "\n",
    "### END HIDDEN TESTS"
   ]
  },
  {
   "cell_type": "markdown",
   "id": "4df9d11e",
   "metadata": {
    "nbgrader": {
     "grade": false,
     "grade_id": "cell-a2d49a9f9bf6d7df",
     "locked": true,
     "schema_version": 1,
     "solution": false
    }
   },
   "source": [
    "[Back to top](#Index:) \n",
    "\n",
    "## Part three\n",
    "\n",
    "### Split\n",
    "\n",
    "**2 Points each**\n",
    "\n",
    "In this exercise, return the first and last name utilizing the split function"
   ]
  },
  {
   "cell_type": "code",
   "execution_count": 23,
   "id": "b4f1ed6a",
   "metadata": {
    "nbgrader": {
     "grade": false,
     "grade_id": "cell-268b6113422e9d31",
     "locked": false,
     "schema_version": 1,
     "solution": true
    }
   },
   "outputs": [
    {
     "name": "stdout",
     "output_type": "stream",
     "text": [
      "The first name is Avery\n"
     ]
    }
   ],
   "source": [
    "### GRADED\n",
    "\n",
    "# Please print the first name of the first series in the data frame\n",
    "\n",
    "firstname = None\n",
    "\n",
    "### BEGIN SOLUTION\n",
    "\n",
    "firstname = data['Name'].str.split().str[0].iloc[0]\n",
    "\n",
    "### END SOLUTION\n",
    "\n",
    "# ANSWER CHECK\n",
    "print('The first name is ' + firstname)"
   ]
  },
  {
   "cell_type": "code",
   "execution_count": 24,
   "id": "528183ec",
   "metadata": {
    "nbgrader": {
     "grade": true,
     "grade_id": "cell-d1baa522c6132ea0",
     "locked": true,
     "points": 2,
     "schema_version": 1,
     "solution": false
    }
   },
   "outputs": [
    {
     "data": {
      "text/plain": [
       "True"
      ]
     },
     "execution_count": 24,
     "metadata": {},
     "output_type": "execute_result"
    }
   ],
   "source": [
    "### BEGIN HIDDEN TESTS\n",
    "firstname1 =  data['Name'].str.split().str[0].iloc[0]\n",
    "assert type(firstname) == type(firstname1)\n",
    "firstname == firstname1\n",
    "\n",
    "### END HIDDEN TESTS"
   ]
  },
  {
   "cell_type": "code",
   "execution_count": 25,
   "id": "22dc1bf1",
   "metadata": {
    "nbgrader": {
     "grade": false,
     "grade_id": "cell-66242b355c8d6e79",
     "locked": false,
     "schema_version": 1,
     "solution": true
    }
   },
   "outputs": [
    {
     "name": "stdout",
     "output_type": "stream",
     "text": [
      "The last name is Bradley\n"
     ]
    }
   ],
   "source": [
    "###GRADED\n",
    "\n",
    "# Please print the last name of the first series in the data frame\n",
    "\n",
    "lastname = None\n",
    "\n",
    "### BEGIN SOLUTION\n",
    "lastname =  data['Name'].str.split().str[1].iloc[0]\n",
    "### END SOLUTION\n",
    "\n",
    "# ANSWER CHECK\n",
    "print('The last name is ' + lastname)"
   ]
  },
  {
   "cell_type": "code",
   "execution_count": 26,
   "id": "e06ba465",
   "metadata": {
    "nbgrader": {
     "grade": true,
     "grade_id": "cell-4cab45fe56846428",
     "locked": true,
     "points": 2,
     "schema_version": 1,
     "solution": false
    }
   },
   "outputs": [
    {
     "data": {
      "text/plain": [
       "True"
      ]
     },
     "execution_count": 26,
     "metadata": {},
     "output_type": "execute_result"
    }
   ],
   "source": [
    "### BEGIN HIDDEN TESTS\n",
    "lastname1 =  data['Name'].str.split().str[1].iloc[0]\n",
    "assert type(lastname) == type(lastname1)\n",
    "lastname == lastname1\n",
    "\n",
    "### END HIDDEN TESTS"
   ]
  }
 ],
 "metadata": {
  "celltoolbar": "Create Assignment",
  "kernelspec": {
   "display_name": "Python 3 (ipykernel)",
   "language": "python",
   "name": "python3"
  },
  "language_info": {
   "codemirror_mode": {
    "name": "ipython",
    "version": 3
   },
   "file_extension": ".py",
   "mimetype": "text/x-python",
   "name": "python",
   "nbconvert_exporter": "python",
   "pygments_lexer": "ipython3",
   "version": "3.11.4"
  }
 },
 "nbformat": 4,
 "nbformat_minor": 5
}
