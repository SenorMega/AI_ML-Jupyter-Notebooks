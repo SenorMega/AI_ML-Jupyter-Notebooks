{
 "cells": [
  {
   "cell_type": "code",
   "execution_count": 1,
   "id": "8164bc29",
   "metadata": {},
   "outputs": [],
   "source": [
    "from sklearn import datasets\n",
    "from sklearn.model_selection import train_test_split, cross_val_score\n",
    "from sklearn.preprocessing import StandardScaler, LabelEncoder\n",
    "from sklearn.metrics import accuracy_score\n",
    "\n",
    "from sklearn.linear_model import LogisticRegression\n",
    "from sklearn.svm import SVC\n",
    "\n",
    "from sklearn.tree import DecisionTreeClassifier\n",
    "from sklearn.neighbors import KNeighborsClassifier\n",
    "from sklearn.pipeline import Pipeline\n",
    "import numpy as np\n",
    "# from scipy.stats import mode\n",
    "import matplotlib.pyplot as plt\n",
    "import scipy.stats"
   ]
  },
  {
   "cell_type": "markdown",
   "id": "4ed0508c",
   "metadata": {},
   "source": [
    "# Load data"
   ]
  },
  {
   "cell_type": "code",
   "execution_count": 2,
   "id": "8c6725b0",
   "metadata": {},
   "outputs": [
    {
     "data": {
      "text/plain": [
       "array([0, 0, 0, 0, 0, 0, 0, 0, 0, 0, 0, 0, 0, 0, 0, 0, 0, 0, 0, 0, 0, 0,\n",
       "       0, 0, 0, 0, 0, 0, 0, 0, 0, 0, 0, 0, 0, 0, 0, 0, 0, 0, 0, 0, 0, 0,\n",
       "       0, 0, 0, 0, 0, 0, 1, 1, 1, 1, 1, 1, 1, 1, 1, 1, 1, 1, 1, 1, 1, 1,\n",
       "       1, 1, 1, 1, 1, 1, 1, 1, 1, 1, 1, 1, 1, 1, 1, 1, 1, 1, 1, 1, 1, 1,\n",
       "       1, 1, 1, 1, 1, 1, 1, 1, 1, 1, 1, 1, 2, 2, 2, 2, 2, 2, 2, 2, 2, 2,\n",
       "       2, 2, 2, 2, 2, 2, 2, 2, 2, 2, 2, 2, 2, 2, 2, 2, 2, 2, 2, 2, 2, 2,\n",
       "       2, 2, 2, 2, 2, 2, 2, 2, 2, 2, 2, 2, 2, 2, 2, 2, 2, 2])"
      ]
     },
     "execution_count": 2,
     "metadata": {},
     "output_type": "execute_result"
    }
   ],
   "source": [
    "iris = datasets.load_iris()\n",
    "iris.target"
   ]
  },
  {
   "cell_type": "code",
   "execution_count": 3,
   "id": "16e6eeb3",
   "metadata": {},
   "outputs": [],
   "source": [
    "X = iris.data[50:,[1,2]]\n",
    "y = iris.target[50:]"
   ]
  },
  {
   "cell_type": "markdown",
   "id": "7fba3091",
   "metadata": {},
   "source": [
    "# Majority vote classifier"
   ]
  },
  {
   "cell_type": "code",
   "execution_count": 10,
   "id": "6ee77c9b",
   "metadata": {},
   "outputs": [
    {
     "data": {
      "text/plain": [
       "(array([0.9335, 0.922 , 0.8835, 0.9195]), 0.9215000000000001)"
      ]
     },
     "execution_count": 10,
     "metadata": {},
     "output_type": "execute_result"
    }
   ],
   "source": [
    "numit = 100\n",
    "model_acc = np.empty((numit,4))\n",
    "ensemble_acc = np.empty(numit)\n",
    "\n",
    "for c in range(numit):\n",
    "    \n",
    "    # Create an array with four models\n",
    "    clfs = [\n",
    "        Pipeline([ ('sc',StandardScaler()), \n",
    "                   ('clf',LogisticRegression()) \n",
    "                 ]), \n",
    "        \n",
    "        Pipeline([ ('sc',StandardScaler()), \n",
    "                   ('clf',SVC()) \n",
    "                 ]),\n",
    "\n",
    "        DecisionTreeClassifier(), \n",
    "\n",
    "        Pipeline([ ('sc',StandardScaler()), \n",
    "                   ('clf',KNeighborsClassifier()) \n",
    "                 ])\n",
    "    ]\n",
    "    \n",
    "    # Test/train split\n",
    "    X_train, X_test, y_train, y_test = train_test_split(X, y, test_size=0.2)\n",
    "    \n",
    "    # Train and test the four models\n",
    "    y_pred = np.empty( (len(clfs),len(y_test)) , int)\n",
    "    for i, model in enumerate(clfs):  \n",
    "        model.fit(X_train,y_train)\n",
    "        y_pred[i,:] = model.predict(X_test)\n",
    "        model_acc[c,i] = accuracy_score(y_test,y_pred[i,:])\n",
    "        \n",
    "    # Majority vote\n",
    "    y_pred_ens = scipy.stats.mode(y_pred).mode[0]\n",
    "    ensemble_acc[c] = accuracy_score(y_test,y_pred_ens)"
   ]
  },
  {
   "cell_type": "code",
   "execution_count": 11,
   "id": "806035b9",
   "metadata": {},
   "outputs": [
    {
     "data": {
      "text/plain": [
       "(array([0.9335, 0.922 , 0.8835, 0.9195]), 0.9215000000000001)"
      ]
     },
     "execution_count": 11,
     "metadata": {},
     "output_type": "execute_result"
    }
   ],
   "source": [
    "np.mean(model_acc,axis=0), np.mean(ensemble_acc)"
   ]
  }
 ],
 "metadata": {
  "kernelspec": {
   "display_name": "Python 3 (ipykernel)",
   "language": "python",
   "name": "python3"
  },
  "language_info": {
   "codemirror_mode": {
    "name": "ipython",
    "version": 3
   },
   "file_extension": ".py",
   "mimetype": "text/x-python",
   "name": "python",
   "nbconvert_exporter": "python",
   "pygments_lexer": "ipython3",
   "version": "3.9.5"
  }
 },
 "nbformat": 4,
 "nbformat_minor": 5
}
