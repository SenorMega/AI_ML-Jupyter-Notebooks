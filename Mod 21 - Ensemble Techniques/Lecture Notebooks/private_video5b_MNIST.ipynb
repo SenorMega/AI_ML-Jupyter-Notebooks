{
 "cells": [
  {
   "cell_type": "code",
   "execution_count": 1,
   "id": "6e8be008",
   "metadata": {},
   "outputs": [],
   "source": [
    "import numpy as np\n",
    "import matplotlib.pyplot as plt\n",
    "from sklearn.datasets import load_digits\n",
    "from sklearn.model_selection import train_test_split\n",
    "import sklearn\n",
    "import pandas as pd\n",
    "from mpl_toolkits.axes_grid1 import ImageGrid"
   ]
  },
  {
   "cell_type": "code",
   "execution_count": 2,
   "id": "c2472093",
   "metadata": {},
   "outputs": [],
   "source": [
    "digits = load_digits()\n",
    "df = pd.DataFrame(data=digits.data)\n",
    "df['target'] = digits.target\n",
    "X = df.drop('target',axis='columns')\n",
    "y = df.target\n",
    "X_train, X_test, y_train, y_test = train_test_split(X,y,test_size=0.2)"
   ]
  },
  {
   "cell_type": "code",
   "execution_count": 3,
   "id": "af73ab73",
   "metadata": {},
   "outputs": [
    {
     "data": {
      "image/png": "[encoded data removed]",
      "text/plain": [
       "<Figure size 1152x576 with 100 Axes>"
      ]
     },
     "metadata": {
      "needs_background": "light"
     },
     "output_type": "display_data"
    }
   ],
   "source": [
    "fig = plt.figure(figsize=(16, 8))\n",
    "grid = ImageGrid(fig, 111,nrows_ncols=(5,10),axes_pad=0.1 )\n",
    "plt.gray()\n",
    "for ax, im in zip(grid, digits.images[:50]):\n",
    "    ax.imshow(im)\n",
    "    plt.xlabel([])\n",
    "    plt.ylabel([])\n",
    "    plt.xticks([])\n",
    "    plt.yticks([])\n",
    "\n",
    "plt.show()"
   ]
  },
  {
   "cell_type": "markdown",
   "id": "2cb9a33e",
   "metadata": {},
   "source": [
    "# Random forest"
   ]
  },
  {
   "cell_type": "code",
   "execution_count": 10,
   "id": "4d114180",
   "metadata": {},
   "outputs": [
    {
     "data": {
      "text/plain": [
       "0.9526989426822482"
      ]
     },
     "execution_count": 10,
     "metadata": {},
     "output_type": "execute_result"
    }
   ],
   "source": [
    "from sklearn.ensemble import RandomForestClassifier\n",
    "model = RandomForestClassifier(n_estimators=30, max_features=10, oob_score=True)\n",
    "model.fit(X, y)\n",
    "model.oob_score_"
   ]
  },
  {
   "cell_type": "code",
   "execution_count": null,
   "id": "146459ed",
   "metadata": {},
   "outputs": [],
   "source": [
    "ntrees_list = np.arange(5,100,2)\n",
    "scores = np.empty(len(ntrees_list))\n",
    "\n",
    "for j, ntrees in enumerate(ntrees_list):\n",
    "    m = RandomForestClassifier(n_estimators=ntrees, max_features=30,oob_score=True)\n",
    "    m.fit(X, y)\n",
    "    scores[j] = m.oob_score_"
   ]
  },
  {
   "cell_type": "code",
   "execution_count": null,
   "id": "eab19212",
   "metadata": {},
   "outputs": [],
   "source": [
    "plt.figure(figsize=(10,6))\n",
    "plt.plot(ntrees_list, scores,linewidth=2)\n",
    "plt.grid(linestyle='--')\n",
    "plt.xticks(fontsize=16)\n",
    "plt.yticks(fontsize=16)\n",
    "plt.xlabel('# of trees',fontsize=20)\n",
    "plt.ylabel('oob score',fontsize=20)"
   ]
  },
  {
   "cell_type": "markdown",
   "id": "9bcc4b4c",
   "metadata": {},
   "source": [
    "## Feature importance"
   ]
  },
  {
   "cell_type": "code",
   "execution_count": null,
   "id": "03ca77dd",
   "metadata": {},
   "outputs": [],
   "source": [
    "plt.matshow(np.reshape(model.feature_importances_,(8,8)))"
   ]
  },
  {
   "cell_type": "markdown",
   "id": "c39a3877",
   "metadata": {},
   "source": [
    "## Variation over number of trees and number of features"
   ]
  },
  {
   "cell_type": "code",
   "execution_count": null,
   "id": "1b00a11e",
   "metadata": {},
   "outputs": [],
   "source": [
    "ntrees_list = np.arange(1,80,1)\n",
    "nfeatures_list = [5,30,64]\n",
    "scores = np.empty((len(nfeatures_list),len(ntrees_list)))\n",
    "\n",
    "for i, nfeatures in enumerate(nfeatures_list):\n",
    "    for j, ntrees in enumerate(ntrees_list):\n",
    "        m = RandomForestClassifier(n_estimators=ntrees, max_features=nfeatures,oob_score=True)\n",
    "        m.fit(X, y)\n",
    "        scores[i, j] = m.oob_score_\n",
    "        "
   ]
  },
  {
   "cell_type": "code",
   "execution_count": null,
   "id": "19b5ccdf",
   "metadata": {},
   "outputs": [],
   "source": [
    "dscores = scores - scores[2,:]\n",
    "\n",
    "plt.figure(figsize=(10,6))\n",
    "for i, nfeatures in enumerate(nfeatures_list):\n",
    "    plt.plot(ntrees_list, 100*dscores[i,:],linewidth=2,label='max_features = %d' % (nfeatures))\n",
    "plt.legend(fontsize=16)\n",
    "plt.xlim(1,39)\n",
    "plt.grid(linestyle='--')\n",
    "plt.xticks(fontsize=16)\n",
    "plt.yticks(fontsize=16)\n",
    "plt.xlabel('# of trees',fontsize=20)\n",
    "plt.ylabel('% improvement',fontsize=20)"
   ]
  },
  {
   "cell_type": "code",
   "execution_count": null,
   "id": "aa865caa",
   "metadata": {},
   "outputs": [],
   "source": [
    "from sklearn.metrics import confusion_matrix\n",
    "y_predicted = model.predict(X_test)\n",
    "cm = confusion_matrix(y_test, y_predicted)\n",
    "cm"
   ]
  },
  {
   "cell_type": "code",
   "execution_count": null,
   "id": "559e7697",
   "metadata": {},
   "outputs": [],
   "source": [
    "# import seaborn as sn\n",
    "\n",
    "# plt.figure(figsize=(10,7))\n",
    "# sn.heatmap(cm, annot=True)\n",
    "# plt.xlabel('Predicted')\n",
    "# plt.ylabel('Truth')"
   ]
  },
  {
   "cell_type": "code",
   "execution_count": null,
   "id": "86236ee7",
   "metadata": {},
   "outputs": [],
   "source": []
  },
  {
   "cell_type": "code",
   "execution_count": null,
   "id": "57702d61",
   "metadata": {},
   "outputs": [],
   "source": []
  }
 ],
 "metadata": {
  "kernelspec": {
   "display_name": "Python 3 (ipykernel)",
   "language": "python",
   "name": "python3"
  },
  "language_info": {
   "codemirror_mode": {
    "name": "ipython",
    "version": 3
   },
   "file_extension": ".py",
   "mimetype": "text/x-python",
   "name": "python",
   "nbconvert_exporter": "python",
   "pygments_lexer": "ipython3",
   "version": "3.9.7"
  }
 },
 "nbformat": 4,
 "nbformat_minor": 5
}
