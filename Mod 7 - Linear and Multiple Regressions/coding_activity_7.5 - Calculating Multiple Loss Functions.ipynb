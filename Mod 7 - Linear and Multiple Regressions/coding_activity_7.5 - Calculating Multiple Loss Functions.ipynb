{
 "cells": [
  {
   "cell_type": "markdown",
   "metadata": {
    "nbgrader": {
     "grade": false,
     "grade_id": "cell-bb73b89393cb3c29",
     "locked": true,
     "schema_version": 1,
     "solution": false
    }
   },
   "source": [
    "## Codio Activity 7.5: Calculating Multiple Loss Functions\n",
    "\n",
    "**Expected Time = 60 minutes**\n",
    "\n",
    "**Total Points = 20**\n",
    "\n",
    "A third loss function mentioned is the Huber loss function.  This is notable for its resistance to extreme values and is defined as a piecewise function:\n",
    "\n",
    "\n",
    "$${\\displaystyle L_{\\delta }(y,f(x))={\\begin{cases}{\\frac {1}{2}}(y-f(x))^{2}&{\\textrm {for}}|y-f(x)|\\leq \\delta ,\\\\\\delta \\,(|y-f(x)|-{\\frac {1}{2}}\\delta ),&{\\textrm {otherwise.}}\\end{cases}}}$$\n",
    "\n",
    "In this activity, you will compute and compare the results of minimizing the mean squared error, mean absolute error, and huber loss functions.  \n",
    "\n",
    "NOTE: If the formula is not rendering correctly (overlapping text), double-click in this cell and then Shift-Enter to reload the cell.\n",
    "\n",
    "\n",
    "## Index:\n",
    "\n",
    "- [Problem 1](#Problem-1)\n",
    "- [Problem 2](#Problem-2)"
   ]
  },
  {
   "cell_type": "code",
   "execution_count": 1,
   "metadata": {},
   "outputs": [],
   "source": [
    "import seaborn as sns\n",
    "import pandas as pd\n",
    "import numpy as np\n",
    "import matplotlib.pyplot as plt\n",
    "import plotly.express as px\n",
    "import plotly.graph_objects as go\n",
    "from scipy.optimize import minimize"
   ]
  },
  {
   "cell_type": "markdown",
   "metadata": {
    "nbgrader": {
     "grade": false,
     "grade_id": "cell-5a7bf1910448a41a",
     "locked": true,
     "schema_version": 1,
     "solution": false
    }
   },
   "source": [
    "### The tips data\n",
    "\n",
    "For this exercise, the tips dataset from the lectures will be used, and you are to predict the tip amount given the total bill.  "
   ]
  },
  {
   "cell_type": "code",
   "execution_count": 2,
   "metadata": {},
   "outputs": [],
   "source": [
    "tips = sns.load_dataset('tips')"
   ]
  },
  {
   "cell_type": "code",
   "execution_count": 3,
   "metadata": {},
   "outputs": [
    {
     "data": {
      "text/html": [
       "<div>\n",
       "<style scoped>\n",
       "    .dataframe tbody tr th:only-of-type {\n",
       "        vertical-align: middle;\n",
       "    }\n",
       "\n",
       "    .dataframe tbody tr th {\n",
       "        vertical-align: top;\n",
       "    }\n",
       "\n",
       "    .dataframe thead th {\n",
       "        text-align: right;\n",
       "    }\n",
       "</style>\n",
       "<table border=\"1\" class=\"dataframe\">\n",
       "  <thead>\n",
       "    <tr style=\"text-align: right;\">\n",
       "      <th></th>\n",
       "      <th>total_bill</th>\n",
       "      <th>tip</th>\n",
       "      <th>sex</th>\n",
       "      <th>smoker</th>\n",
       "      <th>day</th>\n",
       "      <th>time</th>\n",
       "      <th>size</th>\n",
       "    </tr>\n",
       "  </thead>\n",
       "  <tbody>\n",
       "    <tr>\n",
       "      <th>0</th>\n",
       "      <td>16.99</td>\n",
       "      <td>1.01</td>\n",
       "      <td>Female</td>\n",
       "      <td>No</td>\n",
       "      <td>Sun</td>\n",
       "      <td>Dinner</td>\n",
       "      <td>2</td>\n",
       "    </tr>\n",
       "    <tr>\n",
       "      <th>1</th>\n",
       "      <td>10.34</td>\n",
       "      <td>1.66</td>\n",
       "      <td>Male</td>\n",
       "      <td>No</td>\n",
       "      <td>Sun</td>\n",
       "      <td>Dinner</td>\n",
       "      <td>3</td>\n",
       "    </tr>\n",
       "    <tr>\n",
       "      <th>2</th>\n",
       "      <td>21.01</td>\n",
       "      <td>3.50</td>\n",
       "      <td>Male</td>\n",
       "      <td>No</td>\n",
       "      <td>Sun</td>\n",
       "      <td>Dinner</td>\n",
       "      <td>3</td>\n",
       "    </tr>\n",
       "    <tr>\n",
       "      <th>3</th>\n",
       "      <td>23.68</td>\n",
       "      <td>3.31</td>\n",
       "      <td>Male</td>\n",
       "      <td>No</td>\n",
       "      <td>Sun</td>\n",
       "      <td>Dinner</td>\n",
       "      <td>2</td>\n",
       "    </tr>\n",
       "    <tr>\n",
       "      <th>4</th>\n",
       "      <td>24.59</td>\n",
       "      <td>3.61</td>\n",
       "      <td>Female</td>\n",
       "      <td>No</td>\n",
       "      <td>Sun</td>\n",
       "      <td>Dinner</td>\n",
       "      <td>4</td>\n",
       "    </tr>\n",
       "  </tbody>\n",
       "</table>\n",
       "</div>"
      ],
      "text/plain": [
       "   total_bill   tip     sex smoker  day    time  size\n",
       "0       16.99  1.01  Female     No  Sun  Dinner     2\n",
       "1       10.34  1.66    Male     No  Sun  Dinner     3\n",
       "2       21.01  3.50    Male     No  Sun  Dinner     3\n",
       "3       23.68  3.31    Male     No  Sun  Dinner     2\n",
       "4       24.59  3.61  Female     No  Sun  Dinner     4"
      ]
     },
     "execution_count": 3,
     "metadata": {},
     "output_type": "execute_result"
    }
   ],
   "source": [
    "tips.head()"
   ]
  },
  {
   "cell_type": "code",
   "execution_count": 7,
   "metadata": {},
   "outputs": [],
   "source": [
    "x = tips['total_bill']\n",
    "y = tips['tip']"
   ]
  },
  {
   "cell_type": "markdown",
   "metadata": {
    "nbgrader": {
     "grade": false,
     "grade_id": "cell-f5dbd8e1ad4fb524",
     "locked": true,
     "schema_version": 1,
     "solution": false
    }
   },
   "source": [
    "[Back to top](#Index:) \n",
    "\n",
    "## Problem 1\n",
    "\n",
    "### Create a Huber Loss function\n",
    "\n",
    "**10 Points**\n",
    "\n",
    "Using the formula repeated below for the Huber loss, complete the function that returns the sum of the Huber Loss equation.\n",
    "\n",
    "$${\\displaystyle L_{\\delta }(y,f(x))={\\begin{cases}{\\frac {1}{2}}(y-f(x))^{2}&{\\textrm {for}}|y-f(x)|\\leq \\delta ,\\\\\\delta \\,(|y-f(x)|-{\\frac {1}{2}}\\delta ),&{\\textrm {otherwise.}}\\end{cases}}}$$\n",
    "\n",
    "Your function will take in both a value for $\\theta$ and for $\\delta$.  Set the value of $\\delta = 1.5$ by default."
   ]
  },
  {
   "cell_type": "code",
   "execution_count": 8,
   "metadata": {
    "nbgrader": {
     "grade": false,
     "grade_id": "cell-9a9b87589083f36b",
     "locked": false,
     "schema_version": 1,
     "solution": true
    }
   },
   "outputs": [
    {
     "data": {
      "text/plain": [
       "56561.369999999995"
      ]
     },
     "execution_count": 8,
     "metadata": {},
     "output_type": "execute_result"
    }
   ],
   "source": [
    "#GRADED\n",
    "\n",
    "def huber_loss(theta, delta):\n",
    "    \"\"\"\n",
    "    This function accepts a value for theta\n",
    "    and returns the sum of the huber loss.\n",
    "    \n",
    "    Arguments\n",
    "    ---------\n",
    "    theta: float\n",
    "           Values to use for parameter\n",
    "           of regression model.\n",
    "           \n",
    "    delta: float\n",
    "           Value for delta in Huber Loss\n",
    "            \n",
    "    Returns\n",
    "    -------\n",
    "    huber: np.float\n",
    "         Sum of huber loss\n",
    "    \"\"\"\n",
    "\n",
    "### BEGIN SOLUTION\n",
    "def huber_loss(theta, delta = 1.5):\n",
    "    y_pred = theta*x\n",
    "    y_err = np.abs(y - y_pred) \n",
    "    return sum(np.where(y_err <= delta, 1/2*(y_err)**2, delta*(y_err - 1/2*delta)))\n",
    "### END SOLUTION\n",
    "\n",
    "huber_loss(8)"
   ]
  },
  {
   "cell_type": "code",
   "execution_count": 8,
   "metadata": {
    "nbgrader": {
     "grade": true,
     "grade_id": "cell-5921ecbcb23b0fb0",
     "locked": true,
     "points": 10,
     "schema_version": 1,
     "solution": false
    }
   },
   "outputs": [],
   "source": [
    "### BEGIN HIDDEN TESTS\n",
    "def huber_loss_(theta, delta = 1.5):\n",
    "    y_pred = theta*X\n",
    "    y_err = np.abs(y - y_pred) \n",
    "    return sum(np.where(y_err <= delta, 1/2*(y_err)**2, delta*(y_err - 1/2*delta)))\n",
    "ans_ = huber_loss_(8)\n",
    "stu = huber_loss(8)\n",
    "#\n",
    "#\n",
    "#\n",
    "assert type(ans_) == type(stu), 'Make sure you return a float'\n",
    "assert ans_ == stu, 'Your function does not return the same solution for theta = 8'\n",
    "### END HIDDEN TESTS"
   ]
  },
  {
   "cell_type": "markdown",
   "metadata": {
    "nbgrader": {
     "grade": false,
     "grade_id": "cell-71b3d24c4438e5b8",
     "locked": true,
     "schema_version": 1,
     "solution": false
    }
   },
   "source": [
    "[Back to top](#Index:) \n",
    "\n",
    "## Problem 2\n",
    "\n",
    "### Minimizing Huber Loss\n",
    "\n",
    "**10 Points**\n",
    "\n",
    "Use the `minimize` function imported from `scipy.optimize` to determine the optimal value for $\\theta$ based on the Huber Loss with $\\delta = 1.5$.  Assign your results as type `np.float` to `theta_huber` below with `x0 = .5`.  \n",
    "\n",
    "\n",
    "Hint: Use the `minimize` function with an initial guess of 0.5 and assign the value to `minimum_theta`"
   ]
  },
  {
   "cell_type": "code",
   "execution_count": 11,
   "metadata": {
    "nbgrader": {
     "grade": false,
     "grade_id": "cell-91b58b91bc727853",
     "locked": false,
     "schema_version": 1,
     "solution": true
    }
   },
   "outputs": [
    {
     "name": "stdout",
     "output_type": "stream",
     "text": [
      "<class 'float'>\n",
      "0.14626752601211537\n"
     ]
    }
   ],
   "source": [
    "### GRADED\n",
    "# Use the `minimize` function with an initial guess of 0.5 and assign the value to `minimum_theta` variable\n",
    "minimum_theta = None\n",
    "\n",
    "theta_huber = ''\n",
    "\n",
    "### BEGIN SOLUTION\n",
    "minimum_theta = minimize(huber_loss, x0 = .5)\n",
    "theta_huber = float(minimum_theta.x[0])\n",
    "### END SOLUTION\n",
    "\n",
    "# Answer check\n",
    "print(type(theta_huber))\n",
    "print(theta_huber)"
   ]
  },
  {
   "cell_type": "code",
   "execution_count": 13,
   "metadata": {
    "nbgrader": {
     "grade": true,
     "grade_id": "cell-837b15e800192fb7",
     "locked": true,
     "points": 10,
     "schema_version": 1,
     "solution": false
    }
   },
   "outputs": [],
   "source": [
    "### BEGIN HIDDEN TESTS\n",
    "def huber_loss_(theta, delta = 1.5):\n",
    "    y_pred = theta*X\n",
    "    y_err = np.abs(y - y_pred) \n",
    "    return sum(np.where(y_err <= delta, 1/2*(y_err)**2, delta*(y_err - 1/2*delta)))\n",
    "\n",
    "minimum_theta_ = minimize(huber_loss_, x0 = .5)\n",
    "theta_huber_ = minimum_theta_.x[0]\n",
    "\n",
    "#\n",
    "#\n",
    "#\n",
    "assert type(theta_huber_) == type(theta_huber) or type(float(theta_huber_)) == type(theta_huber) \n",
    "assert minimum_theta.success == minimum_theta_.success\n",
    "assert np.isclose(theta_huber_, theta_huber, atol=1e-6)\n",
    "np.testing.assert_equal(minimum_theta_, minimum_theta)\n",
    "\n",
    "### END HIDDEN TESTS"
   ]
  },
  {
   "cell_type": "code",
   "execution_count": 14,
   "metadata": {},
   "outputs": [
    {
     "name": "stderr",
     "output_type": "stream",
     "text": [
      "No artists with labels found to put in legend.  Note that artists whose label start with an underscore are ignored when legend() is called with no argument.\n"
     ]
    },
    {
     "data": {
      "image/png": "[encoded data removed]",
      "text/plain": [
       "<Figure size 640x480 with 1 Axes>"
      ]
     },
     "metadata": {},
     "output_type": "display_data"
    }
   ],
   "source": [
    "thetas = np.linspace(0, 0.4, 100)\n",
    "\n",
    "def l2_loss(theta):\n",
    "    return np.mean((y - theta*x)**2)\n",
    "\n",
    "def mae_loss(theta):\n",
    "    return np.mean(np.abs(y - theta*x))\n",
    "\n",
    "plt.plot(thetas, [l2_loss(i) for i in thetas])\n",
    "plt.plot(thetas, [mae_loss(i) for i in thetas])\n",
    "plt.plot(thetas, [huber_loss(i, delta = 0.5) for i in thetas])\n",
    "#plt.plot(theta_solution, l2_loss(theta_solution), 'ro', label = f'solution: {np.round(theta_solution[0], 3)}')\n",
    "plt.legend();\n",
    "plt.title(r'Minimizing Mean Squared Error given $\\theta$');\n",
    "plt.xlabel(r'$\\theta$')\n",
    "plt.ylabel('MSE');"
   ]
  },
  {
   "cell_type": "code",
   "execution_count": null,
   "metadata": {},
   "outputs": [],
   "source": []
  }
 ],
 "metadata": {
  "celltoolbar": "Create Assignment",
  "kernelspec": {
   "display_name": "Python 3 (ipykernel)",
   "language": "python",
   "name": "python3"
  },
  "language_info": {
   "codemirror_mode": {
    "name": "ipython",
    "version": 3
   },
   "file_extension": ".py",
   "mimetype": "text/x-python",
   "name": "python",
   "nbconvert_exporter": "python",
   "pygments_lexer": "ipython3",
   "version": "3.12.2"
  }
 },
 "nbformat": 4,
 "nbformat_minor": 4
}
