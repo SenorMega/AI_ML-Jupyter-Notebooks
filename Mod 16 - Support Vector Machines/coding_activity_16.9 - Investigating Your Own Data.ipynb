{
 "cells": [
  {
   "cell_type": "markdown",
   "metadata": {
    "nbgrader": {
     "grade": false,
     "grade_id": "cell-c494d2f790e35eb6",
     "locked": true,
     "schema_version": 3,
     "solution": false
    }
   },
   "source": [
    "### Codio Activity 16.9: Investigating your own data\n",
    "\n",
    "For this activity, you are asked to go out and choose a dataset to build a classification model with.  Specifically, you are to compare the `LogisticRegression`, `KNearestNeighborsClassifier`, and `SVC` estimators in terms of performance and speed in model fitting.  You should optimize this model according to what metric you believe is the appropriate one for the task between `precision`, `recall`, or `accuracy`.  "
   ]
  },
  {
   "cell_type": "code",
   "execution_count": 77,
   "metadata": {},
   "outputs": [],
   "source": [
    "import pandas as pd\n",
    "import numpy as np\n",
    "import matplotlib.pyplot as plt\n",
    "import seaborn as sns\n",
    "import plotly.express as px\n",
    "import time \n",
    "\n",
    "from sklearn.neighbors import KNeighborsClassifier\n",
    "from sklearn.preprocessing import StandardScaler\n",
    "from sklearn.svm import SVC\n",
    "from sklearn.model_selection import train_test_split, GridSearchCV, RandomizedSearchCV\n",
    "from sklearn.metrics import mean_squared_error, accuracy_score\n",
    "from sklearn.linear_model import LogisticRegression, SGDRegressor, LinearRegression\n",
    "from sklearn.dummy import DummyClassifier\n",
    "from sklearn.metrics import confusion_matrix"
   ]
  },
  {
   "cell_type": "markdown",
   "metadata": {
    "nbgrader": {
     "grade": false,
     "grade_id": "cell-e37ce95bafcde96d",
     "locked": true,
     "schema_version": 3,
     "solution": false
    }
   },
   "source": [
    "### Gathering the data\n",
    "\n",
    "For your dataset, consider using an example dataset from either [kaggle](https://www.kaggle.com/) or the [UCI Machine Learning Repository](https://archive.ics.uci.edu/ml/index.php).  Select an appropriate dataset that is a classification problem.  Download the data file and work in a notebook locally to perform your analysis.  Be sure to grid search different model parameters and compare the different estimators.  Construct a DataFrame of the model results with the following information:\n",
    "\n",
    "| model | train score | test score | average fit time |\n",
    "| ----- | -----   | -------   | ------- |\n",
    "| KNN | ? | ? | ? |\n",
    "| Logistic Regression | ? | ? | ? |\n",
    "| SVC | ? | ? | ? |"
   ]
  },
  {
   "cell_type": "markdown",
   "metadata": {
    "nbgrader": {
     "grade": false,
     "grade_id": "cell-f3c8278622a110d5",
     "locked": true,
     "schema_version": 3,
     "solution": false
    }
   },
   "source": [
    "The assignment will expect a DataFrame with this exact structure and index and column names.  You will be graded based on the exact match of the structure of the DataFrame.  One suggestion is to build a DataFrame and write this out to `.json`, copy and paste this below to create the DataFrame.  Alternatively, you can write it out to a `.csv` file and copy the text, or simply hardcode the DataFrame based on your results."
   ]
  },
  {
   "cell_type": "code",
   "execution_count": 57,
   "metadata": {},
   "outputs": [
    {
     "name": "stdout",
     "output_type": "stream",
     "text": [
      "<class 'pandas.core.frame.DataFrame'>\n",
      "RangeIndex: 3810 entries, 0 to 3809\n",
      "Data columns (total 8 columns):\n",
      " #   Column             Non-Null Count  Dtype  \n",
      "---  ------             --------------  -----  \n",
      " 0   Area               3810 non-null   int64  \n",
      " 1   Perimeter          3810 non-null   float64\n",
      " 2   Major_Axis_Length  3810 non-null   float64\n",
      " 3   Minor_Axis_Length  3810 non-null   float64\n",
      " 4   Eccentricity       3810 non-null   float64\n",
      " 5   Convex_Area        3810 non-null   int64  \n",
      " 6   Extent             3810 non-null   float64\n",
      " 7   Class              3810 non-null   object \n",
      "dtypes: float64(5), int64(2), object(1)\n",
      "memory usage: 238.3+ KB\n"
     ]
    }
   ],
   "source": [
    "from ucimlrepo import fetch_ucirepo \n",
    "  \n",
    "# fetch dataset \n",
    "rice_cammeo_and_osmancik = fetch_ucirepo(id=545)\n",
    "  \n",
    "# data (as pandas dataframes) \n",
    "rice_data = rice_cammeo_and_osmancik.data.original\n",
    "rice_data.info()\n",
    "\n",
    "#X = rice_cammeo_and_osmancik.data.features \n",
    "#y = rice_cammeo_and_osmancik.data.targets \n",
    "  \n",
    "# metadata \n",
    "# print(rice_cammeo_and_osmancik.metadata) \n",
    "  \n",
    "# variable information \n",
    "# print(rice_cammeo_and_osmancik.variables) "
   ]
  },
  {
   "cell_type": "code",
   "execution_count": null,
   "metadata": {},
   "outputs": [],
   "source": [
    "#   Column Key Code\n",
    "\n",
    "#   0                Area    \n",
    "#   1           Perimeter\n",
    "#   2   Major_Axis_Length\n",
    "#   3   Minor_Axis_Length\n",
    "#   4        Eccentricity  \n",
    "#   5         Convex_Area\n",
    "#   6              Extent  \n",
    "#   7               Class\n",
    "\n",
    "sns.pairplot(rice_data, hue='Class')\n",
    "\n",
    "fig1 = px.scatter(rice_data, x='Major_Axis_Length', y='Perimeter', color='Class')\n",
    "fig1.show()\n",
    "\n",
    "fig2 = px.scatter(rice_data, x='Major_Axis_Length', y='Convex_Area', color='Class')\n",
    "fig2.show()"
   ]
  },
  {
   "cell_type": "code",
   "execution_count": 58,
   "metadata": {},
   "outputs": [],
   "source": [
    "X = rice_data[['Major_Axis_Length', 'Convex_Area']]\n",
    "y = rice_data.Class\n",
    "\n",
    "X_train, X_test, y_train, y_test = train_test_split(X, y, random_state=518)\n",
    "\n",
    "scaler = StandardScaler()\n",
    "X_tr_scaled = scaler.fit_transform(X_train)\n",
    "X_ts_scaled = scaler.transform(X_test)"
   ]
  },
  {
   "cell_type": "markdown",
   "metadata": {},
   "source": [
    "# Logistic Regression"
   ]
  },
  {
   "cell_type": "code",
   "execution_count": 84,
   "metadata": {},
   "outputs": [
    {
     "name": "stdout",
     "output_type": "stream",
     "text": [
      "0.928596429821491\n",
      "0.9265477439664218\n",
      "0.00797891616821289\n"
     ]
    }
   ],
   "source": [
    "start = time.time()\n",
    "lgr = LogisticRegression(multi_class='multinomial').fit(X_tr_scaled, y_train)\n",
    "end = time.time()\n",
    "\n",
    "lgr_train_score = lgr.score(X_tr_scaled,y_train)\n",
    "lgr_test_score = lgr.score(X_ts_scaled,y_test)\n",
    "elapsed_time = end - start\n",
    "\n",
    "print(lgr_train_score)\n",
    "print(lgr_test_score)\n",
    "print(elapsed_time)"
   ]
  },
  {
   "cell_type": "markdown",
   "metadata": {},
   "source": [
    "# KNN"
   ]
  },
  {
   "cell_type": "code",
   "execution_count": 76,
   "metadata": {},
   "outputs": [
    {
     "name": "stdout",
     "output_type": "stream",
     "text": [
      "0.9244491080797481\n",
      "15\n",
      "Compute time: 0.03130545616149902\n",
      "Parameters of Max Test Score: {'n_neighbors': 15}\n",
      "Max Test Score: 0.924045044272715\n"
     ]
    }
   ],
   "source": [
    "params = {'n_neighbors': list(range(1, 22, 2))}\n",
    "\n",
    "knn_grid = GridSearchCV(KNeighborsClassifier(), param_grid=params)\n",
    "knn_grid.fit(X_tr_scaled, y_train)\n",
    "best_k = list(knn_grid.best_params_.values())[0]\n",
    "best_acc = knn_grid.score(X_ts_scaled, y_test)\n",
    "\n",
    "print(best_acc)\n",
    "print(best_k)\n",
    "\n",
    "df1 = pd.DataFrame(knn_grid.cv_results_)\n",
    "time1 = knn_grid.cv_results_['mean_fit_time'].sum()\n",
    "index1 = np.argmax(df1['mean_test_score'])\n",
    "\n",
    "print(f'Compute time: {time1}')\n",
    "print(f'Parameters of Max Test Score: {df1['params'][index1]}')\n",
    "print(f'Max Test Score: {df1['mean_test_score'][index1]}')\n"
   ]
  },
  {
   "cell_type": "code",
   "execution_count": 83,
   "metadata": {},
   "outputs": [
    {
     "name": "stdout",
     "output_type": "stream",
     "text": [
      "0.9334966748337417\n",
      "0.9244491080797481\n",
      "0.004988908767700195\n"
     ]
    }
   ],
   "source": [
    "start1 = time.time()\n",
    "knn_final = KNeighborsClassifier(n_neighbors=15).fit(X_tr_scaled, y_train)\n",
    "end1 = time.time()\n",
    "\n",
    "knn_train_score = knn_final.score(X_tr_scaled, y_train)\n",
    "knn_test_score = knn_final.score(X_ts_scaled,y_test)\n",
    "elapsed_time1 = end1 - start1\n",
    "\n",
    "print(knn_train_score)\n",
    "print(knn_test_score)\n",
    "print(elapsed_time1)"
   ]
  },
  {
   "cell_type": "markdown",
   "metadata": {},
   "source": [
    "# SVC"
   ]
  },
  {
   "cell_type": "code",
   "execution_count": 70,
   "metadata": {},
   "outputs": [],
   "source": [
    "params = {'kernel': ['rbf', 'poly', 'linear', 'sigmoid'],\n",
    "         'gamma': [0.1, 1.0, 10.0, 100.0],}\n",
    "\n",
    "grid = GridSearchCV(SVC(), param_grid=params).fit(X_tr_scaled, y_train)\n",
    "grid_score = grid.score(X_ts_scaled, y_test)"
   ]
  },
  {
   "cell_type": "code",
   "execution_count": 72,
   "metadata": {},
   "outputs": [
    {
     "name": "stdout",
     "output_type": "stream",
     "text": [
      "linear\n",
      "0.1\n"
     ]
    }
   ],
   "source": [
    "best_kernel = grid.best_params_['kernel']\n",
    "best_gamma = grid.best_params_['gamma']\n",
    "\n",
    "print(best_kernel)\n",
    "print(best_gamma)"
   ]
  },
  {
   "cell_type": "code",
   "execution_count": null,
   "metadata": {},
   "outputs": [],
   "source": [
    "#df2 = pd.DataFrame(grid.cv_results_)\n",
    "#time = grid.cv_results_['mean_fit_time'].sum()\n",
    "#index = np.argmax(df2['mean_test_score'])\n",
    "\n",
    "#print(f'Compute time: {time}')\n",
    "#print(f'Parameters of Max Test Score: {df2['params'][index]}')\n",
    "#print(f'Max Test Score: {df2['mean_test_score'][index]}')"
   ]
  },
  {
   "cell_type": "code",
   "execution_count": 82,
   "metadata": {},
   "outputs": [
    {
     "name": "stdout",
     "output_type": "stream",
     "text": [
      "0.9292964648232411\n",
      "0.9265477439664218\n",
      "0.04687809944152832\n"
     ]
    }
   ],
   "source": [
    "start2 = time.time()\n",
    "svc_final = SVC(kernel='linear', gamma=0.1).fit(X_tr_scaled, y_train)\n",
    "end2 = time.time()\n",
    "\n",
    "svc_train_score = svc_final.score(X_tr_scaled, y_train)\n",
    "svc_test_score = svc_final.score(X_ts_scaled,y_test)\n",
    "elapsed_time2 = end2 - start2\n",
    "\n",
    "print(svc_train_score)\n",
    "print(svc_test_score)\n",
    "print(elapsed_time2)\n"
   ]
  },
  {
   "cell_type": "markdown",
   "metadata": {
    "nbgrader": {
     "grade": false,
     "grade_id": "cell-9570e9b0d9b3b3a2",
     "locked": true,
     "schema_version": 3,
     "solution": false
    }
   },
   "source": [
    "### Problem 1\n",
    "\n",
    "#### DataFrame of modeling results\n",
    "\n",
    "Assign your constructed results DataFrame to `results_df` below.  Be sure that the `model` column above is the index of the DataFrame, and the three column names match the order and formatting of the example above."
   ]
  },
  {
   "cell_type": "code",
   "execution_count": 85,
   "metadata": {
    "nbgrader": {
     "grade": false,
     "grade_id": "cell-c2a5ca74d8cdd115",
     "locked": false,
     "schema_version": 3,
     "solution": true
    }
   },
   "outputs": [
    {
     "name": "stdout",
     "output_type": "stream",
     "text": [
      "<class 'pandas.core.frame.DataFrame'>\n",
      "(3, 3)\n"
     ]
    }
   ],
   "source": [
    "### GRADED\n",
    "results_df = ''\n",
    "\n",
    "    \n",
    "### BEGIN SOLUTION\n",
    "res_dict = {'model': ['KNN', 'Logistic Regression', 'SVC'],\n",
    "           'train score': [0.9334966748337417, 0.928596429821491, 0.9292964648232411],\n",
    "           'test score': [0.9244491080797481, 0.9265477439664218, 0.9265477439664218],\n",
    "           'average fit time': [0.004988908767700195, 0.00797891616821289, 0.04687809944152832]}\n",
    "results_df = pd.DataFrame(res_dict).set_index('model')\n",
    "### END SOLUTION\n",
    "\n",
    "### ANSWER CHECK\n",
    "print(type(results_df))\n",
    "print(results_df.shape)"
   ]
  },
  {
   "cell_type": "code",
   "execution_count": 3,
   "metadata": {
    "nbgrader": {
     "grade": true,
     "grade_id": "cell-a55e4dfa02723bd0",
     "locked": true,
     "points": 50,
     "schema_version": 3,
     "solution": false
    }
   },
   "outputs": [],
   "source": [
    "### BEGIN HIDDEN TESTS\n",
    "res_dict_ = {'model': ['KNN', 'Logistic Regression', 'SVC'],\n",
    "           'train score': [0, 0, 0],\n",
    "           'test score': [0, 0, 0],\n",
    "           'average fit time': [0, 0, 0]}\n",
    "results_df_ = pd.DataFrame(res_dict_).set_index('model')\n",
    "#\n",
    "#\n",
    "#\n",
    "assert results_df.shape == results_df_.shape\n",
    "assert type(results_df) == type(results_df_)\n",
    "### END HIDDEN TESTS"
   ]
  }
 ],
 "metadata": {
  "celltoolbar": "Create Assignment",
  "kernelspec": {
   "display_name": "Python 3 (ipykernel)",
   "language": "python",
   "name": "python3"
  },
  "language_info": {
   "codemirror_mode": {
    "name": "ipython",
    "version": 3
   },
   "file_extension": ".py",
   "mimetype": "text/x-python",
   "name": "python",
   "nbconvert_exporter": "python",
   "pygments_lexer": "ipython3",
   "version": "3.12.2"
  },
  "vscode": {
   "interpreter": {
    "hash": "aee8b7b246df8f9039afb4144a1f6fd8d2ca17a180786b69acc140d282b71a49"
   }
  }
 },
 "nbformat": 4,
 "nbformat_minor": 4
}
